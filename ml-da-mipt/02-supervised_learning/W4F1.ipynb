{
 "cells": [
  {
   "cell_type": "code",
   "execution_count": 17,
   "metadata": {},
   "outputs": [],
   "source": [
    "from sklearn import datasets\n",
    "from sklearn.model_selection import cross_val_score\n",
    "from sklearn.tree import DecisionTreeClassifier\n",
    "from sklearn.ensemble import BaggingClassifier, RandomForestClassifier\n",
    "import math"
   ]
  },
  {
   "cell_type": "code",
   "execution_count": 7,
   "metadata": {},
   "outputs": [],
   "source": [
    "digits = datasets.load_digits()\n",
    "X = digits.data\n",
    "y = digits.target\n",
    "cv = 10"
   ]
  },
  {
   "cell_type": "code",
   "execution_count": 10,
   "metadata": {},
   "outputs": [
    {
     "name": "stdout",
     "output_type": "stream",
     "text": [
      "0.8337088625534739\n"
     ]
    }
   ],
   "source": [
    "clf = DecisionTreeClassifier()\n",
    "ans1 = cross_val_score(clf, X, y, cv=cv).mean()\n",
    "print ans1"
   ]
  },
  {
   "cell_type": "code",
   "execution_count": 12,
   "metadata": {},
   "outputs": [
    {
     "name": "stdout",
     "output_type": "stream",
     "text": [
      "0.9237626366559892\n"
     ]
    }
   ],
   "source": [
    "bclf = BaggingClassifier(n_estimators=100)\n",
    "ans2 = cross_val_score(bclf, X, y, cv=cv).mean()\n",
    "print ans2"
   ]
  },
  {
   "cell_type": "code",
   "execution_count": 15,
   "metadata": {},
   "outputs": [
    {
     "name": "stdout",
     "output_type": "stream",
     "text": [
      "0.9325999478487201\n"
     ]
    }
   ],
   "source": [
    "bclf = BaggingClassifier(n_estimators=100, max_features=int(math.sqrt(X.shape[1])))\n",
    "ans3 = cross_val_score(bclf, X, y, cv=cv).mean()\n",
    "print ans3"
   ]
  },
  {
   "cell_type": "code",
   "execution_count": 16,
   "metadata": {},
   "outputs": [
    {
     "name": "stdout",
     "output_type": "stream",
     "text": [
      "0.950609063690754\n"
     ]
    }
   ],
   "source": [
    "bclf = BaggingClassifier(base_estimator=DecisionTreeClassifier(max_features='sqrt'), n_estimators=100)\n",
    "ans4 = cross_val_score(bclf, X, y, cv=cv).mean()\n",
    "print ans4"
   ]
  },
  {
   "cell_type": "code",
   "execution_count": 21,
   "metadata": {},
   "outputs": [
    {
     "name": "stdout",
     "output_type": "stream",
     "text": [
      "0.9555524130781337\n"
     ]
    }
   ],
   "source": [
    "rfclf = RandomForestClassifier(n_estimators=100)\n",
    "ans5 = cross_val_score(rfclf, X, y, cv=cv).mean()\n",
    "print ans5"
   ]
  },
  {
   "cell_type": "code",
   "execution_count": null,
   "metadata": {},
   "outputs": [],
   "source": [
    "ans5 = [2 3 4 7]"
   ]
  }
 ],
 "metadata": {
  "kernelspec": {
   "display_name": "Python 2",
   "language": "python",
   "name": "python2"
  },
  "language_info": {
   "codemirror_mode": {
    "name": "ipython",
    "version": 2
   },
   "file_extension": ".py",
   "mimetype": "text/x-python",
   "name": "python",
   "nbconvert_exporter": "python",
   "pygments_lexer": "ipython2",
   "version": "2.7.15"
  }
 },
 "nbformat": 4,
 "nbformat_minor": 2
}
