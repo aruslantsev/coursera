{
 "cells": [
  {
   "cell_type": "markdown",
   "metadata": {},
   "source": [
    "<center>\n",
    "<img src=\"https://habrastorage.org/web/677/8e1/337/6778e1337c3d4b159d7e99df94227cb2.jpg\"/>\n",
    "## Специализация \"Машинное обучение и анализ данных\"\n",
    "<center>Автор материала: программист-исследователь Mail.Ru Group, старший преподаватель Факультета Компьютерных Наук ВШЭ [Юрий Кашницкий](https://yorko.github.io/)"
   ]
  },
  {
   "cell_type": "markdown",
   "metadata": {},
   "source": [
    "# <center> Capstone проект №1 <br> Идентификация пользователей по посещенным веб-страницам\n",
    "<img src='http://i.istockimg.com/file_thumbview_approve/21546327/5/stock-illustration-21546327-identification-de-l-utilisateur.jpg'>\n",
    "\n",
    "# <center>Неделя 4.  Сравнение алгоритмов классификации\n",
    "\n",
    "Теперь мы наконец подойдем к обучению моделей классификации, сравним на кросс-валидации несколько алгоритмов, разберемся, какие параметры длины сессии (*session_length* и *window_size*) лучше использовать. Также для выбранного алгоритма построим кривые валидации (как качество классификации зависит от одного из гиперпараметров алгоритма) и кривые обучения (как качество классификации зависит от объема выборки).\n",
    "\n",
    "**План 4 недели:**\n",
    "- Часть 1. Сравнение нескольких алгоритмов на сессиях из 10 сайтов\n",
    "- Часть 2. Выбор параметров – длины сессии и ширины окна\n",
    "- Часть 3. Идентификация  конкретного пользователя и кривые обучения\n",
    " \n",
    "\n",
    "\n",
    "**В этой части проекта Вам могут быть полезны видеозаписи следующих лекций курса \"Обучение на размеченных данных\":**\n",
    "   - [Линейная классификация](https://www.coursera.org/learn/supervised-learning/lecture/jqLcO/linieinaia-klassifikatsiia)\n",
    "   - [Сравнение алгоритмов и выбор гиперпараметров](https://www.coursera.org/learn/supervised-learning/lecture/aF79U/sravnieniie-alghoritmov-i-vybor-ghipierparamietrov)\n",
    "   - [Кросс-валидация. Sklearn.cross_validation](https://www.coursera.org/learn/supervised-learning/lecture/XbHEk/kross-validatsiia-sklearn-cross-validation)\n",
    "   - [Линейные модели. Sklearn.linear_model. Классификация](https://www.coursera.org/learn/supervised-learning/lecture/EBg9t/linieinyie-modieli-sklearn-linear-model-klassifikatsiia)\n",
    "   - и многие другие\n"
   ]
  },
  {
   "cell_type": "markdown",
   "metadata": {},
   "source": [
    "### Задание\n",
    "1. Заполните код в этой тетрадке \n",
    "2. Если вы проходите специализацию Яндеса и МФТИ, пошлите файл с ответами в соответствующем Programming Assignment. <br> Если вы проходите курс ODS, выберите ответы в [веб-форме](https://docs.google.com/forms/d/12VB7kmzDoSVzSpQNaJp0tR-2t8K8PynQopP3dypf7i4).  "
   ]
  },
  {
   "cell_type": "code",
   "execution_count": 1,
   "metadata": {},
   "outputs": [],
   "source": [
    "# pip install watermark\n",
    "%load_ext watermark"
   ]
  },
  {
   "cell_type": "code",
   "execution_count": 2,
   "metadata": {},
   "outputs": [
    {
     "name": "stdout",
     "output_type": "stream",
     "text": [
      "CPython 3.7.7\n",
      "IPython 7.13.0\n",
      "\n",
      "numpy 1.18.1\n",
      "scipy 1.4.1\n",
      "pandas 1.0.3\n",
      "matplotlib 3.1.3\n",
      "statsmodels 0.11.1\n",
      "sklearn 0.22.1\n",
      "\n",
      "compiler   : GCC 7.3.0\n",
      "system     : Linux\n",
      "release    : 5.4.48-gentoo-x86_64\n",
      "machine    : x86_64\n",
      "processor  : Intel(R) Core(TM) i7-8650U CPU @ 1.90GHz\n",
      "CPU cores  : 8\n",
      "interpreter: 64bit\n",
      "Git hash   :\n"
     ]
    }
   ],
   "source": [
    "%watermark -v -m -p numpy,scipy,pandas,matplotlib,statsmodels,sklearn -g"
   ]
  },
  {
   "cell_type": "code",
   "execution_count": 3,
   "metadata": {},
   "outputs": [],
   "source": [
    "from __future__ import division, print_function\n",
    "# отключим всякие предупреждения Anaconda\n",
    "import warnings\n",
    "warnings.filterwarnings('ignore')\n",
    "from time import time\n",
    "import itertools\n",
    "import os\n",
    "import numpy as np\n",
    "import pandas as pd\n",
    "import seaborn as sns\n",
    "%matplotlib inline\n",
    "from matplotlib import pyplot as plt\n",
    "import pickle\n",
    "from scipy.sparse import csr_matrix\n",
    "from sklearn.model_selection import train_test_split, cross_val_score, StratifiedKFold, GridSearchCV\n",
    "from sklearn.metrics import accuracy_score, f1_score"
   ]
  },
  {
   "cell_type": "code",
   "execution_count": 4,
   "metadata": {},
   "outputs": [],
   "source": [
    "# Поменяйте на свой путь к данным\n",
    "PATH_TO_DATA = 'capstone_user_identification'"
   ]
  },
  {
   "cell_type": "markdown",
   "metadata": {},
   "source": [
    "## Часть 1. Сравнение нескольких алгоритмов на сессиях из 10 сайтов"
   ]
  },
  {
   "cell_type": "markdown",
   "metadata": {},
   "source": [
    "**Загрузим сериализованные ранее объекты *X_sparse_10users* и *y_10users*, соответствующие обучающей выборке для 10 пользователей.**"
   ]
  },
  {
   "cell_type": "code",
   "execution_count": 5,
   "metadata": {},
   "outputs": [],
   "source": [
    "with open(os.path.join(PATH_TO_DATA, \n",
    "         'X_sparse_10users.pkl'), 'rb') as X_sparse_10users_pkl:\n",
    "    X_sparse_10users = pickle.load(X_sparse_10users_pkl)\n",
    "with open(os.path.join(PATH_TO_DATA, \n",
    "                       'y_10users.pkl'), 'rb') as y_10users_pkl:\n",
    "    y_10users = pickle.load(y_10users_pkl)"
   ]
  },
  {
   "cell_type": "markdown",
   "metadata": {},
   "source": [
    "**Здесь более 14 тысяч сессий и почти 5 тысяч уникальных посещенных сайтов.**"
   ]
  },
  {
   "cell_type": "code",
   "execution_count": 6,
   "metadata": {},
   "outputs": [
    {
     "data": {
      "text/plain": [
       "(14061, 4913)"
      ]
     },
     "execution_count": 6,
     "metadata": {},
     "output_type": "execute_result"
    }
   ],
   "source": [
    "X_sparse_10users.shape"
   ]
  },
  {
   "cell_type": "markdown",
   "metadata": {},
   "source": [
    "**Разобьем выборку на 2 части. На одной будем проводить кросс-валидацию, на второй – оценивать модель, обученную после кросс-валидации.**"
   ]
  },
  {
   "cell_type": "code",
   "execution_count": 7,
   "metadata": {},
   "outputs": [],
   "source": [
    "X_train, X_valid, y_train, y_valid = train_test_split(X_sparse_10users, y_10users, \n",
    "                                                      test_size=0.3, \n",
    "                                                     random_state=17, stratify=y_10users)"
   ]
  },
  {
   "cell_type": "markdown",
   "metadata": {},
   "source": [
    "**Зададим заранее тип кросс-валидации: 3-кратная, с перемешиванием, параметр random_state=17 – для воспроизводимости.**"
   ]
  },
  {
   "cell_type": "code",
   "execution_count": 8,
   "metadata": {},
   "outputs": [],
   "source": [
    "skf = StratifiedKFold(n_splits=3, shuffle=True, random_state=17)"
   ]
  },
  {
   "cell_type": "markdown",
   "metadata": {},
   "source": [
    "**Вспомогательная функция для отрисовки кривых валидации после запуска GridSearchCV (или RandomizedCV).**"
   ]
  },
  {
   "cell_type": "code",
   "execution_count": 9,
   "metadata": {},
   "outputs": [],
   "source": [
    "def plot_validation_curves(param_values, grid_cv_results_):\n",
    "    train_mu, train_std = grid_cv_results_['mean_train_score'], grid_cv_results_['std_train_score']\n",
    "    valid_mu, valid_std = grid_cv_results_['mean_test_score'], grid_cv_results_['std_test_score']\n",
    "    train_line = plt.plot(param_values, train_mu, '-', label='train', color='green')\n",
    "    valid_line = plt.plot(param_values, valid_mu, '-', label='test', color='red')\n",
    "    plt.fill_between(param_values, train_mu - train_std, train_mu + train_std, edgecolor='none',\n",
    "                     facecolor=train_line[0].get_color(), alpha=0.2)\n",
    "    plt.fill_between(param_values, valid_mu - valid_std, valid_mu + valid_std, edgecolor='none',\n",
    "                     facecolor=valid_line[0].get_color(), alpha=0.2)\n",
    "    plt.legend()"
   ]
  },
  {
   "cell_type": "markdown",
   "metadata": {},
   "source": [
    "**1. Обучите `KNeighborsClassifier` со 100 ближайшими соседями (остальные параметры оставьте по умолчанию, только `n_jobs`=-1 для распараллеливания) и посмотрите на долю правильных ответов на 3-кратной кросс-валидации (ради воспроизводимости используйте для этого объект `StratifiedKFold` `skf`) по выборке `(X_train, y_train)` и отдельно на выборке `(X_valid, y_valid)`.**"
   ]
  },
  {
   "cell_type": "code",
   "execution_count": 10,
   "metadata": {},
   "outputs": [],
   "source": [
    "from sklearn.neighbors import KNeighborsClassifier"
   ]
  },
  {
   "cell_type": "code",
   "execution_count": 11,
   "metadata": {},
   "outputs": [],
   "source": [
    "knn = KNeighborsClassifier(n_neighbors=100, n_jobs=-1)"
   ]
  },
  {
   "cell_type": "markdown",
   "metadata": {},
   "source": [
    "**<font color='red'>Вопрос 1. </font> Посчитайте доли правильных ответов для KNeighborsClassifier на кросс-валидации и отложенной выборке. Округлите каждое до 3 знаков после запятой и введите через пробел.**"
   ]
  },
  {
   "cell_type": "code",
   "execution_count": 12,
   "metadata": {},
   "outputs": [],
   "source": [
    "cv_score = cross_val_score(estimator=knn, X=X_train.todense(), y=y_train, cv=skf).mean()"
   ]
  },
  {
   "cell_type": "code",
   "execution_count": 13,
   "metadata": {},
   "outputs": [],
   "source": [
    "knn.fit(X=X_train.todense(), y=y_train)\n",
    "y_pred = knn.predict(X=X_valid.todense())\n",
    "knn_score = accuracy_score(y_true=y_valid, y_pred=y_pred)"
   ]
  },
  {
   "cell_type": "code",
   "execution_count": 14,
   "metadata": {},
   "outputs": [
    {
     "data": {
      "text/plain": [
       "'0.563 0.587'"
      ]
     },
     "execution_count": 14,
     "metadata": {},
     "output_type": "execute_result"
    }
   ],
   "source": [
    "ans = f'{np.round(cv_score, 3)} {np.round(knn_score, 3)}'\n",
    "ans"
   ]
  },
  {
   "cell_type": "code",
   "execution_count": 15,
   "metadata": {},
   "outputs": [],
   "source": [
    "with open('answer4_1.txt', 'w') as file:\n",
    "    file.write(ans)"
   ]
  },
  {
   "cell_type": "markdown",
   "metadata": {},
   "source": [
    "**2. Обучите случайный лес (`RandomForestClassifier`) из 100 деревьев (для воспроизводимости `random_state`=17). Посмотрите на OOB-оценку (для этого надо сразу установить `oob_score`=True) и на долю правильных ответов на выборке `(X_valid, y_valid)`. Для распараллеливания задайте `n_jobs`=-1.**"
   ]
  },
  {
   "cell_type": "code",
   "execution_count": 16,
   "metadata": {},
   "outputs": [],
   "source": [
    "from sklearn.ensemble import RandomForestClassifier"
   ]
  },
  {
   "cell_type": "code",
   "execution_count": 17,
   "metadata": {},
   "outputs": [],
   "source": [
    "forest = RandomForestClassifier(n_estimators=100, random_state=17, n_jobs=-1, oob_score=True)"
   ]
  },
  {
   "cell_type": "code",
   "execution_count": 18,
   "metadata": {},
   "outputs": [
    {
     "data": {
      "text/plain": [
       "RandomForestClassifier(bootstrap=True, ccp_alpha=0.0, class_weight=None,\n",
       "                       criterion='gini', max_depth=None, max_features='auto',\n",
       "                       max_leaf_nodes=None, max_samples=None,\n",
       "                       min_impurity_decrease=0.0, min_impurity_split=None,\n",
       "                       min_samples_leaf=1, min_samples_split=2,\n",
       "                       min_weight_fraction_leaf=0.0, n_estimators=100,\n",
       "                       n_jobs=-1, oob_score=True, random_state=17, verbose=0,\n",
       "                       warm_start=False)"
      ]
     },
     "execution_count": 18,
     "metadata": {},
     "output_type": "execute_result"
    }
   ],
   "source": [
    "forest.fit(X_train, y_train)"
   ]
  },
  {
   "cell_type": "code",
   "execution_count": 19,
   "metadata": {},
   "outputs": [
    {
     "data": {
      "text/plain": [
       "0.7238366185734607"
      ]
     },
     "execution_count": 19,
     "metadata": {},
     "output_type": "execute_result"
    }
   ],
   "source": [
    "oob = forest.oob_score_\n",
    "oob"
   ]
  },
  {
   "cell_type": "code",
   "execution_count": 20,
   "metadata": {},
   "outputs": [],
   "source": [
    "y_pred = forest.predict(X_valid)\n",
    "val_score = accuracy_score(y_true=y_valid, y_pred=y_pred)"
   ]
  },
  {
   "cell_type": "code",
   "execution_count": 21,
   "metadata": {},
   "outputs": [
    {
     "data": {
      "text/plain": [
       "'0.724 0.731'"
      ]
     },
     "execution_count": 21,
     "metadata": {},
     "output_type": "execute_result"
    }
   ],
   "source": [
    "ans = f'{np.round(oob, 3)} {np.round(val_score, 3)}'\n",
    "ans"
   ]
  },
  {
   "cell_type": "markdown",
   "metadata": {},
   "source": [
    "**<font color='red'>Вопрос 2. </font> Посчитайте доли правильных ответов для `RandomForestClassifier` при Out-of-Bag оценке и на отложенной выборке. Округлите каждое до 3 знаков после запятой и введите через пробел.**"
   ]
  },
  {
   "cell_type": "code",
   "execution_count": 22,
   "metadata": {},
   "outputs": [],
   "source": [
    "with open('answer4_2.txt', 'w') as file:\n",
    "    file.write(ans)"
   ]
  },
  {
   "cell_type": "code",
   "execution_count": 23,
   "metadata": {},
   "outputs": [
    {
     "name": "stdout",
     "output_type": "stream",
     "text": [
      "0.724 0.731"
     ]
    }
   ],
   "source": [
    "!cat answer4_2.txt"
   ]
  },
  {
   "cell_type": "markdown",
   "metadata": {},
   "source": [
    "**3. Обучите логистическую регрессию (`LogisticRegression`) с параметром `C` по умолчанию и `random_state`=17 (для воспроизводимости). Посмотрите на долю правильных ответов на кросс-валидации (используйте объект `skf`, созданный ранее) и на выборке `(X_valid, y_valid)`. Для распараллеливания задайте `n_jobs=-1`.**"
   ]
  },
  {
   "cell_type": "code",
   "execution_count": 24,
   "metadata": {},
   "outputs": [],
   "source": [
    "from sklearn.linear_model import LogisticRegression, LogisticRegressionCV"
   ]
  },
  {
   "cell_type": "code",
   "execution_count": 25,
   "metadata": {},
   "outputs": [],
   "source": [
    "logit = LogisticRegression(random_state=17, n_jobs=-1)"
   ]
  },
  {
   "cell_type": "code",
   "execution_count": 26,
   "metadata": {},
   "outputs": [],
   "source": [
    "cv_score = cross_val_score(estimator=logit, X=X_train, y=y_train, cv=skf).mean()"
   ]
  },
  {
   "cell_type": "code",
   "execution_count": 27,
   "metadata": {},
   "outputs": [],
   "source": [
    "logit.fit(X=X_train, y=y_train)\n",
    "y_pred = logit.predict(X=X_valid)\n",
    "val_score = accuracy_score(y_true=y_valid, y_pred=y_pred)"
   ]
  },
  {
   "cell_type": "code",
   "execution_count": 28,
   "metadata": {},
   "outputs": [
    {
     "data": {
      "text/plain": [
       "'0.761 0.777'"
      ]
     },
     "execution_count": 28,
     "metadata": {},
     "output_type": "execute_result"
    }
   ],
   "source": [
    "ans = f'{np.round(cv_score, 3)} {np.round(val_score, 3)}'\n",
    "ans"
   ]
  },
  {
   "cell_type": "code",
   "execution_count": 29,
   "metadata": {},
   "outputs": [],
   "source": [
    "with open('answer4_3.txt', 'w') as file:\n",
    "    file.write(ans)"
   ]
  },
  {
   "cell_type": "markdown",
   "metadata": {},
   "source": [
    "**Почитайте документацию к [LogisticRegressionCV](http://scikit-learn.org/stable/modules/generated/sklearn.linear_model.LogisticRegressionCV.html). Логистическая регрессия хорошо изучена, и для нее существуют алгоритмы быстрого подбора параметра регуляризации `C` (быстрее, чем с `GridSearchCV`).**\n",
    "\n",
    "**С помощью `LogisticRegressionCV` подберите параметр `C` для `LogisticRegression` сначала в широком диапазоне: 10 значений от 1e-4 до 1e2, используйте `logspace` из `NumPy`. Укажите у `LogisticRegressionCV` параметры `multi_class`='multinomial' и `random_state`=17. Для кросс-валидации используйте объект `skf`, созданный ранее. Для распараллеливания задайте `n_jobs=-1`.**\n",
    "\n",
    "**Нарисуйте кривые валидации по параметру `C`.**"
   ]
  },
  {
   "cell_type": "code",
   "execution_count": 30,
   "metadata": {},
   "outputs": [
    {
     "name": "stdout",
     "output_type": "stream",
     "text": [
      "CPU times: user 1min 7s, sys: 898 ms, total: 1min 8s\n",
      "Wall time: 17.1 s\n"
     ]
    },
    {
     "data": {
      "text/plain": [
       "LogisticRegressionCV(Cs=array([1.00000000e-04, 4.64158883e-04, 2.15443469e-03, 1.00000000e-02,\n",
       "       4.64158883e-02, 2.15443469e-01, 1.00000000e+00, 4.64158883e+00,\n",
       "       2.15443469e+01, 1.00000000e+02]),\n",
       "                     class_weight=None,\n",
       "                     cv=StratifiedKFold(n_splits=3, random_state=17, shuffle=True),\n",
       "                     dual=False, fit_intercept=True, intercept_scaling=1.0,\n",
       "                     l1_ratios=None, max_iter=100, multi_class='multinomial',\n",
       "                     n_jobs=None, penalty='l2', random_state=17, refit=True,\n",
       "                     scoring=None, solver='lbfgs', tol=0.0001, verbose=0)"
      ]
     },
     "execution_count": 30,
     "metadata": {},
     "output_type": "execute_result"
    }
   ],
   "source": [
    "%%time\n",
    "logit_c_values1 = np.logspace(-4, 2, 10)\n",
    "\n",
    "# logit_grid_searcher1 = LogisticRegressionCV(Cs=logit_c_values1, cv=skf, random_state=17, n_jobs=-1, multi_class='multinomial')\n",
    "logit_grid_searcher1 = LogisticRegressionCV(Cs=logit_c_values1, cv=skf, multi_class='multinomial', random_state=17)\n",
    "logit_grid_searcher1.fit(X_train, y_train)"
   ]
  },
  {
   "cell_type": "markdown",
   "metadata": {},
   "source": [
    "Средние значения доли правильных ответов на кросс-валидации по каждому из 10 параметров `C`."
   ]
  },
  {
   "cell_type": "code",
   "execution_count": 31,
   "metadata": {},
   "outputs": [],
   "source": [
    "scores1 = [logit_grid_searcher1.scores_[i][j] \n",
    "           for i in logit_grid_searcher1.scores_\n",
    "           for j in range(len(logit_grid_searcher1.scores_[i]))]\n",
    "logit_mean_cv_scores1 = np.asarray(scores1).mean(axis=0)"
   ]
  },
  {
   "cell_type": "code",
   "execution_count": 32,
   "metadata": {},
   "outputs": [
    {
     "data": {
      "text/plain": [
       "array([0.31954964, 0.47307397, 0.55202236, 0.64875035, 0.71438846,\n",
       "       0.75177962, 0.76102545, 0.75879029, 0.74944244, 0.74131409])"
      ]
     },
     "execution_count": 32,
     "metadata": {},
     "output_type": "execute_result"
    }
   ],
   "source": [
    "logit_mean_cv_scores1"
   ]
  },
  {
   "cell_type": "markdown",
   "metadata": {},
   "source": [
    "Выведите лучшее значение доли правильных ответов на кросс-валидации и соответствующее значение `C`."
   ]
  },
  {
   "cell_type": "code",
   "execution_count": 33,
   "metadata": {},
   "outputs": [
    {
     "data": {
      "text/plain": [
       "0.7610254470801336"
      ]
     },
     "execution_count": 33,
     "metadata": {},
     "output_type": "execute_result"
    }
   ],
   "source": [
    "max_score = max(logit_mean_cv_scores1)\n",
    "max_score"
   ]
  },
  {
   "cell_type": "code",
   "execution_count": 34,
   "metadata": {},
   "outputs": [
    {
     "data": {
      "text/plain": [
       "1.0"
      ]
     },
     "execution_count": 34,
     "metadata": {},
     "output_type": "execute_result"
    }
   ],
   "source": [
    "logit_grid_searcher1.Cs_[logit_mean_cv_scores1.argmax()]"
   ]
  },
  {
   "cell_type": "markdown",
   "metadata": {},
   "source": [
    "Нарисуйте график зависимости доли правильных ответов на кросс-валидации от `C`."
   ]
  },
  {
   "cell_type": "code",
   "execution_count": 35,
   "metadata": {},
   "outputs": [
    {
     "data": {
      "image/png": "[encoded data removed]",
      "text/plain": [
       "<Figure size 432x288 with 1 Axes>"
      ]
     },
     "metadata": {
      "needs_background": "light"
     },
     "output_type": "display_data"
    }
   ],
   "source": [
    "plt.plot(logit_c_values1, logit_mean_cv_scores1);"
   ]
  },
  {
   "cell_type": "markdown",
   "metadata": {},
   "source": [
    "**Теперь то же самое, только значения параметра `C` перебирайте в диапазоне `np.linspace`(0.1, 7, 20). Опять нарисуйте кривые валидации, определите максимальное значение доли правильных ответов на кросс-валидации.**"
   ]
  },
  {
   "cell_type": "code",
   "execution_count": 36,
   "metadata": {},
   "outputs": [
    {
     "name": "stdout",
     "output_type": "stream",
     "text": [
      "CPU times: user 3min 46s, sys: 3.29 s, total: 3min 49s\n",
      "Wall time: 57.5 s\n"
     ]
    },
    {
     "data": {
      "text/plain": [
       "LogisticRegressionCV(Cs=array([0.1       , 0.46315789, 0.82631579, 1.18947368, 1.55263158,\n",
       "       1.91578947, 2.27894737, 2.64210526, 3.00526316, 3.36842105,\n",
       "       3.73157895, 4.09473684, 4.45789474, 4.82105263, 5.18421053,\n",
       "       5.54736842, 5.91052632, 6.27368421, 6.63684211, 7.        ]),\n",
       "                     class_weight=None,\n",
       "                     cv=StratifiedKFold(n_splits=3, random_state=17, shuffle=True),\n",
       "                     dual=False, fit_intercept=True, intercept_scaling=1.0,\n",
       "                     l1_ratios=None, max_iter=100, multi_class='multinomial',\n",
       "                     n_jobs=None, penalty='l2', random_state=17, refit=True,\n",
       "                     scoring=None, solver='lbfgs', tol=0.0001, verbose=0)"
      ]
     },
     "execution_count": 36,
     "metadata": {},
     "output_type": "execute_result"
    }
   ],
   "source": [
    "%%time\n",
    "logit_c_values2 = np.linspace(0.1, 7, 20)\n",
    "\n",
    "logit_grid_searcher2 = LogisticRegressionCV(Cs=logit_c_values2, cv=skf, multi_class='multinomial', random_state=17)\n",
    "logit_grid_searcher2.fit(X_train, y_train)"
   ]
  },
  {
   "cell_type": "markdown",
   "metadata": {},
   "source": [
    "Средние значения доли правильных ответов на кросс-валидации по каждому из 10 параметров `C`."
   ]
  },
  {
   "cell_type": "code",
   "execution_count": 37,
   "metadata": {},
   "outputs": [
    {
     "data": {
      "text/plain": [
       "array([0.73481117, 0.75939974, 0.7612287 , 0.76072057, 0.76102539,\n",
       "       0.76153355, 0.76000937, 0.75939971, 0.75970453, 0.75919655,\n",
       "       0.75919661, 0.75848539, 0.75787581, 0.75736787, 0.75716462,\n",
       "       0.75604698, 0.75523422, 0.75482781, 0.75401499, 0.7532021 ])"
      ]
     },
     "execution_count": 37,
     "metadata": {},
     "output_type": "execute_result"
    }
   ],
   "source": [
    "scores2 = [logit_grid_searcher2.scores_[i][j] \n",
    "           for i in logit_grid_searcher2.scores_\n",
    "           for j in range(len(logit_grid_searcher2.scores_[i]))]\n",
    "logit_mean_cv_scores2 = np.asarray(scores2).mean(axis=0)\n",
    "logit_mean_cv_scores2"
   ]
  },
  {
   "cell_type": "markdown",
   "metadata": {},
   "source": [
    "Выведите лучшее значение доли правильных ответов на кросс-валидации и соответствующее значение `C`."
   ]
  },
  {
   "cell_type": "code",
   "execution_count": 38,
   "metadata": {},
   "outputs": [
    {
     "data": {
      "text/plain": [
       "0.7615335461873364"
      ]
     },
     "execution_count": 38,
     "metadata": {},
     "output_type": "execute_result"
    }
   ],
   "source": [
    "max_score = max(logit_mean_cv_scores2)\n",
    "max_score"
   ]
  },
  {
   "cell_type": "markdown",
   "metadata": {},
   "source": [
    "Нарисуйте график зависимости доли правильных ответов на кросс-валидации от `C`."
   ]
  },
  {
   "cell_type": "code",
   "execution_count": 39,
   "metadata": {},
   "outputs": [
    {
     "data": {
      "text/plain": [
       "1.9157894736842107"
      ]
     },
     "execution_count": 39,
     "metadata": {},
     "output_type": "execute_result"
    }
   ],
   "source": [
    "logit_grid_searcher2.Cs_[logit_mean_cv_scores2.argmax()]"
   ]
  },
  {
   "cell_type": "code",
   "execution_count": 40,
   "metadata": {},
   "outputs": [
    {
     "data": {
      "image/png": "[encoded data removed]",
      "text/plain": [
       "<Figure size 432x288 with 1 Axes>"
      ]
     },
     "metadata": {
      "needs_background": "light"
     },
     "output_type": "display_data"
    }
   ],
   "source": [
    "plt.plot(logit_c_values2, logit_mean_cv_scores2);"
   ]
  },
  {
   "cell_type": "markdown",
   "metadata": {},
   "source": [
    "Выведите долю правильных ответов на выборке `(X_valid, y_valid)` для логистической регрессии с лучшим найденным значением `C`."
   ]
  },
  {
   "cell_type": "code",
   "execution_count": 41,
   "metadata": {},
   "outputs": [
    {
     "data": {
      "text/plain": [
       "0.7790945721735009"
      ]
     },
     "execution_count": 41,
     "metadata": {},
     "output_type": "execute_result"
    }
   ],
   "source": [
    "logit_cv_acc = accuracy_score(y_valid, logit_grid_searcher2.predict(X_valid))\n",
    "logit_cv_acc"
   ]
  },
  {
   "cell_type": "markdown",
   "metadata": {},
   "source": [
    "**<font color='red'>Вопрос 3. </font>Посчитайте доли правильных ответов для `logit_grid_searcher2` на кросс-валидации для лучшего значения параметра `C` и на отложенной выборке. Округлите каждое до 3 знаков после запятой и выведите через пробел.**"
   ]
  },
  {
   "cell_type": "code",
   "execution_count": 42,
   "metadata": {},
   "outputs": [
    {
     "data": {
      "text/plain": [
       "'0.762 0.779'"
      ]
     },
     "execution_count": 42,
     "metadata": {},
     "output_type": "execute_result"
    }
   ],
   "source": [
    "ans = str(round((np.max(logit_mean_cv_scores2)), 3)) + ' ' + str(round(logit_cv_acc, 3))\n",
    "ans"
   ]
  },
  {
   "cell_type": "code",
   "execution_count": 43,
   "metadata": {},
   "outputs": [],
   "source": [
    "with open('answer4_4.txt', 'w') as file:\n",
    "    file.write(ans)"
   ]
  },
  {
   "cell_type": "markdown",
   "metadata": {},
   "source": [
    "**4. Обучите линейный SVM (`LinearSVC`) с параметром `C`=1 и `random_state`=17 (для воспроизводимости). Посмотрите на долю правильных ответов на кросс-валидации (используйте объект `skf`, созданный ранее) и на выборке `(X_valid, y_valid)`.**"
   ]
  },
  {
   "cell_type": "code",
   "execution_count": 44,
   "metadata": {},
   "outputs": [],
   "source": [
    "from sklearn.svm import LinearSVC"
   ]
  },
  {
   "cell_type": "code",
   "execution_count": 45,
   "metadata": {},
   "outputs": [],
   "source": [
    "svm = LinearSVC(C=1, random_state=17)"
   ]
  },
  {
   "cell_type": "code",
   "execution_count": 46,
   "metadata": {},
   "outputs": [],
   "source": [
    "cv_score = cross_val_score(estimator=svm, X=X_train, y=y_train, cv=skf).mean()"
   ]
  },
  {
   "cell_type": "code",
   "execution_count": 47,
   "metadata": {},
   "outputs": [],
   "source": [
    "svm.fit(X=X_train, y=y_train)\n",
    "y_pred = svm.predict(X=X_valid)\n",
    "val_score = accuracy_score(y_true=y_valid, y_pred=y_pred)"
   ]
  },
  {
   "cell_type": "code",
   "execution_count": 48,
   "metadata": {},
   "outputs": [
    {
     "name": "stdout",
     "output_type": "stream",
     "text": [
      "0.751 0.777\n"
     ]
    }
   ],
   "source": [
    "ans = f'{np.round(cv_score, 3)} {np.round(val_score, 3)}'\n",
    "print(ans)\n",
    "# with open('answer4_5.txt', 'w') as file:\n",
    "#     file.write(ans)"
   ]
  },
  {
   "cell_type": "markdown",
   "metadata": {},
   "source": [
    "**С помощью `GridSearchCV` подберите параметр `C` для SVM сначала в широком диапазоне: 10 значений от 1e-4 до 1e4, используйте `linspace` из NumPy. Нарисуйте кривые валидации.**"
   ]
  },
  {
   "cell_type": "code",
   "execution_count": 49,
   "metadata": {},
   "outputs": [
    {
     "name": "stdout",
     "output_type": "stream",
     "text": [
      "CPU times: user 49.3 s, sys: 985 µs, total: 49.3 s\n",
      "Wall time: 49.4 s\n"
     ]
    },
    {
     "data": {
      "text/plain": [
       "GridSearchCV(cv=StratifiedKFold(n_splits=3, random_state=17, shuffle=True),\n",
       "             error_score=nan,\n",
       "             estimator=LinearSVC(C=1, class_weight=None, dual=True,\n",
       "                                 fit_intercept=True, intercept_scaling=1,\n",
       "                                 loss='squared_hinge', max_iter=1000,\n",
       "                                 multi_class='ovr', penalty='l2',\n",
       "                                 random_state=17, tol=0.0001, verbose=0),\n",
       "             iid='deprecated', n_jobs=None,\n",
       "             param_grid={'C': array([1.0000000e-04, 1.1111112e+03, 2.2222223e+03, 3.3333334e+03,\n",
       "       4.4444445e+03, 5.5555556e+03, 6.6666667e+03, 7.7777778e+03,\n",
       "       8.8888889e+03, 1.0000000e+04])},\n",
       "             pre_dispatch='2*n_jobs', refit=True, return_train_score=True,\n",
       "             scoring=None, verbose=0)"
      ]
     },
     "execution_count": 49,
     "metadata": {},
     "output_type": "execute_result"
    }
   ],
   "source": [
    "%%time\n",
    "svm_params1 = {'C': np.linspace(1e-4, 1e4, 10)}\n",
    "\n",
    "svm_grid_searcher1 = GridSearchCV(svm, param_grid=svm_params1, cv=skf, return_train_score=True)\n",
    "svm_grid_searcher1.fit(X_train, y_train)"
   ]
  },
  {
   "cell_type": "markdown",
   "metadata": {},
   "source": [
    "Выведите лучшее значение доли правильных ответов на кросс-валидации и соответствующее значение `C`."
   ]
  },
  {
   "cell_type": "code",
   "execution_count": 50,
   "metadata": {},
   "outputs": [
    {
     "data": {
      "text/plain": [
       "0.6868546856376824"
      ]
     },
     "execution_count": 50,
     "metadata": {},
     "output_type": "execute_result"
    }
   ],
   "source": [
    "svm_grid_searcher1.best_score_"
   ]
  },
  {
   "cell_type": "code",
   "execution_count": 51,
   "metadata": {},
   "outputs": [
    {
     "data": {
      "text/plain": [
       "{'C': 2222.2223000000004}"
      ]
     },
     "execution_count": 51,
     "metadata": {},
     "output_type": "execute_result"
    }
   ],
   "source": [
    "svm_grid_searcher1.best_params_"
   ]
  },
  {
   "cell_type": "markdown",
   "metadata": {},
   "source": [
    "Нарисуйте график зависимости доли правильных ответов на кросс-валидации от `C`."
   ]
  },
  {
   "cell_type": "code",
   "execution_count": 52,
   "metadata": {},
   "outputs": [
    {
     "data": {
      "image/png": "[encoded data removed]",
      "text/plain": [
       "<Figure size 432x288 with 1 Axes>"
      ]
     },
     "metadata": {
      "needs_background": "light"
     },
     "output_type": "display_data"
    }
   ],
   "source": [
    "plot_validation_curves(svm_params1['C'], svm_grid_searcher1.cv_results_)"
   ]
  },
  {
   "cell_type": "markdown",
   "metadata": {},
   "source": [
    "**Но мы помним, что с параметром регуляризации по умолчанию (С=1) на кросс-валидации доля правильных ответов выше. Это тот случай (не редкий), когда можно ошибиться и перебирать параметры не в том диапазоне (причина в том, что мы взяли равномерную сетку на большом интервале и упустили действительно хороший интервал значений `C`). Здесь намного осмысленней подбирать `C` в районе 1, к тому же, так модель быстрее обучается, чем при больших `C`. **\n",
    "\n",
    "**С помощью `GridSearchCV` подберите параметр `C` для SVM в диапазоне (1e-3, 1), 30 значений, используйте `linspace` из NumPy. Нарисуйте кривые валидации.**"
   ]
  },
  {
   "cell_type": "code",
   "execution_count": 53,
   "metadata": {},
   "outputs": [
    {
     "name": "stdout",
     "output_type": "stream",
     "text": [
      "CPU times: user 1min 28s, sys: 31.1 ms, total: 1min 28s\n",
      "Wall time: 1min 28s\n"
     ]
    },
    {
     "data": {
      "text/plain": [
       "GridSearchCV(cv=StratifiedKFold(n_splits=3, random_state=17, shuffle=True),\n",
       "             error_score=nan,\n",
       "             estimator=LinearSVC(C=1, class_weight=None, dual=True,\n",
       "                                 fit_intercept=True, intercept_scaling=1,\n",
       "                                 loss='squared_hinge', max_iter=1000,\n",
       "                                 multi_class='ovr', penalty='l2',\n",
       "                                 random_state=17, tol=0.0001, verbose=0),\n",
       "             iid='deprecated', n_jobs=None,\n",
       "             param_grid={'C': array([0.001     , 0.035448...\n",
       "       0.17324138, 0.20768966, 0.24213793, 0.27658621, 0.31103448,\n",
       "       0.34548276, 0.37993103, 0.41437931, 0.44882759, 0.48327586,\n",
       "       0.51772414, 0.55217241, 0.58662069, 0.62106897, 0.65551724,\n",
       "       0.68996552, 0.72441379, 0.75886207, 0.79331034, 0.82775862,\n",
       "       0.8622069 , 0.89665517, 0.93110345, 0.96555172, 1.        ])},\n",
       "             pre_dispatch='2*n_jobs', refit=True, return_train_score=True,\n",
       "             scoring=None, verbose=0)"
      ]
     },
     "execution_count": 53,
     "metadata": {},
     "output_type": "execute_result"
    }
   ],
   "source": [
    "%%time\n",
    "svm_params2 = {'C': np.linspace(1e-3, 1, 30)}\n",
    "\n",
    "svm_grid_searcher2 = GridSearchCV(svm, param_grid=svm_params2, cv=skf, return_train_score=True)\n",
    "svm_grid_searcher2.fit(X_train, y_train)"
   ]
  },
  {
   "cell_type": "markdown",
   "metadata": {},
   "source": [
    "Выведите лучшее значение доли правильных ответов на кросс-валидации и соответствующее значение `C`."
   ]
  },
  {
   "cell_type": "code",
   "execution_count": 54,
   "metadata": {},
   "outputs": [
    {
     "data": {
      "text/plain": [
       "0.7670206386611259"
      ]
     },
     "execution_count": 54,
     "metadata": {},
     "output_type": "execute_result"
    }
   ],
   "source": [
    "svm_grid_searcher2.best_score_"
   ]
  },
  {
   "cell_type": "code",
   "execution_count": 55,
   "metadata": {},
   "outputs": [
    {
     "data": {
      "text/plain": [
       "{'C': 0.10434482758620689}"
      ]
     },
     "execution_count": 55,
     "metadata": {},
     "output_type": "execute_result"
    }
   ],
   "source": [
    "svm_grid_searcher2.best_params_"
   ]
  },
  {
   "cell_type": "markdown",
   "metadata": {},
   "source": [
    "Нарисуйте график зависимости доли правильных ответов на кросс-валидации от С."
   ]
  },
  {
   "cell_type": "code",
   "execution_count": 56,
   "metadata": {},
   "outputs": [
    {
     "data": {
      "image/png": "[encoded data removed]",
      "text/plain": [
       "<Figure size 432x288 with 1 Axes>"
      ]
     },
     "metadata": {
      "needs_background": "light"
     },
     "output_type": "display_data"
    }
   ],
   "source": [
    "plot_validation_curves(svm_params2['C'], svm_grid_searcher2.cv_results_)"
   ]
  },
  {
   "cell_type": "markdown",
   "metadata": {},
   "source": [
    "Выведите долю правильных ответов на выборке `(X_valid, y_valid)` для `LinearSVC` с лучшим найденным значением `C`."
   ]
  },
  {
   "cell_type": "code",
   "execution_count": 57,
   "metadata": {},
   "outputs": [
    {
     "data": {
      "text/plain": [
       "0.7807537331121118"
      ]
     },
     "execution_count": 57,
     "metadata": {},
     "output_type": "execute_result"
    }
   ],
   "source": [
    "svm_cv_acc = accuracy_score(y_valid, svm_grid_searcher2.predict(X_valid))\n",
    "svm_cv_acc"
   ]
  },
  {
   "cell_type": "markdown",
   "metadata": {},
   "source": [
    "**<font color='red'>Вопрос 4. </font> Посчитайте доли правильных ответов для `svm_grid_searcher2` на кросс-валидации для лучшего значения параметра `C` и на отложенной выборке. Округлите каждое до 3 знаков после запятой и выведите через пробел.**"
   ]
  },
  {
   "cell_type": "code",
   "execution_count": 58,
   "metadata": {},
   "outputs": [],
   "source": [
    "ans = str(round(svm_grid_searcher2.best_score_, 3)) + ' ' + str(round(svm_cv_acc, 3))"
   ]
  },
  {
   "cell_type": "markdown",
   "metadata": {},
   "source": [
    "## Часть 2. Выбор параметров – длины сессии и ширины окна"
   ]
  },
  {
   "cell_type": "markdown",
   "metadata": {},
   "source": [
    "**Возьмем `LinearSVC`, показавший лучшее качество на кросс-валидации в 1 части, и проверим его работу еще на 8 выборках для 10 пользователей (с разными сочетаниями параметров *session_length* и *window_size*). Поскольку тут уже вычислений побольше, мы не будем каждый раз заново подбирать параметр регуляризации `C`.**\n",
    "\n",
    "**Определите функцию `model_assessment`, ее документация описана ниже. Обратите внимание на все детали. Например, на то, что разбиение  выборки с `train_test_split` должно быть стратифицированным. Не теряйте нигде `random_state`.**"
   ]
  },
  {
   "cell_type": "code",
   "execution_count": 60,
   "metadata": {},
   "outputs": [],
   "source": [
    "def model_assessment(estimator, path_to_X_pickle, path_to_y_pickle, cv, random_state=17, test_size=0.3):\n",
    "    '''\n",
    "    Estimates CV-accuracy for (1 - test_size) share of (X_sparse, y) \n",
    "    loaded from path_to_X_pickle and path_to_y_pickle and holdout accuracy for (test_size) share of (X_sparse, y).\n",
    "    The split is made with stratified train_test_split with params random_state and test_size.\n",
    "    \n",
    "    :param estimator – Scikit-learn estimator (classifier or regressor)\n",
    "    :param path_to_X_pickle – path to pickled sparse X (instances and their features)\n",
    "    :param path_to_y_pickle – path to pickled y (responses)\n",
    "    :param cv – cross-validation as in cross_val_score (use StratifiedKFold here)\n",
    "    :param random_state –  for train_test_split\n",
    "    :param test_size –  for train_test_split\n",
    "    \n",
    "    :returns mean CV-accuracy for (X_train, y_train) and accuracy for (X_valid, y_valid) where (X_train, y_train)\n",
    "    and (X_valid, y_valid) are (1 - test_size) and (testsize) shares of (X_sparse, y).\n",
    "    '''\n",
    "    \n",
    "    with open(path_to_X_pickle, 'rb') as file:\n",
    "        X = pickle.load(file)\n",
    "    with open(path_to_y_pickle, 'rb') as file:\n",
    "        y = pickle.load(file)\n",
    "    \n",
    "    X_train, X_valid, y_train, y_valid = train_test_split(X, y, \n",
    "                                                      test_size=test_size, \n",
    "                                                     random_state=17, stratify=y)\n",
    "    estimator.fit(X_train, y_train)\n",
    "    \n",
    "    return cross_val_score(estimator, X_train, y_train, cv=cv).mean(), accuracy_score(y_valid, estimator.predict(X_valid))"
   ]
  },
  {
   "cell_type": "markdown",
   "metadata": {},
   "source": [
    "**Убедитесь, что функция работает.**"
   ]
  },
  {
   "cell_type": "code",
   "execution_count": 61,
   "metadata": {},
   "outputs": [
    {
     "data": {
      "text/plain": [
       "(0.7670206386611259, 0.7807537331121118)"
      ]
     },
     "execution_count": 61,
     "metadata": {},
     "output_type": "execute_result"
    }
   ],
   "source": [
    "model_assessment(svm_grid_searcher2.best_estimator_, \n",
    "                 os.path.join(PATH_TO_DATA, 'X_sparse_10users.pkl'),\n",
    "        os.path.join(PATH_TO_DATA, 'y_10users.pkl'), skf, random_state=17, test_size=0.3)"
   ]
  },
  {
   "cell_type": "markdown",
   "metadata": {},
   "source": [
    "**Примените функцию *model_assessment* для лучшего алгоритма из предыдущей части (а именно, `svm_grid_searcher2.best_estimator_`) и 9 выборок вида с разными сочетаниями параметров *session_length* и *window_size* для 10 пользователей. Выведите в цикле параметры *session_length* и *window_size*, а также результат вывода функции *model_assessment*. \n",
    "Удобно сделать так, чтоб *model_assessment* возвращала 3-им элементом время, за которое она выполнилась. На моем ноуте этот участок кода выполнился за 20 секунд. Но со 150 пользователями каждая итерация занимает уже несколько минут.**"
   ]
  },
  {
   "cell_type": "markdown",
   "metadata": {},
   "source": [
    "Здесь для удобства стоит создать копии ранее созданных pickle-файлов X_sparse_10users.pkl, X_sparse_150users.pkl, y_10users.pkl и y_150users.pkl, добавив к их названиям s10_w10, что означает длину сессии 10 и ширину окна 10. "
   ]
  },
  {
   "cell_type": "code",
   "execution_count": 62,
   "metadata": {},
   "outputs": [],
   "source": [
    "!cp $PATH_TO_DATA/X_sparse_10users.pkl $PATH_TO_DATA/X_sparse_10users_s10_w10.pkl \n",
    "!cp $PATH_TO_DATA/X_sparse_150users.pkl $PATH_TO_DATA/X_sparse_150users_s10_w10.pkl \n",
    "!cp $PATH_TO_DATA/y_10users.pkl $PATH_TO_DATA/y_10users_s10_w10.pkl \n",
    "!cp $PATH_TO_DATA/y_150users.pkl $PATH_TO_DATA/y_150users_s10_w10.pkl "
   ]
  },
  {
   "cell_type": "code",
   "execution_count": 63,
   "metadata": {},
   "outputs": [
    {
     "name": "stdout",
     "output_type": "stream",
     "text": [
      "(0.8187357674018679, 0.839535434937189)\n",
      "(0.7670206386611259, 0.7807537331121118)\n",
      "(0.8471561308551244, 0.8579724572755931)\n",
      "(0.7980806025863226, 0.8035506885681102)\n",
      "(0.749644899761945, 0.7607433217189314)\n",
      "(0.8656132938787092, 0.8795637743006164)\n",
      "(0.8149070542488689, 0.8315552394499763)\n",
      "(0.7695356848115806, 0.7876955903271693)\n",
      "(0.7211157439935167, 0.7393314366998578)\n",
      "CPU times: user 39.4 s, sys: 36.9 ms, total: 39.5 s\n",
      "Wall time: 39.8 s\n"
     ]
    }
   ],
   "source": [
    "%%time\n",
    "estimator = svm_grid_searcher2.best_estimator_\n",
    "\n",
    "for window_size, session_length in itertools.product([10, 7, 5], [15, 10, 7, 5]):\n",
    "    if window_size <= session_length:\n",
    "        path_to_X_pkl = os.path.join(PATH_TO_DATA, 'X_sparse_10users_' + str(session_length) + '_' + str(window_size) + '.pkl')\n",
    "        path_to_y_pkl = os.path.join(PATH_TO_DATA, 'y_10users_' + str(session_length) + '_' + str(window_size) + '.pkl')\n",
    "        print(model_assessment(estimator, path_to_X_pkl, path_to_y_pkl, skf, random_state=17, test_size=0.3))"
   ]
  },
  {
   "cell_type": "markdown",
   "metadata": {},
   "source": [
    "**<font color='red'>Вопрос 5. </font> Посчитайте доли правильных ответов для `LinearSVC` с настроенным параметром `C` и выборки `X_sparse_10users_s15_w5`. Укажите доли правильных ответов на кросс-валидации и на отложенной выборке. Округлите каждое до 3 знаков после запятой и выведите через пробел.**"
   ]
  },
  {
   "cell_type": "code",
   "execution_count": 64,
   "metadata": {},
   "outputs": [],
   "source": [
    "cv_score, accuracy = model_assessment(svm_grid_searcher2.best_estimator_, \n",
    "                                     os.path.join(PATH_TO_DATA, 'X_sparse_10users_15_5.pkl'),\n",
    "                                     os.path.join(PATH_TO_DATA, 'y_10users_15_5.pkl'),\n",
    "                                     skf, random_state=17, test_size=0.3)"
   ]
  },
  {
   "cell_type": "code",
   "execution_count": 65,
   "metadata": {},
   "outputs": [
    {
     "data": {
      "text/plain": [
       "(0.8656132938787092, 0.8795637743006164)"
      ]
     },
     "execution_count": 65,
     "metadata": {},
     "output_type": "execute_result"
    }
   ],
   "source": [
    "cv_score, accuracy"
   ]
  },
  {
   "cell_type": "code",
   "execution_count": 66,
   "metadata": {},
   "outputs": [],
   "source": [
    "ans = str(round(cv_score, 3)) + ' ' + str(round(accuracy, 3))"
   ]
  },
  {
   "cell_type": "code",
   "execution_count": 67,
   "metadata": {},
   "outputs": [],
   "source": [
    "with open('answer4_5.txt', 'w') as file:\n",
    "    file.write(ans)"
   ]
  },
  {
   "cell_type": "markdown",
   "metadata": {},
   "source": [
    "**Прокомментируйте полученные результаты. Сравните для 150 пользователей доли правильных ответов на кросс-валидации и оставленной выборке для сочетаний параметров (*session_length, window_size*): (5,5), (7,7) и (10,10). На среднем ноуте это может занять до часа – запаситесь терпением, это Data Science :) **\n",
    "\n",
    "**Сделайте вывод о том, как качество классификации зависит от длины сессии и ширины окна.**"
   ]
  },
  {
   "cell_type": "code",
   "execution_count": 68,
   "metadata": {},
   "outputs": [
    {
     "name": "stdout",
     "output_type": "stream",
     "text": [
      "(0.4100454192283424, 0.420560179101572)\n",
      "(0.43814508240996214, 0.4509656981299179)\n",
      "(0.46307591254574465, 0.4836276942538802)\n",
      "CPU times: user 17min 8s, sys: 764 ms, total: 17min 9s\n",
      "Wall time: 17min 12s\n"
     ]
    }
   ],
   "source": [
    "%%time\n",
    "estimator = svm_grid_searcher2.best_estimator_\n",
    "\n",
    "for window_size, session_length in [(5,5), (7,7), (10,10)]:\n",
    "    path_to_X_pkl = os.path.join(PATH_TO_DATA, 'X_sparse_150users_' + str(session_length) + '_' + str(window_size) + '.pkl')\n",
    "    path_to_y_pkl = os.path.join(PATH_TO_DATA, 'y_150users_' + str(session_length) + '_' + str(window_size) + '.pkl')\n",
    "    print(model_assessment(estimator, path_to_X_pkl, path_to_y_pkl, skf, random_state=17, test_size=0.3))"
   ]
  },
  {
   "cell_type": "markdown",
   "metadata": {},
   "source": [
    "**<font color='red'>Вопрос 6. </font> Посчитайте доли правильных ответов для `LinearSVC` с настроенным параметром `C` и выборки `X_sparse_150users`. Укажите доли правильных ответов на кросс-валидации и на отложенной выборке. Округлите каждое до 3 знаков после запятой и выведите через пробел.**"
   ]
  },
  {
   "cell_type": "code",
   "execution_count": 69,
   "metadata": {},
   "outputs": [],
   "source": [
    "cv_score, accuracy = model_assessment(svm_grid_searcher2.best_estimator_, \n",
    "                                     os.path.join(PATH_TO_DATA, 'X_sparse_150users.pkl'),\n",
    "                                     os.path.join(PATH_TO_DATA, 'y_150users.pkl'),\n",
    "                                     skf, random_state=17, test_size=0.3)"
   ]
  },
  {
   "cell_type": "code",
   "execution_count": 70,
   "metadata": {},
   "outputs": [
    {
     "name": "stdout",
     "output_type": "stream",
     "text": [
      "0.46307591254574465 0.4836276942538802\n"
     ]
    }
   ],
   "source": [
    "print(cv_score, accuracy)"
   ]
  },
  {
   "cell_type": "code",
   "execution_count": 72,
   "metadata": {},
   "outputs": [
    {
     "data": {
      "text/plain": [
       "'0.463 0.484'"
      ]
     },
     "execution_count": 72,
     "metadata": {},
     "output_type": "execute_result"
    }
   ],
   "source": [
    "ans = str(round(cv_score, 3)) + ' ' + str(round(accuracy, 3))\n",
    "ans"
   ]
  },
  {
   "cell_type": "code",
   "execution_count": 73,
   "metadata": {},
   "outputs": [],
   "source": [
    "with open('answer4_6.txt', 'w') as file:\n",
    "    file.write(ans)"
   ]
  },
  {
   "cell_type": "markdown",
   "metadata": {},
   "source": [
    "## Часть 3. Идентификация  конкретного пользователя и кривые обучения"
   ]
  },
  {
   "cell_type": "markdown",
   "metadata": {},
   "source": [
    "**Поскольку может разочаровать, что многоклассовая доля правильных ответов на выборке из 150 пользовалей невелика, порадуемся тому, что конкретного пользователя можно идентифицировать достаточно хорошо. **"
   ]
  },
  {
   "cell_type": "markdown",
   "metadata": {},
   "source": [
    "**Загрузим сериализованные ранее объекты *X_sparse_150users* и *y_150users*, соответствующие обучающей выборке для 150 пользователей с параметрами (*session_length, window_size*) = (10,10). Так же точно разобьем их на 70% и 30%.**"
   ]
  },
  {
   "cell_type": "code",
   "execution_count": 74,
   "metadata": {},
   "outputs": [],
   "source": [
    "with open(os.path.join(PATH_TO_DATA, 'X_sparse_150users.pkl'), 'rb') as X_sparse_150users_pkl:\n",
    "     X_sparse_150users = pickle.load(X_sparse_150users_pkl)\n",
    "with open(os.path.join(PATH_TO_DATA, 'y_150users.pkl'), 'rb') as y_150users_pkl:\n",
    "    y_150users = pickle.load(y_150users_pkl)"
   ]
  },
  {
   "cell_type": "code",
   "execution_count": 75,
   "metadata": {},
   "outputs": [],
   "source": [
    "X_train_150, X_valid_150, y_train_150, y_valid_150 = train_test_split(X_sparse_150users, \n",
    "                                                                      y_150users, test_size=0.3, \n",
    "                                                     random_state=17, stratify=y_150users)"
   ]
  },
  {
   "cell_type": "markdown",
   "metadata": {},
   "source": [
    "**Обучите `LogisticRegressionCV` для одного значения параметра `C` (лучшего на кросс-валидации в 1 части, используйте точное значение, не на глаз). Теперь будем решать 150 задач \"Один-против-Всех\", поэтому укажите аргумент `multi_class`='ovr'. Как всегда, где возможно, указывайте `n_jobs=-1` и `random_state`=17.**"
   ]
  },
  {
   "cell_type": "code",
   "execution_count": 76,
   "metadata": {},
   "outputs": [
    {
     "name": "stdout",
     "output_type": "stream",
     "text": [
      "CPU times: user 14min 47s, sys: 11.7 s, total: 14min 59s\n",
      "Wall time: 3min 45s\n"
     ]
    },
    {
     "data": {
      "text/plain": [
       "LogisticRegressionCV(Cs=[0.10434482758620689], class_weight=None,\n",
       "                     cv=StratifiedKFold(n_splits=3, random_state=17, shuffle=True),\n",
       "                     dual=False, fit_intercept=True, intercept_scaling=1.0,\n",
       "                     l1_ratios=None, max_iter=100, multi_class='ovr',\n",
       "                     n_jobs=None, penalty='l2', random_state=17, refit=True,\n",
       "                     scoring=None, solver='lbfgs', tol=0.0001, verbose=0)"
      ]
     },
     "execution_count": 76,
     "metadata": {},
     "output_type": "execute_result"
    }
   ],
   "source": [
    "%%time\n",
    "Cs = [float(svm_grid_searcher2.best_params_['C'])]\n",
    "logit_cv_150users = LogisticRegressionCV(Cs=Cs, cv=skf, random_state=17, multi_class='ovr', n_jobs=-1)\n",
    "logit_cv_150users.fit(X_train_150, y_train_150)"
   ]
  },
  {
   "cell_type": "code",
   "execution_count": 99,
   "metadata": {},
   "outputs": [
    {
     "data": {
      "text/plain": [
       "array([[0.99521441],\n",
       "       [0.99577742],\n",
       "       [0.99499546]])"
      ]
     },
     "execution_count": 99,
     "metadata": {},
     "output_type": "execute_result"
    }
   ],
   "source": [
    "list(logit_cv_150users.scores_.values())[0]"
   ]
  },
  {
   "cell_type": "markdown",
   "metadata": {},
   "source": [
    "**Посмотрите на средние доли правильных ответов на кросс-валидации в задаче идентификации каждого пользователя по отдельности.**"
   ]
  },
  {
   "cell_type": "code",
   "execution_count": 101,
   "metadata": {},
   "outputs": [
    {
     "name": "stdout",
     "output_type": "stream",
     "text": [
      "User 6, CV score: 0.9953291003305079\n",
      "User 13, CV score: 0.9958816844431934\n",
      "User 15, CV score: 0.9948390729098245\n",
      "User 16, CV score: 0.9910960975050306\n",
      "User 28, CV score: 0.9892611012063015\n",
      "User 31, CV score: 0.994422028296477\n",
      "User 33, CV score: 0.9932334511484365\n",
      "User 39, CV score: 0.9852470468028317\n",
      "User 46, CV score: 0.997591567357918\n",
      "User 49, CV score: 0.9943490454891412\n",
      "User 50, CV score: 0.9942760626818054\n",
      "User 53, CV score: 0.9933168600711061\n",
      "User 65, CV score: 0.996924295976562\n",
      "User 66, CV score: 0.9949746124091625\n",
      "User 82, CV score: 0.9963091551718746\n",
      "User 85, CV score: 0.9962674507105399\n",
      "User 89, CV score: 0.9902411560476683\n",
      "User 92, CV score: 0.9941405231824675\n",
      "User 100, CV score: 0.9947660901024887\n",
      "User 102, CV score: 0.990814592391021\n",
      "User 103, CV score: 0.9783345323365967\n",
      "User 105, CV score: 0.996423842440545\n",
      "User 106, CV score: 0.9936922002231189\n",
      "User 118, CV score: 0.9900534859716618\n",
      "User 119, CV score: 0.9962465984798724\n",
      "User 120, CV score: 0.9939320008757937\n",
      "User 126, CV score: 0.9948182206791572\n",
      "User 127, CV score: 0.9900222076256608\n",
      "User 128, CV score: 0.9838812256941187\n",
      "User 138, CV score: 0.9972266533212389\n",
      "User 158, CV score: 0.9970389832452327\n",
      "User 160, CV score: 0.9966532169778862\n",
      "User 165, CV score: 0.9972162272059054\n",
      "User 172, CV score: 0.9965072513632146\n",
      "User 177, CV score: 0.9966219386318852\n",
      "User 203, CV score: 0.9969451482072295\n",
      "User 207, CV score: 0.9868318163335523\n",
      "User 223, CV score: 0.9964551207865462\n",
      "User 233, CV score: 0.9962570245952062\n",
      "User 235, CV score: 0.9967470520158894\n",
      "User 236, CV score: 0.9899283725876575\n",
      "User 237, CV score: 0.9888649088236215\n",
      "User 238, CV score: 0.9963091551718746\n",
      "User 240, CV score: 0.9957669971745228\n",
      "User 241, CV score: 0.996090206749867\n",
      "User 242, CV score: 0.9947869423331562\n",
      "User 245, CV score: 0.9958504060971922\n",
      "User 246, CV score: 0.9971119660525685\n",
      "User 249, CV score: 0.9951310041391678\n",
      "User 252, CV score: 0.9963508596332092\n",
      "User 254, CV score: 0.9912107847737012\n",
      "User 256, CV score: 0.9960067978271976\n",
      "User 258, CV score: 0.9959338150198618\n",
      "User 259, CV score: 0.9951414302545015\n",
      "User 260, CV score: 0.9971849488599043\n",
      "User 261, CV score: 0.9894904757436427\n",
      "User 263, CV score: 0.9925036230750784\n",
      "User 264, CV score: 0.9966219386318852\n",
      "User 269, CV score: 0.986675424603547\n",
      "User 270, CV score: 0.9880829501735948\n",
      "User 273, CV score: 0.9943281932584739\n",
      "User 287, CV score: 0.9901264687789976\n",
      "User 294, CV score: 0.9959546672505292\n",
      "User 298, CV score: 0.9908562968523559\n",
      "User 301, CV score: 0.9968825915152273\n",
      "User 308, CV score: 0.9954333614838448\n",
      "User 315, CV score: 0.9972683577825737\n",
      "User 318, CV score: 0.9955480487525152\n",
      "User 327, CV score: 0.996632364747219\n",
      "User 332, CV score: 0.9968408870538926\n",
      "User 333, CV score: 0.9958921105585271\n",
      "User 339, CV score: 0.9966219386318852\n",
      "User 340, CV score: 0.9966427908625525\n",
      "User 342, CV score: 0.9921074306923984\n",
      "User 344, CV score: 0.9967679042465568\n",
      "User 351, CV score: 0.9921699873844005\n",
      "User 356, CV score: 0.9972162272059052\n",
      "User 361, CV score: 0.9966427908625525\n",
      "User 363, CV score: 0.9962153201338714\n",
      "User 411, CV score: 0.9900743382023292\n",
      "User 417, CV score: 0.9967783303618906\n",
      "User 425, CV score: 0.9941509492978011\n",
      "User 430, CV score: 0.995923388904528\n",
      "User 435, CV score: 0.9971536705139034\n",
      "User 436, CV score: 0.995089299677833\n",
      "User 440, CV score: 0.9970806877065673\n",
      "User 444, CV score: 0.9971223921679021\n",
      "User 475, CV score: 0.9893132317829699\n",
      "User 476, CV score: 0.9966010864012178\n",
      "User 486, CV score: 0.9951622824851688\n",
      "User 515, CV score: 0.9940258359137969\n",
      "User 533, CV score: 0.9934523995704442\n",
      "User 561, CV score: 0.984235713615464\n",
      "User 563, CV score: 0.9968721653998937\n",
      "User 564, CV score: 0.9952039869465036\n",
      "User 568, CV score: 0.9918467778090561\n",
      "User 569, CV score: 0.9886563865169476\n",
      "User 570, CV score: 0.9980190380865993\n",
      "User 573, CV score: 0.9909814102363601\n",
      "User 575, CV score: 0.9893653623596385\n",
      "User 576, CV score: 0.9943490454891412\n",
      "User 580, CV score: 0.985705795877514\n",
      "User 583, CV score: 0.9793145871779633\n",
      "User 584, CV score: 0.9807325388633449\n",
      "User 600, CV score: 0.9908980013136904\n",
      "User 603, CV score: 0.995360378676509\n",
      "User 605, CV score: 0.9965385297092156\n",
      "User 640, CV score: 0.9970494093605664\n",
      "User 647, CV score: 0.9967887564772241\n",
      "User 653, CV score: 0.9972579316672401\n",
      "User 664, CV score: 0.995089299677833\n",
      "User 665, CV score: 0.996893017630561\n",
      "User 677, CV score: 0.996330007402542\n",
      "User 692, CV score: 0.996893017630561\n",
      "User 697, CV score: 0.9954646398298458\n",
      "User 705, CV score: 0.9964342685558788\n",
      "User 722, CV score: 0.9940988187211327\n",
      "User 740, CV score: 0.9965385297092156\n",
      "User 741, CV score: 0.9970077048992317\n",
      "User 756, CV score: 0.9954229353685111\n",
      "User 780, CV score: 0.9962153201338714\n",
      "User 784, CV score: 0.9962987290565408\n",
      "User 785, CV score: 0.9972370794365727\n",
      "User 797, CV score: 0.9956418837905184\n",
      "User 812, CV score: 0.9940779664904653\n",
      "User 844, CV score: 0.996893017630561\n",
      "User 859, CV score: 0.9976019934732517\n",
      "User 868, CV score: 0.9967574781312232\n",
      "User 875, CV score: 0.9941822276438023\n",
      "User 932, CV score: 0.9891881183989657\n",
      "User 996, CV score: 0.9915548465797128\n",
      "User 1014, CV score: 0.9964863991325471\n",
      "User 1040, CV score: 0.9966219386318852\n",
      "User 1054, CV score: 0.9964134163252115\n",
      "User 1248, CV score: 0.9975185845505822\n",
      "User 1267, CV score: 0.9972266533212389\n",
      "User 1299, CV score: 0.9968617392845599\n",
      "User 1371, CV score: 0.9932751556097713\n",
      "User 1797, CV score: 0.9935358084931135\n",
      "User 1798, CV score: 0.995725292713188\n",
      "User 1993, CV score: 0.9963404335178755\n",
      "User 2118, CV score: 0.9972475055519064\n",
      "User 2174, CV score: 0.9954959181758468\n",
      "User 2191, CV score: 0.9949850385244962\n",
      "User 2250, CV score: 0.9974247495125791\n",
      "User 2355, CV score: 0.9948703512558256\n",
      "User 2408, CV score: 0.992951946034427\n",
      "User 2493, CV score: 0.9964655469018798\n",
      "User 2625, CV score: 0.9956835882518532\n",
      "User 2902, CV score: 0.9967574781312231\n"
     ]
    }
   ],
   "source": [
    "# cv_scores_by_user = {}\n",
    "# for user_id in logit_cv_150users.scores_:\n",
    "#     print('User {}, CV score: {}'.format(user_id, cv_scores_by_user[user_id].mean()))\n",
    "    \n",
    "# cv_scores_by_user = list(logit_cv_150users.scores_.values())\n",
    "for user_id, score in logit_cv_150users.scores_.items():\n",
    "    print('User {}, CV score: {}'.format(user_id, score.mean()))"
   ]
  },
  {
   "cell_type": "markdown",
   "metadata": {},
   "source": [
    "**Результаты кажутся впечатляющими, но возможно, мы забываем про дисбаланс классов, и высокую долю правильных ответов можно получить константным прогнозом. Посчитайте для каждого пользователя разницу между долей правильных ответов на кросс-валидации (только что посчитанную с помощью `LogisticRegressionCV`) и долей меток в *y_train_150*, отличных от ID \n",
    " этого пользователя (именно такую долю правильных ответов можно получить, если классификатор всегда \"говорит\", что это не пользователь с номером $i$ в задаче классификации $i$-vs-All).**"
   ]
  },
  {
   "cell_type": "code",
   "execution_count": 117,
   "metadata": {},
   "outputs": [
    {
     "name": "stdout",
     "output_type": "stream",
     "text": [
      "0.984402531460803\n",
      "User: 6,  difference: 0.010926568869704889\n",
      "0.9957044404825206\n",
      "User: 13,  difference: 0.00017724396067275716\n",
      "0.9944011760658097\n",
      "User: 15,  difference: 0.0004378968440148512\n",
      "0.9847153149208137\n",
      "User: 16,  difference: 0.006380782584216926\n",
      "0.9879474106742568\n",
      "User: 28,  difference: 0.0013136905320446646\n",
      "0.9944533066424781\n",
      "User: 31,  difference: -3.12783460011401e-05\n",
      "0.9925453275364132\n",
      "User: 33,  difference: 0.0006881236120233059\n",
      "0.9839125040401197\n",
      "User: 39,  difference: 0.0013345427627120543\n",
      "0.9971223921679022\n",
      "User: 46,  difference: 0.00046917519001576924\n",
      "0.9938277397224569\n",
      "User: 49,  difference: 0.0005213057666842991\n",
      "0.9941509492978011\n",
      "User: 50,  difference: 0.00012511338400422733\n",
      "0.9920448740003962\n",
      "User: 53,  difference: 0.0012719860707098851\n",
      "0.9969242959765621\n",
      "User: 65,  difference: -1.1102230246251565e-16\n",
      "0.9948599251404919\n",
      "User: 66,  difference: 0.00011468726867058798\n",
      "0.9963508596332092\n",
      "User: 82,  difference: -4.170446133466843e-05\n",
      "0.996194467903204\n",
      "User: 85,  difference: 7.298280733591955e-05\n",
      "0.9900743382023292\n",
      "User: 89,  difference: 0.0001668178453391178\n",
      "0.9941509492978011\n",
      "User: 92,  difference: -1.0426115333639352e-05\n",
      "0.9947452378718213\n",
      "User: 100,  difference: 2.0852230667389726e-05\n",
      "0.9904392522390083\n",
      "User: 102,  difference: 0.000375340152012682\n",
      "0.9769999895738847\n",
      "User: 103,  difference: 0.0013345427627120543\n",
      "0.9960172239425312\n",
      "User: 105,  difference: 0.0004066184980138221\n",
      "0.9872175826008988\n",
      "User: 106,  difference: 0.006474617622220125\n",
      "0.9900013553949933\n",
      "User: 118,  difference: 5.2130576668418804e-05\n",
      "0.9959442411351954\n",
      "User: 119,  difference: 0.0003023573446769845\n",
      "0.9936609218771179\n",
      "User: 120,  difference: 0.0002710789986758444\n",
      "0.9940571142597979\n",
      "User: 126,  difference: 0.0007611064193592254\n",
      "0.987509513830242\n",
      "User: 127,  difference: 0.002512693795418852\n",
      "0.979596092291973\n",
      "User: 128,  difference: 0.004285133402145758\n",
      "0.9971119660525685\n",
      "User: 138,  difference: 0.00011468726867047696\n",
      "0.9967783303618905\n",
      "User: 158,  difference: 0.00026065288334220504\n",
      "0.9965385297092156\n",
      "User: 160,  difference: 0.00011468726867058798\n",
      "0.9970806877065674\n",
      "User: 165,  difference: 0.0001355394993379777\n",
      "0.996257024595206\n",
      "User: 172,  difference: 0.0002502267680085657\n",
      "0.9964968252478809\n",
      "User: 177,  difference: 0.00012511338400433836\n",
      "0.9961840417878702\n",
      "User: 203,  difference: 0.0007611064193592254\n",
      "0.9863626411435363\n",
      "User: 207,  difference: 0.0004691751900159913\n",
      "0.9964655469018798\n",
      "User: 223,  difference: -1.0426115333639352e-05\n",
      "0.9962361723645387\n",
      "User: 233,  difference: 2.085223066750075e-05\n",
      "0.9967470520158894\n",
      "User: 235,  difference: 0.0\n",
      "0.9887814999009519\n",
      "User: 236,  difference: 0.0011468726867056578\n",
      "0.988009967366259\n",
      "User: 237,  difference: 0.0008549414573625347\n",
      "0.9962674507105398\n",
      "User: 238,  difference: 4.170446133477945e-05\n",
      "0.9957774232898564\n",
      "User: 240,  difference: -1.0426115333639352e-05\n",
      "0.9961006328652008\n",
      "User: 241,  difference: -1.0426115333750374e-05\n",
      "0.9946618289491518\n",
      "User: 242,  difference: 0.00012511338400444938\n",
      "0.9957669971745228\n",
      "User: 245,  difference: 8.340892266944788e-05\n",
      "0.9971223921679022\n",
      "User: 246,  difference: -1.0426115333750374e-05\n",
      "0.9950997257931667\n",
      "User: 249,  difference: 3.127834600102908e-05\n",
      "0.9962987290565408\n",
      "User: 252,  difference: 5.2130576668418804e-05\n",
      "0.9899179464723239\n",
      "User: 254,  difference: 0.0012928383013772748\n",
      "0.995558474867849\n",
      "User: 256,  difference: 0.00044832295934860156\n",
      "0.995756571059189\n",
      "User: 258,  difference: 0.00017724396067275716\n",
      "0.9951831347158362\n",
      "User: 259,  difference: -4.170446133466843e-05\n",
      "0.9970806877065674\n",
      "User: 260,  difference: 0.00010426115333683761\n",
      "0.9891047094762963\n",
      "User: 261,  difference: 0.0003857662673464324\n",
      "0.9915965510410476\n",
      "User: 263,  difference: 0.0009070720340308425\n",
      "0.9962048940185376\n",
      "User: 264,  difference: 0.0004170446133475725\n",
      "0.9857475003388487\n",
      "User: 269,  difference: 0.0009279242646982322\n",
      "0.9851219334188275\n",
      "User: 270,  difference: 0.0029610167547673427\n",
      "0.9937339046844537\n",
      "User: 273,  difference: 0.0005942885740202186\n",
      "0.9882393419036002\n",
      "User: 287,  difference: 0.0018871268753973824\n",
      "0.9959546672505292\n",
      "User: 294,  difference: 0.0\n",
      "0.9897719808576523\n",
      "User: 298,  difference: 0.0010843159947035996\n",
      "0.9954750659451795\n",
      "User: 301,  difference: 0.0014075255700477518\n",
      "0.9949746124091625\n",
      "User: 308,  difference: 0.0004587490746822409\n",
      "0.9971119660525685\n",
      "User: 315,  difference: 0.0001563917300052564\n",
      "0.9953395264458416\n",
      "User: 318,  difference: 0.00020852230667367522\n",
      "0.9966323647472188\n",
      "User: 327,  difference: 1.1102230246251565e-16\n",
      "0.9968200348232252\n",
      "User: 332,  difference: 2.0852230667389726e-05\n",
      "0.9949746124091625\n",
      "User: 333,  difference: 0.0009174981493645928\n",
      "0.995923388904528\n",
      "User: 339,  difference: 0.0006985497273571672\n",
      "0.9965072513632146\n",
      "User: 340,  difference: 0.0001355394993378667\n",
      "0.9919093345010582\n",
      "User: 342,  difference: 0.0001980961913401469\n",
      "0.9967783303618905\n",
      "User: 344,  difference: -1.0426115333639352e-05\n",
      "0.9910335408130285\n",
      "User: 351,  difference: 0.0011364465713720184\n",
      "0.9972162272059053\n",
      "User: 356,  difference: -1.1102230246251565e-16\n",
      "0.9966323647472188\n",
      "User: 361,  difference: 1.0426115333639352e-05\n",
      "0.9952978219845068\n",
      "User: 363,  difference: 0.0009174981493645928\n",
      "0.9892298228603005\n",
      "User: 411,  difference: 0.0008445153420286733\n",
      "0.9966323647472188\n",
      "User: 417,  difference: 0.00014596561467172808\n",
      "0.9941613754131349\n",
      "User: 425,  difference: -1.0426115333750374e-05\n",
      "0.9952456914078384\n",
      "User: 430,  difference: 0.0006776974966896665\n",
      "0.9971536705139032\n",
      "User: 435,  difference: 1.1102230246251565e-16\n",
      "0.9950163168704972\n",
      "User: 436,  difference: 7.298280733580853e-05\n",
      "0.9970911138219011\n",
      "User: 440,  difference: -1.0426115333750374e-05\n",
      "0.9970181310145653\n",
      "User: 444,  difference: 0.00010426115333683761\n",
      "0.9879891151355916\n",
      "User: 475,  difference: 0.001324116647378304\n",
      "0.9961319112112018\n",
      "User: 476,  difference: 0.0004691751900159913\n",
      "0.9952456914078384\n",
      "User: 486,  difference: -8.34089226695589e-05\n",
      "0.9939841314524621\n",
      "User: 515,  difference: 4.170446133477945e-05\n",
      "0.9926391625744164\n",
      "User: 533,  difference: 0.0008132369960277552\n",
      "0.9809723395160197\n",
      "User: 561,  difference: 0.003263374099444327\n",
      "0.9963091551718745\n",
      "User: 563,  difference: 0.0005630102280191895\n",
      "0.9951310041391678\n",
      "User: 564,  difference: 7.298280733580853e-05\n",
      "0.9918259255783888\n",
      "User: 568,  difference: 2.0852230667278704e-05\n",
      "0.9850489506114917\n",
      "User: 569,  difference: 0.00360743590545598\n",
      "0.9957044404825206\n",
      "User: 570,  difference: 0.0023145976040787053\n",
      "0.9909605580056926\n",
      "User: 573,  difference: 2.085223066750075e-05\n",
      "0.9886042559402792\n",
      "User: 575,  difference: 0.0007611064193592254\n",
      "0.9943907499504759\n",
      "User: 576,  difference: -4.170446133477945e-05\n",
      "0.9804823120953364\n",
      "User: 580,  difference: 0.005223483782177518\n",
      "0.9660421423581788\n",
      "User: 583,  difference: 0.013272444819784512\n",
      "0.9784387934899336\n",
      "User: 584,  difference: 0.0022937453734113156\n",
      "0.9905956439690136\n",
      "User: 600,  difference: 0.0003023573446768735\n",
      "0.995058021331832\n",
      "User: 603,  difference: 0.0003023573446769845\n",
      "0.9950684474471657\n",
      "User: 605,  difference: 0.001470082262049921\n",
      "0.9970389832452327\n",
      "User: 640,  difference: 1.0426115333750374e-05\n",
      "0.9960172239425312\n",
      "User: 647,  difference: 0.0007715325346928648\n",
      "0.9972475055519064\n",
      "User: 653,  difference: 1.0426115333639352e-05\n",
      "0.9945784200264823\n",
      "User: 664,  difference: 0.0005108796513506597\n",
      "0.9966740692085536\n",
      "User: 665,  difference: 0.0002189484220074256\n",
      "0.9959025366738606\n",
      "User: 677,  difference: 0.00042747072868132285\n",
      "0.9968721653998937\n",
      "User: 692,  difference: 2.0852230667389726e-05\n",
      "0.9952456914078384\n",
      "User: 697,  difference: 0.0002189484220074256\n",
      "0.9961840417878702\n",
      "User: 705,  difference: 0.0002502267680085657\n",
      "0.9936192174157831\n",
      "User: 722,  difference: 0.00047960130534963064\n",
      "0.995860832212526\n",
      "User: 740,  difference: 0.0006776974966896665\n",
      "0.9967783303618905\n",
      "User: 741,  difference: 0.000229374537341287\n",
      "0.9953082480998405\n",
      "User: 756,  difference: 0.00011468726867058798\n",
      "0.9957669971745228\n",
      "User: 780,  difference: 0.00044832295934860156\n",
      "0.9949537601784951\n",
      "User: 784,  difference: 0.0013449688780456936\n",
      "0.9970389832452327\n",
      "User: 785,  difference: 0.00019809619134003587\n",
      "0.9952144130618373\n",
      "User: 797,  difference: 0.0004274707286811008\n",
      "0.9895009018589763\n",
      "User: 812,  difference: 0.004577064631488992\n",
      "0.9969660004378968\n",
      "User: 844,  difference: -7.298280733580853e-05\n",
      "0.9969138698612284\n",
      "User: 859,  difference: 0.0006881236120233059\n",
      "0.9967783303618905\n",
      "User: 868,  difference: -2.0852230667278704e-05\n",
      "0.9901368948943313\n",
      "User: 875,  difference: 0.004045332749470942\n",
      "0.9881038024042622\n",
      "User: 932,  difference: 0.0010843159947034886\n",
      "0.990480956700343\n",
      "User: 996,  difference: 0.0010738898793698493\n",
      "0.9957878494051902\n",
      "User: 1014,  difference: 0.0006985497273569452\n",
      "0.9951727086005026\n",
      "User: 1040,  difference: 0.0014492300313826423\n",
      "0.9963508596332092\n",
      "User: 1054,  difference: 6.25566920022802e-05\n",
      "0.9973309144745759\n",
      "User: 1248,  difference: 0.0001876700760062855\n",
      "0.9969972787838979\n",
      "User: 1267,  difference: 0.00022937453734106494\n",
      "0.9968304609385589\n",
      "User: 1299,  difference: 3.127834600102908e-05\n",
      "0.9887293693242835\n",
      "User: 1371,  difference: 0.004545786285487852\n",
      "0.9917425166557192\n",
      "User: 1797,  difference: 0.0017932918373942952\n",
      "0.9954333614838448\n",
      "User: 1798,  difference: 0.0002919312293432341\n",
      "0.995923388904528\n",
      "User: 1993,  difference: 0.00041704461334746146\n",
      "0.9963404335178756\n",
      "User: 2118,  difference: 0.0009070720340308425\n",
      "0.9953499525611752\n",
      "User: 2174,  difference: 0.00014596561467161706\n",
      "0.9948286467944908\n",
      "User: 2191,  difference: 0.00015639173000536744\n",
      "0.9974351756279128\n",
      "User: 2250,  difference: -1.0426115333750374e-05\n",
      "0.9874365310229062\n",
      "User: 2355,  difference: 0.007433820232919386\n",
      "0.992420214152409\n",
      "User: 2408,  difference: 0.0005317318820180494\n",
      "0.9963091551718745\n",
      "User: 2493,  difference: 0.00015639173000536744\n",
      "0.9954646398298458\n",
      "User: 2625,  difference: 0.0002189484220074256\n",
      "0.9950475952164983\n",
      "User: 2902,  difference: 0.0017098829147247363\n"
     ]
    }
   ],
   "source": [
    "class_distr = np.bincount(y_train_150.astype('int'))\n",
    "acc_diff_vs_constant = []\n",
    "\n",
    "for user_id in np.unique(y_train_150):\n",
    "    val = (class_distr.sum() - class_distr[user_id])/class_distr.sum()\n",
    "    print(val)\n",
    "    acc_diff_vs_constant.append(logit_cv_150users.scores_[user_id].mean() - val)\n",
    "    print(\"User: {},  difference: {}\".format(user_id, logit_cv_150users.scores_[user_id].mean() - val))"
   ]
  },
  {
   "cell_type": "raw",
   "metadata": {},
   "source": [
    "num_better_than_default = (np.array(list(acc_diff_vs_constant.values())) > 0).sum()"
   ]
  },
  {
   "cell_type": "code",
   "execution_count": 189,
   "metadata": {},
   "outputs": [
    {
     "data": {
      "text/plain": [
       "130"
      ]
     },
     "execution_count": 189,
     "metadata": {},
     "output_type": "execute_result"
    }
   ],
   "source": [
    "num_better_than_default = (np.array(acc_diff_vs_constant) > 0.).sum()\n",
    "num_better_than_default"
   ]
  },
  {
   "cell_type": "code",
   "execution_count": 190,
   "metadata": {},
   "outputs": [
    {
     "data": {
      "text/plain": [
       "150"
      ]
     },
     "execution_count": 190,
     "metadata": {},
     "output_type": "execute_result"
    }
   ],
   "source": [
    "len(acc_diff_vs_constant)"
   ]
  },
  {
   "cell_type": "code",
   "execution_count": 147,
   "metadata": {},
   "outputs": [
    {
     "data": {
      "text/plain": [
       "'0.807'"
      ]
     },
     "execution_count": 147,
     "metadata": {},
     "output_type": "execute_result"
    }
   ],
   "source": [
    "ans = str(round(num_better_than_default/ len(acc_diff_vs_constant), 3))\n",
    "ans"
   ]
  },
  {
   "cell_type": "markdown",
   "metadata": {},
   "source": [
    "**<font color='red'>Вопрос 7. </font> Посчитайте долю пользователей, для которых логистическая регрессия на кросс-валидации дает прогноз лучше константного. Округлите до 3 знаков после запятой.**"
   ]
  },
  {
   "cell_type": "code",
   "execution_count": 148,
   "metadata": {},
   "outputs": [],
   "source": [
    "with open('answer4_7.txt', 'w') as file:\n",
    "    file.write(ans)"
   ]
  },
  {
   "cell_type": "markdown",
   "metadata": {},
   "source": [
    "**Дальше будем строить кривые обучения для конкретного пользователя, допустим, для 128-го. Составьте новый бинарный вектор на основе *y_150users*, его значения будут 1 или 0 в зависимости от того, равен ли ID-шник пользователя 128.**"
   ]
  },
  {
   "cell_type": "code",
   "execution_count": 94,
   "metadata": {},
   "outputs": [],
   "source": [
    "y_binary_128 = [1 if i == 128 else 0 for i in y_150users]"
   ]
  },
  {
   "cell_type": "code",
   "execution_count": 95,
   "metadata": {},
   "outputs": [],
   "source": [
    "from sklearn.model_selection import learning_curve\n",
    "\n",
    "def plot_learning_curve(val_train, val_test, train_sizes, \n",
    "                        xlabel='Training Set Size', ylabel='score'):\n",
    "    def plot_with_err(x, data, **kwargs):\n",
    "        mu, std = data.mean(1), data.std(1)\n",
    "        lines = plt.plot(x, mu, '-', **kwargs)\n",
    "        plt.fill_between(x, mu - std, mu + std, edgecolor='none',\n",
    "                         facecolor=lines[0].get_color(), alpha=0.2)\n",
    "    plot_with_err(train_sizes, val_train, label='train')\n",
    "    plot_with_err(train_sizes, val_test, label='valid')\n",
    "    plt.xlabel(xlabel); plt.ylabel(ylabel)\n",
    "    plt.legend(loc='lower right');"
   ]
  },
  {
   "cell_type": "markdown",
   "metadata": {},
   "source": [
    "**Посчитайте доли правильных ответов на кросс-валидации в задаче классификации \"user128-vs-All\" в зависимости от размера выборки. Не помешает посмотреть встроенную документацию для *learning_curve*.**"
   ]
  },
  {
   "cell_type": "code",
   "execution_count": 125,
   "metadata": {},
   "outputs": [],
   "source": [
    "from sklearn.utils import shuffle\n",
    "X_shuf, Y_shuf = shuffle(X_sparse_150users, y_binary_128)"
   ]
  },
  {
   "cell_type": "code",
   "execution_count": 126,
   "metadata": {},
   "outputs": [
    {
     "name": "stdout",
     "output_type": "stream",
     "text": [
      "CPU times: user 24.1 s, sys: 3.37 ms, total: 24.1 s\n",
      "Wall time: 24.2 s\n"
     ]
    }
   ],
   "source": [
    "%%time\n",
    "train_sizes = np.linspace(0.25, 1, 20)\n",
    "estimator = svm_grid_searcher2.best_estimator_\n",
    "n_train, val_train, val_test = learning_curve(estimator, X_shuf, Y_shuf, \n",
    "                                              train_sizes=train_sizes, \n",
    "                                              cv=skf)"
   ]
  },
  {
   "cell_type": "code",
   "execution_count": 127,
   "metadata": {},
   "outputs": [
    {
     "data": {
      "image/png": "[encoded data removed]",
      "text/plain": [
       "<Figure size 432x288 with 1 Axes>"
      ]
     },
     "metadata": {
      "needs_background": "light"
     },
     "output_type": "display_data"
    }
   ],
   "source": [
    "plot_learning_curve(val_train, val_test, n_train, \n",
    "                    xlabel='train_size', ylabel='accuracy')"
   ]
  },
  {
   "cell_type": "markdown",
   "metadata": {},
   "source": [
    "**Сделайте выводы о том, помогут ли алгоритму новые размеченные данные при той же постановке задачи.**"
   ]
  },
  {
   "cell_type": "markdown",
   "metadata": {},
   "source": [
    "## Пути улучшения\n",
    "- конечно, можно проверить еще кучу алгоритмов, например, Xgboost, но в такой задаче очень маловероятно, что что-то справится лучше линейных методов\n",
    "- интересно проверить качество алгоритма на данных, где сессии выделялись не по количеству посещенных сайтов, а по времени, например, 5, 7, 10 и 15 минут. Отдельно стоит отметить данные нашего [соревнования](https://inclass.kaggle.com/c/catch-me-if-you-can-intruder-detection-through-webpage-session-tracking2) \n",
    "- опять же, если ресурсы позволяют, можно проверить, насколько хорошо можно решить задачу для 3000 пользователей\n",
    "\n",
    "\n",
    "На следующей неделе мы вспомним про линейные модели, обучаемые стохастическим градиентным спуском, и порадуемся тому, насколько быстрее они работают. Также сделаем первые (или не первые) посылки в [соревновании](https://inclass.kaggle.com/c/catch-me-if-you-can-intruder-detection-through-webpage-session-tracking2) Kaggle Inclass."
   ]
  }
 ],
 "metadata": {
  "anaconda-cloud": {},
  "kernelspec": {
   "display_name": "Python 3",
   "language": "python",
   "name": "python3"
  },
  "language_info": {
   "codemirror_mode": {
    "name": "ipython",
    "version": 3
   },
   "file_extension": ".py",
   "mimetype": "text/x-python",
   "name": "python",
   "nbconvert_exporter": "python",
   "pygments_lexer": "ipython3",
   "version": "3.7.7"
  }
 },
 "nbformat": 4,
 "nbformat_minor": 4
}
