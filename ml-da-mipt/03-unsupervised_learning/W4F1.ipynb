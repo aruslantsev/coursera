{
 "cells": [
  {
   "cell_type": "markdown",
   "metadata": {},
   "source": [
    "# Programming Assignment: \n",
    "## Готовим LDA по рецептам"
   ]
  },
  {
   "cell_type": "markdown",
   "metadata": {},
   "source": [
    "Как вы уже знаете, в тематическом моделировании делается предположение о том, что для определения тематики порядок слов в документе не важен; об этом гласит гипотеза «мешка слов». Сегодня мы будем работать с несколько нестандартной для тематического моделирования коллекцией, которую можно назвать «мешком ингредиентов», потому что на состоит из рецептов блюд разных кухонь. Тематические модели ищут слова, которые часто вместе встречаются в документах, и составляют из них темы. Мы попробуем применить эту идею к рецептам и найти кулинарные «темы». Эта коллекция хороша тем, что не требует предобработки. Кроме того, эта задача достаточно наглядно иллюстрирует принцип работы тематических моделей.\n",
    "\n",
    "Для выполнения заданий, помимо часто используемых в курсе библиотек, потребуются модули *json* и *gensim*. Первый входит в дистрибутив Anaconda, второй можно поставить командой \n",
    "\n",
    "*pip install gensim*\n",
    "\n",
    "Построение модели занимает некоторое время. На ноутбуке с процессором Intel Core i7 и тактовой частотой 2400 МГц на построение одной модели уходит менее 10 минут."
   ]
  },
  {
   "cell_type": "markdown",
   "metadata": {},
   "source": [
    "### Загрузка данных"
   ]
  },
  {
   "cell_type": "markdown",
   "metadata": {},
   "source": [
    "Коллекция дана в json-формате: для каждого рецепта известны его id, кухня (cuisine) и список ингредиентов, в него входящих. Загрузить данные можно с помощью модуля json (он входит в дистрибутив Anaconda):"
   ]
  },
  {
   "cell_type": "code",
   "execution_count": 1,
   "metadata": {},
   "outputs": [],
   "source": [
    "import json"
   ]
  },
  {
   "cell_type": "code",
   "execution_count": 2,
   "metadata": {},
   "outputs": [],
   "source": [
    "with open(\"recipes.json\") as f:\n",
    "    recipes = json.load(f)"
   ]
  },
  {
   "cell_type": "code",
   "execution_count": 3,
   "metadata": {},
   "outputs": [
    {
     "name": "stdout",
     "output_type": "stream",
     "text": [
      "{u'cuisine': u'greek', u'id': 10259, u'ingredients': [u'romaine lettuce', u'black olives', u'grape tomatoes', u'garlic', u'pepper', u'purple onion', u'seasoning', u'garbanzo beans', u'feta cheese crumbles']}\n"
     ]
    }
   ],
   "source": [
    "print recipes[0]"
   ]
  },
  {
   "cell_type": "markdown",
   "metadata": {},
   "source": [
    "### Составление корпуса"
   ]
  },
  {
   "cell_type": "code",
   "execution_count": 4,
   "metadata": {},
   "outputs": [],
   "source": [
    "from gensim import corpora, models\n",
    "import numpy as np"
   ]
  },
  {
   "cell_type": "markdown",
   "metadata": {},
   "source": [
    "Наша коллекция небольшая, и целиком помещается в оперативную память. Gensim может работать с такими данными и не требует их сохранения на диск в специальном формате. Для этого коллекция должна быть представлена в виде списка списков, каждый внутренний список соответствует отдельному документу и состоит из его слов. Пример коллекции из двух документов: \n",
    "\n",
    "[[\"hello\", \"world\"], [\"programming\", \"in\", \"python\"]]\n",
    "\n",
    "Преобразуем наши данные в такой формат, а затем создадим объекты corpus и dictionary, с которыми будет работать модель."
   ]
  },
  {
   "cell_type": "code",
   "execution_count": 5,
   "metadata": {},
   "outputs": [],
   "source": [
    "texts = [recipe[\"ingredients\"] for recipe in recipes]\n",
    "dictionary = corpora.Dictionary(texts)   # составляем словарь\n",
    "corpus = [dictionary.doc2bow(text) for text in texts]  # составляем корпус документов"
   ]
  },
  {
   "cell_type": "code",
   "execution_count": 6,
   "metadata": {},
   "outputs": [
    {
     "name": "stdout",
     "output_type": "stream",
     "text": [
      "[u'romaine lettuce', u'black olives', u'grape tomatoes', u'garlic', u'pepper', u'purple onion', u'seasoning', u'garbanzo beans', u'feta cheese crumbles']\n",
      "[(0, 1), (1, 1), (2, 1), (3, 1), (4, 1), (5, 1), (6, 1), (7, 1), (8, 1)]\n"
     ]
    }
   ],
   "source": [
    "print texts[0]\n",
    "print corpus[0]"
   ]
  },
  {
   "cell_type": "markdown",
   "metadata": {},
   "source": [
    "У объекта dictionary есть полезная переменная dictionary.token2id, позволяющая находить соответствие между ингредиентами и их индексами."
   ]
  },
  {
   "cell_type": "markdown",
   "metadata": {},
   "source": [
    "### Обучение модели\n",
    "Вам может понадобиться [документация](https://radimrehurek.com/gensim/models/ldamodel.html) LDA в gensim."
   ]
  },
  {
   "cell_type": "markdown",
   "metadata": {},
   "source": [
    "__Задание 1.__ Обучите модель LDA с 40 темами, установив количество проходов по коллекции 5 и оставив остальные параметры по умолчанию. \n",
    "\n",
    "\n",
    "Затем вызовите метод модели *show_topics*, указав количество тем 40 и количество токенов 10, и сохраните результат (топы ингредиентов в темах) в отдельную переменную. Если при вызове метода *show_topics* указать параметр *formatted=True*, то топы ингредиентов будет удобно выводить на печать, если *formatted=False*, будет удобно работать со списком программно. Выведите топы на печать, рассмотрите темы, а затем ответьте на вопрос:\n",
    "\n",
    "Сколько раз ингредиенты \"salt\", \"sugar\", \"water\", \"mushrooms\", \"chicken\", \"eggs\" встретились среди топов-10 всех 40 тем? При ответе __не нужно__ учитывать составные ингредиенты, например, \"hot water\".\n",
    "\n",
    "Передайте 6 чисел в функцию save_answers1 и загрузите сгенерированный файл в форму.\n",
    "\n",
    "У gensim нет возможности фиксировать случайное приближение через параметры метода, но библиотека использует numpy для инициализации матриц. Поэтому, по утверждению автора библиотеки, фиксировать случайное приближение нужно командой, которая написана в следующей ячейке. __Перед строкой кода с построением модели обязательно вставляйте указанную строку фиксации random.seed.__"
   ]
  },
  {
   "cell_type": "code",
   "execution_count": 7,
   "metadata": {},
   "outputs": [],
   "source": [
    "np.random.seed(76543)\n",
    "# здесь код для построения модели:\n",
    "ldamodel = models.ldamodel.LdaModel(corpus=corpus, id2word=dictionary, num_topics=40, passes=5)"
   ]
  },
  {
   "cell_type": "code",
   "execution_count": 8,
   "metadata": {
    "scrolled": true
   },
   "outputs": [
    {
     "name": "stdout",
     "output_type": "stream",
     "text": [
      "0 0.101*\"chopped onion\" + 0.081*\"garlic cloves\" + 0.060*\"salt\" + 0.054*\"fat free less sodium chicken broth\" + 0.047*\"sliced green onions\" + 0.045*\"water\" + 0.044*\"cooking spray\" + 0.037*\"spinach\" + 0.036*\"green beans\" + 0.035*\"ground red pepper\"\n",
      "1 0.101*\"corn kernels\" + 0.086*\"diced onions\" + 0.072*\"tortillas\" + 0.066*\"vegetable stock\" + 0.049*\"sliced black olives\" + 0.049*\"chopped fresh chives\" + 0.048*\"cream cheese, soften\" + 0.043*\"lard\" + 0.034*\"jack cheese\" + 0.024*\"canned black beans\"\n",
      "2 0.093*\"olive oil\" + 0.061*\"crushed red pepper\" + 0.059*\"fresh parsley\" + 0.047*\"garlic cloves\" + 0.045*\"fresh basil\" + 0.041*\"grated parmesan cheese\" + 0.038*\"butter\" + 0.038*\"salt\" + 0.036*\"cherry tomatoes\" + 0.035*\"low salt chicken broth\"\n",
      "3 0.074*\"bacon\" + 0.070*\"salt\" + 0.061*\"red pepper flakes\" + 0.052*\"onions\" + 0.049*\"garlic\" + 0.047*\"ground black pepper\" + 0.046*\"mushrooms\" + 0.043*\"chicken thighs\" + 0.042*\"pasta\" + 0.034*\"olive oil\"\n",
      "4 0.095*\"cooking spray\" + 0.068*\"salt\" + 0.063*\"powdered sugar\" + 0.053*\"all-purpose flour\" + 0.051*\"large egg whites\" + 0.049*\"large eggs\" + 0.047*\"sugar\" + 0.047*\"cream cheese\" + 0.045*\"yellow corn meal\" + 0.042*\"butter\"\n",
      "5 0.096*\"large garlic cloves\" + 0.094*\"shallots\" + 0.077*\"dry white wine\" + 0.056*\"olive oil\" + 0.047*\"finely chopped onion\" + 0.033*\"white wine vinegar\" + 0.033*\"unsalted butter\" + 0.032*\"arborio rice\" + 0.030*\"salt\" + 0.028*\"saffron threads\"\n",
      "6 0.090*\"dry red wine\" + 0.061*\"pork tenderloin\" + 0.055*\"reduced sodium soy sauce\" + 0.054*\"cilantro sprigs\" + 0.045*\"beef broth\" + 0.042*\"peppercorns\" + 0.037*\"cremini mushrooms\" + 0.027*\"rosemary\" + 0.026*\"frozen pastry puff sheets\" + 0.026*\"sage leaves\"\n",
      "7 0.090*\"soy sauce\" + 0.052*\"sesame oil\" + 0.044*\"scallions\" + 0.043*\"green onions\" + 0.041*\"rice vinegar\" + 0.039*\"sugar\" + 0.037*\"corn starch\" + 0.035*\"garlic\" + 0.033*\"vegetable oil\" + 0.027*\"fresh ginger\"\n",
      "8 0.172*\"garlic powder\" + 0.127*\"cayenne pepper\" + 0.065*\"onion powder\" + 0.047*\"ground black pepper\" + 0.043*\"smoked paprika\" + 0.041*\"black pepper\" + 0.040*\"salt\" + 0.039*\"pinenuts\" + 0.029*\"fresh spinach\" + 0.025*\"dried oregano\"\n",
      "9 0.115*\"extra-virgin olive oil\" + 0.066*\"garlic cloves\" + 0.061*\"fresh lemon juice\" + 0.055*\"salt\" + 0.052*\"ground black pepper\" + 0.051*\"olive oil\" + 0.047*\"plum tomatoes\" + 0.045*\"purple onion\" + 0.035*\"balsamic vinegar\" + 0.028*\"capers\"\n",
      "10 0.066*\"broccoli florets\" + 0.050*\"button mushrooms\" + 0.049*\"crème fraîche\" + 0.046*\"yellow squash\" + 0.045*\"radishes\" + 0.039*\"greek style plain yogurt\" + 0.039*\"pork sausages\" + 0.035*\"watercress\" + 0.033*\"quickcooking grits\" + 0.031*\"grated orange peel\"\n",
      "11 0.130*\"lime\" + 0.107*\"lime juice\" + 0.057*\"fresh cilantro\" + 0.034*\"chopped cilantro\" + 0.033*\"purple onion\" + 0.032*\"lime wedges\" + 0.032*\"mango\" + 0.028*\"garlic\" + 0.024*\"jalapeno chilies\" + 0.022*\"thai chile\"\n",
      "12 0.093*\"cheese\" + 0.090*\"ricotta cheese\" + 0.085*\"orange juice\" + 0.057*\"sliced mushrooms\" + 0.056*\"baby spinach\" + 0.050*\"vegetable oil cooking spray\" + 0.048*\"vegetable broth\" + 0.044*\"ground nutmeg\" + 0.036*\"frozen chopped spinach\" + 0.033*\"part-skim mozzarella cheese\"\n",
      "13 0.094*\"diced tomatoes\" + 0.064*\"onions\" + 0.058*\"dried oregano\" + 0.052*\"tomato sauce\" + 0.047*\"garlic\" + 0.046*\"salt\" + 0.045*\"tomato paste\" + 0.038*\"olive oil\" + 0.033*\"crushed tomatoes\" + 0.029*\"ground beef\"\n",
      "14 0.108*\"tomatoes\" + 0.093*\"salt\" + 0.081*\"red wine vinegar\" + 0.072*\"olive oil\" + 0.070*\"lemon juice\" + 0.062*\"cucumber\" + 0.056*\"pepper\" + 0.042*\"fresh oregano\" + 0.036*\"garlic\" + 0.033*\"purple onion\"\n",
      "15 0.196*\"lemon\" + 0.054*\"orange\" + 0.052*\"boiling water\" + 0.048*\"fine sea salt\" + 0.045*\"sugar\" + 0.043*\"cold water\" + 0.041*\"fennel seeds\" + 0.033*\"water\" + 0.031*\"almonds\" + 0.027*\"mint\"\n",
      "16 0.101*\"chopped cilantro fresh\" + 0.073*\"fresh lime juice\" + 0.069*\"jalapeno chilies\" + 0.051*\"white onion\" + 0.048*\"salt\" + 0.044*\"avocado\" + 0.038*\"garlic cloves\" + 0.036*\"ground cumin\" + 0.029*\"vegetable oil\" + 0.026*\"tomatoes\"\n",
      "17 0.102*\"ground ginger\" + 0.099*\"ground cinnamon\" + 0.084*\"raisins\" + 0.079*\"ground cloves\" + 0.072*\"white wine\" + 0.063*\"ground allspice\" + 0.057*\"fresh mushrooms\" + 0.052*\"lean ground beef\" + 0.033*\"dried rosemary\" + 0.031*\"iceberg lettuce\"\n",
      "18 0.115*\"parmesan cheese\" + 0.070*\"warm water\" + 0.065*\"salt\" + 0.057*\"dried basil\" + 0.053*\"olive oil\" + 0.038*\"grits\" + 0.032*\"kale\" + 0.031*\"plain flour\" + 0.028*\"water\" + 0.027*\"dry yeast\"\n",
      "19 0.118*\"unsalted butter\" + 0.097*\"large eggs\" + 0.097*\"all-purpose flour\" + 0.076*\"salt\" + 0.063*\"sugar\" + 0.039*\"whole milk\" + 0.039*\"granulated sugar\" + 0.034*\"baking powder\" + 0.026*\"large egg yolks\" + 0.025*\"baking soda\"\n",
      "20 0.117*\"flat leaf parsley\" + 0.100*\"freshly ground pepper\" + 0.058*\"extra-virgin olive oil\" + 0.053*\"garlic cloves\" + 0.044*\"large shrimp\" + 0.042*\"olive oil\" + 0.041*\"salt\" + 0.033*\"dry bread crumbs\" + 0.027*\"ground black pepper\" + 0.026*\"kosher salt\"\n",
      "21 0.144*\"chicken broth\" + 0.068*\"green bell pepper\" + 0.058*\"boneless skinless chicken breast halves\" + 0.056*\"onions\" + 0.056*\"boneless skinless chicken breasts\" + 0.047*\"red bell pepper\" + 0.046*\"chicken breasts\" + 0.041*\"pepper\" + 0.039*\"butter\" + 0.039*\"salt\"\n",
      "22 0.112*\"grated parmesan cheese\" + 0.064*\"zucchini\" + 0.063*\"olive oil\" + 0.046*\"salt\" + 0.040*\"garlic\" + 0.040*\"mozzarella cheese\" + 0.037*\"shredded mozzarella cheese\" + 0.036*\"eggplant\" + 0.033*\"pepper\" + 0.032*\"eggs\"\n",
      "23 0.079*\"brown sugar\" + 0.051*\"soy sauce\" + 0.050*\"water\" + 0.049*\"salt\" + 0.046*\"white pepper\" + 0.044*\"oil\" + 0.041*\"sugar\" + 0.038*\"sauce\" + 0.034*\"garlic\" + 0.033*\"ketchup\"\n",
      "24 0.077*\"ground cumin\" + 0.049*\"ground coriander\" + 0.047*\"salt\" + 0.040*\"curry powder\" + 0.032*\"onions\" + 0.027*\"garlic cloves\" + 0.027*\"vegetable oil\" + 0.027*\"ground turmeric\" + 0.026*\"garlic\" + 0.024*\"fresh ginger\"\n",
      "25 0.092*\"hot water\" + 0.085*\"chopped garlic\" + 0.062*\"peanut oil\" + 0.060*\"rice wine\" + 0.047*\"hot red pepper flakes\" + 0.037*\"corn oil\" + 0.033*\"fontina cheese\" + 0.031*\"marsala wine\" + 0.031*\"seasoning\" + 0.030*\"garlic chili sauce\"\n",
      "26 0.084*\"mirin\" + 0.074*\"chickpeas\" + 0.051*\"red pepper\" + 0.051*\"mint leaves\" + 0.049*\"juice\" + 0.048*\"chopped fresh mint\" + 0.044*\"sugar\" + 0.037*\"sake\" + 0.034*\"fresh coriander\" + 0.031*\"spring onions\"\n",
      "27 0.186*\"heavy cream\" + 0.103*\"cheddar cheese\" + 0.067*\"grated nutmeg\" + 0.065*\"frozen peas\" + 0.043*\"bananas\" + 0.037*\"bread\" + 0.026*\"ice\" + 0.025*\"butter\" + 0.024*\"adobo sauce\" + 0.023*\"old bay seasoning\"\n",
      "28 0.114*\"oil\" + 0.084*\"salt\" + 0.054*\"cilantro leaves\" + 0.051*\"cumin seed\" + 0.049*\"green chilies\" + 0.046*\"onions\" + 0.045*\"ground turmeric\" + 0.042*\"water\" + 0.031*\"red chili peppers\" + 0.030*\"chili powder\"\n",
      "29 0.076*\"sour cream\" + 0.046*\"salsa\" + 0.046*\"flour tortillas\" + 0.045*\"chili powder\" + 0.041*\"corn tortillas\" + 0.040*\"shredded cheddar cheese\" + 0.039*\"black beans\" + 0.035*\"cilantro\" + 0.031*\"salt\" + 0.028*\"ground cumin\"\n",
      "30 0.093*\"sugar\" + 0.081*\"whipping cream\" + 0.076*\"egg yolks\" + 0.056*\"egg whites\" + 0.051*\"butter\" + 0.051*\"vanilla extract\" + 0.043*\"half & half\" + 0.037*\"sweetened condensed milk\" + 0.034*\"water\" + 0.031*\"strawberries\"\n",
      "31 0.089*\"shrimp\" + 0.055*\"medium shrimp\" + 0.048*\"celery ribs\" + 0.042*\"vegetable oil\" + 0.039*\"long-grain rice\" + 0.039*\"green onions\" + 0.034*\"hot sauce\" + 0.031*\"chopped celery\" + 0.031*\"long grain white rice\" + 0.030*\"rice noodles\"\n",
      "32 0.112*\"eggs\" + 0.105*\"milk\" + 0.097*\"salt\" + 0.073*\"butter\" + 0.067*\"all-purpose flour\" + 0.044*\"flour\" + 0.042*\"white sugar\" + 0.041*\"baking powder\" + 0.040*\"sugar\" + 0.023*\"water\"\n",
      "33 0.060*\"garam masala\" + 0.055*\"rice\" + 0.053*\"ginger\" + 0.051*\"tumeric\" + 0.050*\"salt\" + 0.048*\"coriander\" + 0.046*\"onions\" + 0.036*\"garlic\" + 0.032*\"cinnamon\" + 0.030*\"ghee\"\n",
      "34 0.095*\"cinnamon sticks\" + 0.089*\"clove\" + 0.074*\"black peppercorns\" + 0.043*\"chopped tomatoes\" + 0.043*\"cream\" + 0.036*\"yoghurt\" + 0.035*\"coriander seeds\" + 0.034*\"fresh dill\" + 0.033*\"saffron\" + 0.028*\"onions\"\n",
      "35 0.064*\"onions\" + 0.059*\"bay leaves\" + 0.054*\"celery\" + 0.049*\"dried thyme\" + 0.046*\"salt\" + 0.046*\"bay leaf\" + 0.044*\"carrots\" + 0.042*\"water\" + 0.033*\"garlic\" + 0.031*\"ground black pepper\"\n",
      "36 0.104*\"salt\" + 0.078*\"onions\" + 0.075*\"pepper\" + 0.066*\"paprika\" + 0.052*\"potatoes\" + 0.040*\"carrots\" + 0.038*\"garlic\" + 0.036*\"butter\" + 0.033*\"olive oil\" + 0.029*\"cabbage\"\n",
      "37 0.115*\"sea salt\" + 0.069*\"coarse salt\" + 0.066*\"crushed red pepper flakes\" + 0.051*\"extra-virgin olive oil\" + 0.047*\"ground black pepper\" + 0.043*\"ground pepper\" + 0.038*\"kosher salt\" + 0.035*\"parmigiano reggiano cheese\" + 0.029*\"olive oil\" + 0.028*\"garlic cloves\"\n",
      "38 0.114*\"fish sauce\" + 0.055*\"coconut milk\" + 0.043*\"garlic\" + 0.036*\"shallots\" + 0.033*\"lemongrass\" + 0.026*\"vegetable oil\" + 0.026*\"sugar\" + 0.025*\"boneless chicken skinless thigh\" + 0.025*\"red chili peppers\" + 0.025*\"cooking oil\"\n",
      "39 0.154*\"mayonaise\" + 0.096*\"dijon mustard\" + 0.070*\"cider vinegar\" + 0.070*\"cracked black pepper\" + 0.047*\"roma tomatoes\" + 0.044*\"white rice\" + 0.044*\"lemon wedge\" + 0.034*\"romaine lettuce\" + 0.025*\"chicken wings\" + 0.024*\"green onions\"\n"
     ]
    }
   ],
   "source": [
    "for t, top_words in ldamodel.show_topics(num_topics=40, num_words=10, formatted=True):\n",
    "    print t, top_words"
   ]
  },
  {
   "cell_type": "code",
   "execution_count": 9,
   "metadata": {},
   "outputs": [],
   "source": [
    "search_count = [0, 0, 0, 0, 0, 0]\n",
    "search_words = [\"salt\", \"sugar\", \"water\", \"mushrooms\", \"chicken\", \"eggs\"]\n",
    "words = []\n",
    "for _, top_words in ldamodel.show_topics(num_topics=40, num_words=10, formatted=False):\n",
    "    for word, _ in top_words:\n",
    "        words.append(word)\n",
    "        \n",
    "for i in range(len(search_words)):\n",
    "    search_count[i] = words.count(search_words[i])"
   ]
  },
  {
   "cell_type": "code",
   "execution_count": 10,
   "metadata": {},
   "outputs": [
    {
     "data": {
      "text/plain": [
       "[23, 9, 8, 1, 0, 2]"
      ]
     },
     "execution_count": 10,
     "metadata": {},
     "output_type": "execute_result"
    }
   ],
   "source": [
    "search_count"
   ]
  },
  {
   "cell_type": "code",
   "execution_count": 11,
   "metadata": {},
   "outputs": [],
   "source": [
    "def save_answers1(c_salt, c_sugar, c_water, c_mushrooms, c_chicken, c_eggs):\n",
    "    with open(\"cooking_LDA_pa_task1.txt\", \"w\") as fout:\n",
    "        fout.write(\" \".join([str(el) for el in [c_salt, c_sugar, c_water, c_mushrooms, c_chicken, c_eggs]]))\n",
    "        \n",
    "save_answers1(*search_count)"
   ]
  },
  {
   "cell_type": "markdown",
   "metadata": {},
   "source": [
    "### Фильтрация словаря\n",
    "В топах тем гораздо чаще встречаются первые три рассмотренных ингредиента, чем последние три. При этом наличие в рецепте курицы, яиц и грибов яснее дает понять, что мы будем готовить, чем наличие соли, сахара и воды. Таким образом, даже в рецептах есть слова, часто встречающиеся в текстах и не несущие смысловой нагрузки, и поэтому их не желательно видеть в темах. Наиболее простой прием борьбы с такими фоновыми элементами — фильтрация словаря по частоте. Обычно словарь фильтруют с двух сторон: убирают очень редкие слова (в целях экономии памяти) и очень частые слова (в целях повышения интерпретируемости тем). Мы уберем только частые слова."
   ]
  },
  {
   "cell_type": "code",
   "execution_count": 12,
   "metadata": {},
   "outputs": [],
   "source": [
    "import copy\n",
    "dictionary2 = copy.deepcopy(dictionary)"
   ]
  },
  {
   "cell_type": "markdown",
   "metadata": {},
   "source": [
    "__Задание 2.__ У объекта dictionary2 есть переменная *dfs* — это словарь, ключами которого являются id токена, а элементами — число раз, сколько слово встретилось во всей коллекции. Сохраните в отдельный список ингредиенты, которые встретились в коллекции больше 4000 раз. Вызовите метод словаря *filter_tokens*, подав в качестве первого аргумента полученный список популярных ингредиентов. Вычислите две величины: dict_size_before и dict_size_after — размер словаря до и после фильтрации.\n",
    "\n",
    "Затем, используя новый словарь, создайте новый корпус документов, corpus2, по аналогии с тем, как это сделано в начале ноутбука. Вычислите две величины: corpus_size_before и corpus_size_after — суммарное количество ингредиентов в корпусе (для каждого документа вычислите число различных ингредиентов в нем и просуммируйте по всем документам) до и после фильтрации.\n",
    "\n",
    "Передайте величины dict_size_before, dict_size_after, corpus_size_before, corpus_size_after в функцию save_answers2 и загрузите сгенерированный файл в форму."
   ]
  },
  {
   "cell_type": "code",
   "execution_count": 13,
   "metadata": {},
   "outputs": [
    {
     "data": {
      "text/plain": [
       "[u'garlic',\n",
       " u'pepper',\n",
       " u'ground black pepper',\n",
       " u'salt',\n",
       " u'vegetable oil',\n",
       " u'butter',\n",
       " u'water',\n",
       " u'onions',\n",
       " u'sugar',\n",
       " u'olive oil',\n",
       " u'garlic cloves',\n",
       " u'all-purpose flour']"
      ]
     },
     "execution_count": 13,
     "metadata": {},
     "output_type": "execute_result"
    }
   ],
   "source": [
    "word_ids = [word_id for word_id, cnt in dictionary2.dfs.items() if cnt > 4000]\n",
    "frequent_words = [dictionary2[word_id] for word_id in word_ids]\n",
    "frequent_words"
   ]
  },
  {
   "cell_type": "code",
   "execution_count": 14,
   "metadata": {},
   "outputs": [],
   "source": [
    "dict_size_before = len(dictionary)\n",
    "dictionary2.filter_tokens(bad_ids=word_ids)\n",
    "dict_size_after = len(dictionary2)"
   ]
  },
  {
   "cell_type": "code",
   "execution_count": 15,
   "metadata": {},
   "outputs": [],
   "source": [
    "corpus2 = [dictionary2.doc2bow(text) for text in texts]"
   ]
  },
  {
   "cell_type": "code",
   "execution_count": 16,
   "metadata": {},
   "outputs": [],
   "source": [
    "corpus_len_before, corpus_len_after = 0, 0\n",
    "for text in corpus:\n",
    "    corpus_len_before += len(text)\n",
    "for text in corpus2:\n",
    "    corpus_len_after += len(text)"
   ]
  },
  {
   "cell_type": "code",
   "execution_count": 17,
   "metadata": {},
   "outputs": [],
   "source": [
    "def save_answers2(dict_size_before, dict_size_after, corpus_size_before, corpus_size_after):\n",
    "    with open(\"cooking_LDA_pa_task2.txt\", \"w\") as fout:\n",
    "        fout.write(\" \".join([str(el) for el in [dict_size_before, dict_size_after, corpus_size_before, corpus_size_after]]))"
   ]
  },
  {
   "cell_type": "code",
   "execution_count": 18,
   "metadata": {},
   "outputs": [],
   "source": [
    "save_answers2(dict_size_before, dict_size_after, corpus_len_before, corpus_len_after)"
   ]
  },
  {
   "cell_type": "markdown",
   "metadata": {},
   "source": [
    "### Сравнение когерентностей\n",
    "__Задание 3.__ Постройте еще одну модель по корпусу corpus2 и словарю dictionary2, остальные параметры оставьте такими же, как при первом построении модели. Сохраните новую модель в другую переменную (не перезаписывайте предыдущую модель). Не забудьте про фиксирование seed!\n",
    "\n",
    "Затем воспользуйтесь методом *top_topics* модели, чтобы вычислить ее когерентность. Передайте в качестве аргумента соответствующий модели корпус. Метод вернет список кортежей (топ токенов, когерентность), отсортированных по убыванию последней. Вычислите среднюю по всем темам когерентность для каждой из двух моделей и передайте в функцию save_answers3. "
   ]
  },
  {
   "cell_type": "code",
   "execution_count": 33,
   "metadata": {},
   "outputs": [],
   "source": [
    "np.random.seed(76543)\n",
    "# здесь код для построения модели:\n",
    "ldamodel2 = models.ldamodel.LdaModel(corpus=corpus2, id2word=dictionary2, num_topics=40, passes=5)"
   ]
  },
  {
   "cell_type": "code",
   "execution_count": 20,
   "metadata": {},
   "outputs": [],
   "source": [
    "c = np.mean([i[1] for i in ldamodel.top_topics(corpus=corpus)])\n",
    "c2 = np.mean([i[1] for i in ldamodel2.top_topics(corpus=corpus2)])"
   ]
  },
  {
   "cell_type": "code",
   "execution_count": 21,
   "metadata": {},
   "outputs": [
    {
     "data": {
      "text/plain": [
       "(-6.35183559030036, -8.562805031020371)"
      ]
     },
     "execution_count": 21,
     "metadata": {},
     "output_type": "execute_result"
    }
   ],
   "source": [
    "c, c2"
   ]
  },
  {
   "cell_type": "code",
   "execution_count": 22,
   "metadata": {},
   "outputs": [],
   "source": [
    "def save_answers3(coherence, coherence2):\n",
    "    with open(\"cooking_LDA_pa_task3.txt\", \"w\") as fout:\n",
    "        fout.write(\" \".join([\"%3f\"%el for el in [coherence, coherence2]]))"
   ]
  },
  {
   "cell_type": "code",
   "execution_count": 23,
   "metadata": {},
   "outputs": [],
   "source": [
    "save_answers3(c, c2)"
   ]
  },
  {
   "cell_type": "markdown",
   "metadata": {},
   "source": [
    "Считается, что когерентность хорошо соотносится с человеческими оценками интерпретируемости тем. Поэтому на больших текстовых коллекциях когерентность обычно повышается, если убрать фоновую лексику. Однако в нашем случае этого не произошло. "
   ]
  },
  {
   "cell_type": "markdown",
   "metadata": {},
   "source": [
    "### Изучение влияния гиперпараметра alpha"
   ]
  },
  {
   "cell_type": "markdown",
   "metadata": {},
   "source": [
    "В этом разделе мы будем работать со второй моделью, то есть той, которая построена по сокращенному корпусу. \n",
    "\n",
    "Пока что мы посмотрели только на матрицу темы-слова, теперь давайте посмотрим на матрицу темы-документы. Выведите темы для нулевого (или любого другого) документа из корпуса, воспользовавшись методом *get_document_topics* второй модели:"
   ]
  },
  {
   "cell_type": "code",
   "execution_count": 29,
   "metadata": {},
   "outputs": [
    {
     "name": "stdout",
     "output_type": "stream",
     "text": [
      "[(8, 0.12812267), (31, 0.61733055), (33, 0.13891871)]\n",
      "[u'green tomatoes', u'garam masala', u'ground cumin']\n"
     ]
    }
   ],
   "source": [
    "print(ldamodel2.get_document_topics(corpus2[0]))\n",
    "print([dictionary2[i[0]] for i in ldamodel2.get_document_topics(corpus2[0])])"
   ]
  },
  {
   "cell_type": "markdown",
   "metadata": {},
   "source": [
    "Также выведите содержимое переменной *.alpha* второй модели:"
   ]
  },
  {
   "cell_type": "code",
   "execution_count": 30,
   "metadata": {},
   "outputs": [
    {
     "data": {
      "text/plain": [
       "array([0.025, 0.025, 0.025, 0.025, 0.025, 0.025, 0.025, 0.025, 0.025,\n",
       "       0.025, 0.025, 0.025, 0.025, 0.025, 0.025, 0.025, 0.025, 0.025,\n",
       "       0.025, 0.025, 0.025, 0.025, 0.025, 0.025, 0.025, 0.025, 0.025,\n",
       "       0.025, 0.025, 0.025, 0.025, 0.025, 0.025, 0.025, 0.025, 0.025,\n",
       "       0.025, 0.025, 0.025, 0.025], dtype=float32)"
      ]
     },
     "execution_count": 30,
     "metadata": {},
     "output_type": "execute_result"
    }
   ],
   "source": [
    "ldamodel2.alpha"
   ]
  },
  {
   "cell_type": "markdown",
   "metadata": {},
   "source": [
    "У вас должно получиться, что документ характеризуется небольшим числом тем. Попробуем поменять гиперпараметр alpha, задающий априорное распределение Дирихле для распределений тем в документах."
   ]
  },
  {
   "cell_type": "markdown",
   "metadata": {},
   "source": [
    "__Задание 4.__ Обучите третью модель: используйте сокращенный корпус (corpus2 и dictionary2) и установите параметр __alpha=1__, passes=5. Не забудьте про фиксацию seed! Выведите темы новой модели для нулевого документа; должно получиться, что распределение над множеством тем практически равномерное. Чтобы убедиться в том, что во второй модели документы описываются гораздо более разреженными распределениями, чем в третьей, посчитайте суммарное количество элементов, __превосходящих 0.01__, в матрицах темы-документы обеих моделей. Другими словами, запросите темы  модели для каждого документа с параметром *minimum_probability=0.01* и просуммируйте число элементов в получаемых массивах. Передайте две суммы (сначала для модели с alpha по умолчанию, затем для модели в alpha=1) в функцию save_answers4."
   ]
  },
  {
   "cell_type": "code",
   "execution_count": 32,
   "metadata": {},
   "outputs": [],
   "source": [
    "np.random.seed(76543)\n",
    "# здесь код для построения модели:\n",
    "ldamodel3 = models.ldamodel.LdaModel(corpus=corpus2, id2word=dictionary2, num_topics=40, passes=5, alpha=1)"
   ]
  },
  {
   "cell_type": "code",
   "execution_count": 35,
   "metadata": {},
   "outputs": [
    {
     "name": "stdout",
     "output_type": "stream",
     "text": [
      "[(0, 0.021391915), (1, 0.021293446), (2, 0.021276835), (3, 0.021361189), (4, 0.021292925), (5, 0.02130557), (6, 0.021300716), (7, 0.02127947), (8, 0.02138947), (9, 0.021370025), (10, 0.021823721), (11, 0.021466145), (12, 0.021276835), (13, 0.022181358), (14, 0.021689592), (15, 0.021494001), (16, 0.021389853), (17, 0.02195258), (18, 0.02131671), (19, 0.021639206), (20, 0.024814695), (21, 0.021277022), (22, 0.021276835), (23, 0.021283438), (24, 0.021747079), (25, 0.021486273), (26, 0.021447573), (27, 0.021613037), (28, 0.021488562), (29, 0.02130008), (30, 0.042602744), (31, 0.09227672), (32, 0.021491868), (33, 0.02127799), (34, 0.021429798), (35, 0.021356473), (36, 0.0213259), (37, 0.021286678), (38, 0.021277495), (39, 0.06844818)]\n",
      "[u'black olives', u'feta cheese crumbles', u'garbanzo beans', u'grape tomatoes', u'purple onion', u'romaine lettuce', u'seasoning', u'eggs', u'green tomatoes', u'ground pepper', u'milk', u'plain flour', u'thyme', u'tomatoes', u'yellow corn meal', u'chicken livers', u'cooking oil', u'garlic powder', u'green chilies', u'grilled chicken breasts', u'mayonaise', u'soy sauce', u'yellow onion', u'wheat', u'bay leaf', u'black pepper', u'boneless chicken skinless thigh', u'cayenne pepper', u'chili powder', u'cornflour', u'double cream', u'garam masala', u'garlic paste', u'ground cumin', u'lemon juice', u'natural yogurt', u'oil', u'passata', u'shallots', u'baking powder']\n"
     ]
    }
   ],
   "source": [
    "print(ldamodel3.get_document_topics(corpus2[0]))\n",
    "print([dictionary2[i[0]] for i in ldamodel3.get_document_topics(corpus2[0])])"
   ]
  },
  {
   "cell_type": "code",
   "execution_count": 39,
   "metadata": {},
   "outputs": [],
   "source": [
    "count_model2, count_model3 = 0, 0\n",
    "for corp in corpus2:\n",
    "    count_model2 += len(ldamodel2.get_document_topics(corp, minimum_probability=0.01))\n",
    "    count_model3 += len(ldamodel3.get_document_topics(corp, minimum_probability=0.01))"
   ]
  },
  {
   "cell_type": "code",
   "execution_count": 40,
   "metadata": {},
   "outputs": [],
   "source": [
    "def save_answers4(count_model2, count_model3):\n",
    "    with open(\"cooking_LDA_pa_task4.txt\", \"w\") as fout:\n",
    "        fout.write(\" \".join([str(el) for el in [count_model2, count_model3]]))"
   ]
  },
  {
   "cell_type": "code",
   "execution_count": 41,
   "metadata": {},
   "outputs": [
    {
     "name": "stdout",
     "output_type": "stream",
     "text": [
      "(202147, 1590960)\n"
     ]
    }
   ],
   "source": [
    "save_answers4(count_model2, count_model3)\n",
    "print(count_model2, count_model3)"
   ]
  },
  {
   "cell_type": "markdown",
   "metadata": {},
   "source": [
    "Таким образом, гиперпараметр __alpha__ влияет на разреженность распределений тем в документах. Аналогично гиперпараметр __eta__ влияет на разреженность распределений слов в темах."
   ]
  },
  {
   "cell_type": "markdown",
   "metadata": {},
   "source": [
    "### LDA как способ понижения размерности\n",
    "Иногда, распределения над темами, найденные с помощью LDA, добавляют в матрицу объекты-признаки как дополнительные, семантические, признаки, и это может улучшить качество решения задачи. Для простоты давайте просто обучим классификатор рецептов на кухни на признаках, полученных из LDA, и измерим точность (accuracy).\n",
    "\n",
    "__Задание 5.__ Используйте модель, построенную по сокращенной выборке с alpha по умолчанию (вторую модель). Составьте матрицу $\\Theta = p(t|d)$ вероятностей тем в документах; вы можете использовать тот же метод get_document_topics, а также вектор правильных ответов y (в том же порядке, в котором рецепты идут в переменной recipes). Создайте объект RandomForestClassifier со 100 деревьями, с помощью функции cross_val_score вычислите среднюю accuracy по трем фолдам (перемешивать данные не нужно) и передайте в функцию save_answers5."
   ]
  },
  {
   "cell_type": "code",
   "execution_count": 85,
   "metadata": {},
   "outputs": [],
   "source": [
    "from sklearn.ensemble import RandomForestClassifier\n",
    "from sklearn.model_selection import cross_val_score\n",
    "from tqdm import tqdm_notebook\n",
    "SIZE = 40\n",
    "X = np.zeros((len(recipes), SIZE))"
   ]
  },
  {
   "cell_type": "code",
   "execution_count": 86,
   "metadata": {},
   "outputs": [
    {
     "data": {
      "application/vnd.jupyter.widget-view+json": {
       "model_id": "564024a8abe2435ca235c4e7d67dad98",
       "version_major": 2,
       "version_minor": 0
      },
      "text/plain": [
       "HBox(children=(IntProgress(value=0, max=39774), HTML(value=u'')))"
      ]
     },
     "metadata": {},
     "output_type": "display_data"
    },
    {
     "name": "stdout",
     "output_type": "stream",
     "text": [
      "\n"
     ]
    }
   ],
   "source": [
    "for r, recipe in enumerate(tqdm_notebook(corpus2)):\n",
    "    col = [i[0] for i in ldamodel2.get_document_topics(recipe)]\n",
    "    val = [i[1] for i in ldamodel2.get_document_topics(recipe)]\n",
    "    # print ldamodel2.get_document_topics(recipe)\n",
    "    for c, value in zip(col, val):\n",
    "        # print r, c\n",
    "        X[r, c] = value"
   ]
  },
  {
   "cell_type": "code",
   "execution_count": 87,
   "metadata": {},
   "outputs": [],
   "source": [
    "y = [recipe['cuisine'] for recipe in recipes]"
   ]
  },
  {
   "cell_type": "code",
   "execution_count": 91,
   "metadata": {},
   "outputs": [],
   "source": [
    "model = RandomForestClassifier(random_state=42, n_estimators=100)\n",
    "scores = cross_val_score(estimator=model, X=X, y=y, cv=3, n_jobs=6)"
   ]
  },
  {
   "cell_type": "code",
   "execution_count": 92,
   "metadata": {},
   "outputs": [],
   "source": [
    "def save_answers5(accuracy):\n",
    "     with open(\"cooking_LDA_pa_task5.txt\", \"w\") as fout:\n",
    "        fout.write(str(accuracy))"
   ]
  },
  {
   "cell_type": "code",
   "execution_count": 94,
   "metadata": {},
   "outputs": [],
   "source": [
    "save_answers5(np.mean(scores))"
   ]
  },
  {
   "cell_type": "markdown",
   "metadata": {},
   "source": [
    "Для такого большого количества классов это неплохая точность. Вы можете попроовать обучать RandomForest на исходной матрице частот слов, имеющей значительно большую размерность, и увидеть, что accuracy увеличивается на 10–15%. Таким образом, LDA собрал не всю, но достаточно большую часть информации из выборки, в матрице низкого ранга."
   ]
  },
  {
   "cell_type": "markdown",
   "metadata": {},
   "source": [
    "### LDA — вероятностная модель\n",
    "Матричное разложение, использующееся в LDA, интерпретируется как следующий процесс генерации документов.\n",
    "\n",
    "Для документа $d$ длины $n_d$:\n",
    "1. Из априорного распределения Дирихле с параметром alpha сгенерировать распределение над множеством тем: $\\theta_d \\sim Dirichlet(\\alpha)$\n",
    "1. Для каждого слова $w = 1, \\dots, n_d$:\n",
    "    1. Сгенерировать тему из дискретного распределения $t \\sim \\theta_{d}$\n",
    "    1. Сгенерировать слово из дискретного распределения $w \\sim \\phi_{t}$.\n",
    "    \n",
    "Подробнее об этом в [Википедии](https://en.wikipedia.org/wiki/Latent_Dirichlet_allocation).\n",
    "\n",
    "В контексте нашей задачи получается, что, используя данный генеративный процесс, можно создавать новые рецепты. Вы можете передать в функцию модель и число ингредиентов и сгенерировать рецепт :)"
   ]
  },
  {
   "cell_type": "code",
   "execution_count": 67,
   "metadata": {},
   "outputs": [],
   "source": [
    "def generate_recipe(model, num_ingredients):\n",
    "    theta = np.random.dirichlet(model.alpha)\n",
    "    for i in range(num_ingredients):\n",
    "        t = np.random.choice(np.arange(model.num_topics), p=theta)\n",
    "        topic = model.show_topic(t, topn=model.num_terms)\n",
    "        topic_distr = [x[1] for x in topic]\n",
    "        terms = [x[0] for x in topic]\n",
    "        w = np.random.choice(terms, p=topic_distr/np.sum(topic_distr))\n",
    "        print w"
   ]
  },
  {
   "cell_type": "code",
   "execution_count": 73,
   "metadata": {},
   "outputs": [
    {
     "name": "stdout",
     "output_type": "stream",
     "text": [
      "crushed tomatoes\n",
      "processed cheese\n",
      "tomato paste\n",
      "vegetable oil cooking spray\n",
      "eggplant\n"
     ]
    }
   ],
   "source": [
    "generate_recipe(ldamodel2, 5)"
   ]
  },
  {
   "cell_type": "markdown",
   "metadata": {},
   "source": [
    "### Интерпретация построенной модели\n",
    "Вы можете рассмотреть топы ингредиентов каждой темы. Большиснтво тем сами по себе похожи на рецепты; в некоторых собираются продукты одного вида, например, свежие фрукты или разные виды сыра.\n",
    "\n",
    "Попробуем эмпирически соотнести наши темы с национальными кухнями (cuisine). Построим матрицу $A$ размера темы $x$ кухни, ее элементы $a_{tc}$ — суммы $p(t|d)$ по всем документам $d$, которые отнесены к кухне $c$. Нормируем матрицу на частоты рецептов по разным кухням, чтобы избежать дисбаланса между кухнями. Следующая функция получает на вход объект модели, объект корпуса и исходные данные и возвращает нормированную матрицу $A$. Ее удобно визуализировать с помощью seaborn."
   ]
  },
  {
   "cell_type": "code",
   "execution_count": 49,
   "metadata": {},
   "outputs": [],
   "source": [
    "import pandas\n",
    "import seaborn\n",
    "from matplotlib import pyplot as plt\n",
    "%matplotlib inline"
   ]
  },
  {
   "cell_type": "code",
   "execution_count": 50,
   "metadata": {},
   "outputs": [],
   "source": [
    "def compute_topic_cuisine_matrix(model, corpus, recipes):\n",
    "    # составляем вектор целевых признаков\n",
    "    targets = list(set([recipe[\"cuisine\"] for recipe in recipes]))\n",
    "    # составляем матрицу\n",
    "    tc_matrix = pandas.DataFrame(data=np.zeros((model.num_topics, len(targets))), columns=targets)\n",
    "    for recipe, bow in zip(recipes, corpus):\n",
    "        recipe_topic = model.get_document_topics(bow)\n",
    "        for t, prob in recipe_topic:\n",
    "            tc_matrix[recipe[\"cuisine\"]][t] += prob\n",
    "    # нормируем матрицу\n",
    "    target_sums = pandas.DataFrame(data=np.zeros((1, len(targets))), columns=targets)\n",
    "    for recipe in recipes:\n",
    "        target_sums[recipe[\"cuisine\"]] += 1\n",
    "    return pandas.DataFrame(tc_matrix.values/target_sums.values, columns=tc_matrix.columns)"
   ]
  },
  {
   "cell_type": "code",
   "execution_count": 51,
   "metadata": {},
   "outputs": [],
   "source": [
    "def plot_matrix(tc_matrix):\n",
    "    plt.figure(figsize=(10, 10))\n",
    "    seaborn.heatmap(tc_matrix, square=True)"
   ]
  },
  {
   "cell_type": "code",
   "execution_count": 52,
   "metadata": {},
   "outputs": [
    {
     "data": {
      "image/png": "[encoded data removed]",
      "text/plain": [
       "<Figure size 720x720 with 2 Axes>"
      ]
     },
     "metadata": {
      "needs_background": "light"
     },
     "output_type": "display_data"
    }
   ],
   "source": [
    "tc_matrix = compute_topic_cuisine_matrix(ldamodel, corpus, recipes)\n",
    "plot_matrix(tc_matrix)"
   ]
  },
  {
   "cell_type": "markdown",
   "metadata": {},
   "source": [
    "Чем темнее квадрат в матрице, тем больше связь этой темы с данной кухней. Мы видим, что у нас есть темы, которые связаны с несколькими кухнями. Такие темы показывают набор ингредиентов, которые популярны в кухнях нескольких народов, то есть указывают на схожесть кухонь этих народов. Некоторые темы распределены по всем кухням равномерно, они показывают наборы продуктов, которые часто используются в кулинарии всех стран. "
   ]
  },
  {
   "cell_type": "markdown",
   "metadata": {},
   "source": [
    "Жаль, что в датасете нет названий рецептов, иначе темы было бы проще интерпретировать..."
   ]
  },
  {
   "cell_type": "markdown",
   "metadata": {},
   "source": [
    "### Заключение\n",
    "В этом задании вы построили несколько моделей LDA, посмотрели, на что влияют гиперпараметры модели и как можно использовать построенную модель. "
   ]
  }
 ],
 "metadata": {
  "kernelspec": {
   "display_name": "Python 2",
   "language": "python",
   "name": "python2"
  },
  "language_info": {
   "codemirror_mode": {
    "name": "ipython",
    "version": 2
   },
   "file_extension": ".py",
   "mimetype": "text/x-python",
   "name": "python",
   "nbconvert_exporter": "python",
   "pygments_lexer": "ipython2",
   "version": "2.7.15"
  }
 },
 "nbformat": 4,
 "nbformat_minor": 1
}
