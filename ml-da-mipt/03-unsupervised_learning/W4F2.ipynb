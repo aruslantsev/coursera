{
 "cells": [
  {
   "cell_type": "markdown",
   "metadata": {},
   "source": [
    "# Тематическая модель [Постнауки](http://postnauka.ru)\n",
    "## Peer Review (optional)"
   ]
  },
  {
   "cell_type": "markdown",
   "metadata": {},
   "source": [
    "В этом задании мы применим аппарат тематического моделирования к коллекции текстовых записей видеолекций, скачанных с сайта Постнаука. Мы будем визуализировать модель и создавать прототип тематического навигатора по коллекции. В коллекции 1728 документов, размер словаря - 38467 слов. Слова лемматизированы, то есть приведены к начальной форме, с помощью программы [mystem](https://tech.yandex.ru/mystem/), коллекция сохранена в [формате vowpal wabbit](http://docs.bigartm.org/en/latest/formats.html). В каждой строке до первой черты записана информация о документе (ссылка на страницу с лекцией), после первой черты следует описание документа. Используются две модальности - текстовая (\"text\") и модальность авторов (\"author\"); у каждого документа один автор."
   ]
  },
  {
   "cell_type": "markdown",
   "metadata": {},
   "source": [
    "Для выполнения задания понадобится библиотека [BigARTM](http://docs.bigartm.org). В демонстрации показан пример использования библиотеки версии 0.7.4, на сайте предлагается скачивать версию 0.8.0. В новой версии изменены принципы работы со словарями: они вынесены в отдельный класс (пример в [Release Notes](http://docs.bigartm.org/en/stable/release_notes/python.html)). Строить модель и извлекать ее параметры нужно так же, как показано в демонстрации. Вы можете использовать [предыдущий релиз](http://bigartm.readthedocs.io/en/v0.7.6/download.html) или [новый релиз](http://docs.bigartm.org/en/latest/download.html) на ваше усмотрение.\n",
    "\n",
    "Спецификации всех функций вы можете смотреть на странице [Python API](http://bigartm.readthedocs.io/en/stable/python_interface.html)."
   ]
  },
  {
   "cell_type": "code",
   "execution_count": 1,
   "metadata": {},
   "outputs": [],
   "source": [
    "import artm"
   ]
  },
  {
   "cell_type": "code",
   "execution_count": 2,
   "metadata": {},
   "outputs": [],
   "source": [
    "from matplotlib import pyplot as plt\n",
    "import seaborn\n",
    "%matplotlib inline\n",
    "seaborn.set_style(\"whitegrid\", {'axes.grid' : False})"
   ]
  },
  {
   "cell_type": "code",
   "execution_count": 3,
   "metadata": {},
   "outputs": [],
   "source": [
    "import numpy as np\n",
    "import pandas as pd"
   ]
  },
  {
   "cell_type": "markdown",
   "metadata": {},
   "source": [
    "##### Считывание данных"
   ]
  },
  {
   "cell_type": "markdown",
   "metadata": {},
   "source": [
    "Создайте объект класса artm.BatchVectorizer, который будет ссылаться на директорию с пакетами данных (батчами). Чтобы библиотека могла преобразовать текстовый файл в батчи, создайте пустую директорию и укажите ее название в параметре target_folder. Размер батча для небольших коллекций (как наша) не важен, вы можете указать любой."
   ]
  },
  {
   "cell_type": "code",
   "execution_count": 4,
   "metadata": {},
   "outputs": [],
   "source": [
    "# Ваш код\n",
    "batch_vectorizer = artm.BatchVectorizer(data_path='lectures.txt', data_format='vowpal_wabbit', \n",
    "                                        target_folder='lectures', batch_size=100)"
   ]
  },
  {
   "cell_type": "markdown",
   "metadata": {},
   "source": [
    "##### Инициализация модели"
   ]
  },
  {
   "cell_type": "markdown",
   "metadata": {},
   "source": [
    "Создайте объект класса artm.Model с 30 темами, именами тем, указанными ниже и единичными весами обеих модальностей. Количество тем выбрано не очень большим, чтобы вам было удобнее работать с темами. На этой коллекции можно строить и большее число тем, тогда они будут более узко специализированы."
   ]
  },
  {
   "cell_type": "code",
   "execution_count": 5,
   "metadata": {},
   "outputs": [],
   "source": [
    "T = 30   # количество тем\n",
    "topic_names=[\"sbj\"+str(i) for i in range(T-1)]+[\"bcg\"]\n",
    "# Ваш код\n",
    "model = artm.ARTM(num_topics=T, topic_names=topic_names, class_ids={'text':1, 'author':1}, cache_theta=True)"
   ]
  },
  {
   "cell_type": "markdown",
   "metadata": {},
   "source": [
    "Мы будем строить 29 предметных тем и одну фоновую. \n",
    "\n",
    "Соберите словарь с помощью метода gather_dictionary и инициализируйте модель, указав random_seed=1. Обязательно укажите свое название словаря, оно понадобится при добавлении регуляризаторов."
   ]
  },
  {
   "cell_type": "code",
   "execution_count": 6,
   "metadata": {},
   "outputs": [],
   "source": [
    "# Ваш код\n",
    "dictionary = artm.Dictionary('dict')\n",
    "dictionary.gather(batch_vectorizer.data_path)\n",
    "model.initialize(dictionary=dictionary)"
   ]
  },
  {
   "cell_type": "markdown",
   "metadata": {},
   "source": [
    "##### Добавление score"
   ]
  },
  {
   "cell_type": "markdown",
   "metadata": {},
   "source": [
    "Создайте два измерителя качества artm.TopTokensScore - по одному для каждой модальности; количество токенов 15. Названия для score придумайте самостоятельно."
   ]
  },
  {
   "cell_type": "code",
   "execution_count": 7,
   "metadata": {},
   "outputs": [],
   "source": [
    "# Ваш код\n",
    "model.scores.add(artm.TopTokensScore(name='top_words', num_tokens=15, class_id='text'))\n",
    "model.scores.add(artm.TopTokensScore(name='top_authors', num_tokens=15, class_id='author'))"
   ]
  },
  {
   "cell_type": "markdown",
   "metadata": {},
   "source": [
    "##### Построение модели"
   ]
  },
  {
   "cell_type": "markdown",
   "metadata": {},
   "source": [
    "Мы будем строить модель в два этапа: сначала добавим сглаживающий регуляризатор фоновой темы и настроим параметры модели, затем - добавим разреживающий регуляризатор предметрых тем и выполним еще несколько итераций. Так мы сможем получить наиболее чистые от фоновых слов предметные темы. Сглаживающий и разреживающий регуляризаторы задаются одним и тем же классом artm.SmoothSparsePhiRegularizer: если коэффициент tau положительный, то регуляризатор будет сглаживающий, если отрицательный - разреживающий.\n",
    "\n",
    "Если вы хотите подробнее разобраться, как выполняется регуляризация тематической модели в BigARTM, вы можете прочитать [статью](https://s3-eu-west-1.amazonaws.com/artm/voron-potap14artm-rus.pdf), раздел 4."
   ]
  },
  {
   "cell_type": "markdown",
   "metadata": {},
   "source": [
    "Добавьте сглаживающий регуляризатор с коэффициентом tau = 1e5, указав название своего словаря в dictionary, модальность текста в class_ids и тему \"bcg\" в topic_names."
   ]
  },
  {
   "cell_type": "code",
   "execution_count": 8,
   "metadata": {},
   "outputs": [],
   "source": [
    "# Ваш код\n",
    "model.regularizers.add(artm.SmoothSparsePhiRegularizer(tau=1e5, dictionary='dict', class_ids='text', topic_names='bcg'))"
   ]
  },
  {
   "cell_type": "markdown",
   "metadata": {},
   "source": [
    "Выполните 30 итераций по коллекции (num_collection_passes), количество внутренних итераций установите равным 1. Используйте метод fit_offline модели."
   ]
  },
  {
   "cell_type": "code",
   "execution_count": 9,
   "metadata": {},
   "outputs": [],
   "source": [
    "# Ваш код\n",
    "model.num_document_passes = 1\n",
    "model.fit_offline(batch_vectorizer=batch_vectorizer, num_collection_passes=30)"
   ]
  },
  {
   "cell_type": "markdown",
   "metadata": {},
   "source": [
    "Добавьте разреживающий регуляризатор с коэффициентом tau=-1e5, указав название своего словаря, модальность текста в class_ids и все темы \"sbjX\" в topic_names."
   ]
  },
  {
   "cell_type": "code",
   "execution_count": 10,
   "metadata": {},
   "outputs": [],
   "source": [
    "# Ваш код\n",
    "tn = list(topic_names).remove('bcg')\n",
    "model.regularizers.add(artm.SmoothSparsePhiRegularizer(tau=-1e5, dictionary='dict', class_ids='text', topic_names=tn))"
   ]
  },
  {
   "cell_type": "markdown",
   "metadata": {},
   "source": [
    "Выполните еще 15 проходов по коллекции."
   ]
  },
  {
   "cell_type": "code",
   "execution_count": 11,
   "metadata": {},
   "outputs": [],
   "source": [
    "# Ваш код\n",
    "model.fit_offline(batch_vectorizer=batch_vectorizer, num_collection_passes=15)"
   ]
  },
  {
   "cell_type": "markdown",
   "metadata": {},
   "source": [
    "##### Интерпретация тем"
   ]
  },
  {
   "cell_type": "markdown",
   "metadata": {},
   "source": [
    "Используя созданные score, выведите топы слов и топы авторов в темах. Удобнее всего выводить топ слов каждой темы с новой строки, указывая название темы в начале строки, и аналогично с авторами."
   ]
  },
  {
   "cell_type": "code",
   "execution_count": 12,
   "metadata": {
    "scrolled": false
   },
   "outputs": [
    {
     "name": "stdout",
     "output_type": "stream",
     "text": [
      "sbj0:  его  власть  александр  писать  век  великий  историк  имя  римский  знаменитый  король  церковь  реформа  мысль  средневековый \n",
      "sbj1:  там  земля  планета  находиться  интересный  тело  температура  открывать  раз  маленький  обнаруживать  поверхность  вокруг  образовываться  двигаться \n",
      "sbj2:  система  чтобы  между  создавать  сложный  общий  направление  простой  движение  ответ  способность  трудность  переход  компонент  искусственный \n",
      "sbj3:  говорить  сторона  понятие  всегда  отвечать  представление  лицо  отличаться  предмет  концепция  опыт  меняться  рассматривать  кто-то  восприятие \n",
      "sbj4:  вид  появляться  каждый  вещь  любой  иной  качество  мой  нельзя  этап  особый  оценка  деятельность  естественный  основание \n",
      "sbj5:  можно  при  получать  структура  использовать  материал  достаточно  свойство  сделать  элемент  пора  применение  устройство  класс  физический \n",
      "sbj6:  книга  научный  написать  тема  выходить  автор  фильм  массовый  документ  герой  театр  посвящать  кино  интерпретация  популярный \n",
      "sbj7:  сам  кто  социальный  общество  после  принимать  степень  род  считать  читать  социология  собственно  практика  смерть  государственный \n",
      "sbj8:  какой  наука  новый  рассказывать  доктор  высокий  различный  связь  каков  условие  развиваться  создание  использоваться  наиболее  химический \n",
      "sbj9:  теория  частица  взаимодействие  поле  пространство  состояние  квантовый  эксперимент  физика  эффект  атом  магнитный  состоять  электрон  явление \n",
      "sbj10:  год  первый  россия  война  потом  конец  событие  начинаться  российский  мировой  робот  рука  особенно  военный  петр \n",
      "sbj11:  человек  случай  ребенок  помогать  большинство  подобный  картина  кровь  взрослый  существо  чувствовать  мать  сон  родитель  показатель \n",
      "sbj12:  мозг  изменение  механизм  среда  эволюция  нейрон  сигнал  растение  ткань  возраст  стадия  орган  активность  воздействие  формирование \n",
      "sbj13:  часть  город  кандидат  жить  место  период  древний  государство  основной  народ  территория  прежде  культурный  центр  изучение \n",
      "sbj14:  звезда  галактика  масса  вещество  свет  черный  волна  размер  скорость  вселенная  энергия  объект  дыра  излучение  расстояние \n",
      "sbj15:  какой-то  все  чем  просто  что-то  информация  хотеть  данные  хороший  пытаться  увидеть  внимание  думать  анализ  следующий \n",
      "sbj16:  они  большой  потому  еще  тоже  довольно  группа  изучать  менее  хотя  практически  иногда  тысяча  смотреть  кроме \n",
      "sbj17:  политический  право  страна  советский  философия  революция  закон  политика  идея  философский  немецкий  германия  философ  французский  партия \n",
      "sbj18:  слово  текст  значение  речь  вообще  словарь  взять  категория  ошибка  единица  узнавать  предложение  контекст  конструкция  скажем \n",
      "sbj19:  свой  становиться  жизнь  ситуация  действие  ничто  рамка  собственный  казаться  школа  вести  феномен  общественный  свобода  приходиться \n",
      "sbj20:  важный  современный  вопрос  технология  сегодня  оставаться  понимание  сеть  проект  важно  смочь  сфера  будущее  городской  требовать \n",
      "sbj21:  или  либо  память  заболевание  женщина  пациент  семья  выделять  бывать  лечение  медицина  операция  суть  врач  соответственно \n",
      "sbj22:  некоторый  смысл  форма  число  правило  знание  объект  подход  определение  описание  построить  перевод  дисциплина  следовать  компьютерный \n",
      "sbj23:  задача  модель  функция  решать  сообщество  параметр  схема  придумывать  матрица  эмоция  алгоритм  математика  шаг  специалист  определяться \n",
      "sbj24:  история  культура  век  мир  исторический  традиция  эпоха  литература  бог  христианский  миф  начало  восток  царь  владимир \n",
      "sbj25:  язык  русский  программа  особенность  английский  позиция  устраивать  филологический  граница  носитель  лингвист  игра  лингвистика  коммуникация  относиться \n",
      "sbj26:  развитие  решение  роль  уровень  определенный  поведение  проводить  играть  предлагать  экономический  психология  мышление  однако  выбирать  экономика \n",
      "sbj27:  клетка  организм  ген  днк  белок  молекула  биологический  животное  болезнь  генетический  живой  последовательность  молекулярный  геном  биология \n",
      "sbj28:  являться  работа  метод  количество  точка  принцип  возможность  ученый  основа  заниматься  также  образование  университет  обладать  ряд \n",
      "bcg:  быть  что  это  который  этот  как  мочь  такой  очень  для  тот  один  весь  другой  если \n"
     ]
    }
   ],
   "source": [
    "# Ваш код\n",
    "tokens = model.score_tracker['top_words'].last_tokens\n",
    "for topic in model.topic_names:\n",
    "    print topic + ': ',\n",
    "    for word in tokens[topic]:\n",
    "        print word + ' ',\n",
    "    print "
   ]
  },
  {
   "cell_type": "code",
   "execution_count": 13,
   "metadata": {
    "scrolled": false
   },
   "outputs": [
    {
     "name": "stdout",
     "output_type": "stream",
     "text": [
      "bcg:  Мария_Фаликман  Михаил_Соколов  Виталий_Куренной  Михаил_Гельфанд  Михаил_Алексеевский  Александр_Филиппов  Алексей_Миллер  Елена_Брызгалина  Алексей_Маслов  Алексей_Акимов  Андрей_Зорин  Виктор_Вахштайн  Алексей_Семихатов  Алексей_Желтиков  Сергей_Зенкин \n",
      "sbj0:  Александр_Марей  Фёдор_Успенский  Павел_Уваров  Татьяна_Бобровникова  Ольга_Вайнштейн  Михаил_Бойцов  Алексей_Юдин  Игорь_Данилевский  Раиса_Кирсанова  Владимир_Кантор  Елена_Браун  Игорь_Курукин  Елена_Уханова  Борис_Морозов  Екатерина_Болтунова \n",
      "sbj1:  Елизавета_Бонч-Осмоловская  Кирилл_Еськов  Сергей_Попов  Дмитрий_Титов  Николай_Пименов  Татьяна_Смоктунович  Андрей_Иванцов  Зоригто_Намсараев  Светлана_Дедыш  Александр_Марков  Сергей_Наугольных  Елизавета_Ривкина  Александр_Слободкин  Наталья_Новикова  Роман_Рафиков \n",
      "sbj10:  Кирилл_Кочегаров  Кирилл_Соловьев  Ирина_Бёме  Олег_Будницкий  Сергей_Соколовский  Варвара_Добровольская  Александр_Лаврентьев  Борис_Колоницкий  Александр_Каменский  Борис_Морозов  Алексей_Бартошевич  Илья_Виньковецкий  Евгений_Магид  Джанмарко_Веруджио  Алексей_Киличенков \n",
      "sbj11:  Катерина_Поливанова  Мария_Падун  Юрий_Яшков  Наталья_Харламенкова  Наталья_Кисельникова  Ольга_Исупова  Мария_Медникова  Эмери_Браун  Владимир_Ковальзон  Джеральд_де_Хаан  Мария_Добровольская  Дмитрий_Жуков  Павел_Умрюхин  Денис_Сивков  Михаил_Полуэктов \n",
      "sbj12:  Егор_Задереев  Филипп_Хайтович  Михаил_Бурцев  Дмитрий_Лось  Константин_Агладзе  Роман_Ефремов  Алишер_Тураев  Александр_Петренко  Сергей_Яковенко  Дмитрий_Дорохов  Филлип_Шарп  Алиса_Вячеславова  Рудольф_Йениш  Михаил_Киселев  Владимир_Муронец \n",
      "sbj13:  Дмитрий_Беляев  Марк_Ульянов  Георгий_Старостин  Наталья_Зубаревич  Дмитрий_Худяков  Ольга_Брилева  Нина_Сумбатова  Владимир_Каганский  Екатерина_Ларионова  Олег_Ауров  Сергей_Серёгичев  Андрей_Виноградов  Галина_Ершова  Александр_Высоковский  Дмитрий_Арзютов \n",
      "sbj14:  Сергей_Попов  Анатолий_Засов  Алексей_Расторгуев  Ольга_Сильченко  Дмитрий_Вибе  Владимир_Сурдин  Михаил_Ревнивцев  Валерий_Сулейманов  Дмитрий_Горбунов  Олег_Верходанов  Андрей_Савельев-Трофимов  Алексей_Старобинский  Валерий_Рубаков  Сергей_Блинников  Александр_Потехин \n",
      "sbj15:  Мария_Фаликман  Игорь_Уточкин  Ольга_Сварник  Ольга_Тогоева  Александр_Войскунский  Александр_Каплан  Иван_Луковников  Антон_Чижов  Махзарин_Банаджи  Станислав_Клименко  Александр_Львовский  Александр_Тормасов  Павел_Балабан  Сет_Ллойд  Сергей_Шишкин \n",
      "sbj16:  Станислав_Дробышевский  Виталий_Кушниров  Александр_Воеводский  Джефф_Лихтман  Митчел_Резник  Инга_Полетаева  Владимир_Муронец  Борис_Миркин  Михаил_Гельфанд  Сергей_Киселев  Ольга_Исупова  Андрей_Журавлев  Хопи_Хукстра  Мария_Полински  Георгий_Базыкин \n",
      "sbj17:  Алексей_Козырев  Илья_Женин  Кирилл_Мартынов  Кирилл_Титаев  Иван_Болдырев  Дина_Гусейнова  Дмитрий_Бовыкин  Владимир_Малахов  Денис_Новак  Петр_Резвых  Дмитрий_Полдников  Валентина_Харитонова  Анна_Севортьян  Юрий_Рогулёв  Александр_Ватлин \n",
      "sbj18:  Александр_Пиперски  Владимир_Спиридонов  Дмитрий_Добровольский  Надежда_Онипенко  Светлана_Евграфова  Борис_Иомдин  Петр_Аркадьев  Анатолий_Баранов  Алексей_Шмелев  Вера_Подлесская  Екатерина_Лютикова  Екатерина_Протасова  Ирина_Левонтина  Анастасия_Лопухина  Ирина_Секерина \n",
      "sbj19:  Михаил_Соколов  Галина_Зеленина  Василий_Жарков  Екатерина_Лапина-Кратасюк  Виктор_Вахштайн  Вера_Мильчина  Лев_Беклемишев  Екатерина_Щербакова  Армен_Сергеев  Михаил_Маяцкий  Мария_Майофис  Максим_Демин  Павел_Соколов  Александр_Филиппов  Марк_Харрисон \n",
      "sbj2:  Александр_Поддьяков  Дмитрий_Громов  Михаил_Пантелеев  Владимир_Мележик  Варвара_Веденина  Даниэль_Сельва  Антон_Суворов  Михаил_Фейгельман  Виталий_Пальчиков  Алексей_Котов  Кирилл_Зыбин  Кристофер_Уиншип  Андрей_Шевельков  Александра_Скрипченко  Андрей_Чабовский \n",
      "sbj20:  ПостНаука  Алексей_Лебедев  Александр_Сафонов  Оксана_Запорожец  Александр_Тормасов  Елена_Брызгалина  Дарья_Радченко  Евгений_Хоров  Дэвид_Кларк  Деметрис_Зейналипур  Мануэль_Маццара  Ольга_Вендина  Виталий_Куренной  Екатерина_Лапина-Кратасюк  Ноам_Хомский \n",
      "sbj21:  Константин_Анохин  Алексей_Алексеев  Ярослав_Ашихмин  Алла_Ножевникова  Вера_Ижевская  Андрей_Лукашов  Владимир_Бобровников  Александр_Васильев  Сергей_Румянцев  Алексей_Чжао  Алексей_Созинов  Павел_Тищенко  Елена_Голубева  Наталья_Савва  Александр_Габибов \n",
      "sbj22:  Виктор_Вахштайн  Дмитрий_Ветров  Светлана_Баньковская  Леонид_Иомдин  Рафаэль_Арутюнян  Александр_Дьяконов  Сезар_Идальго  Михаил_Эпштейн  Дэвид_Вайнберг  Джеффри_Шнапп  Анатолий_Гершман  Ирина_Савельева  Мария_Полински  Татьяна_Ребеко  Мира_Бергельсон \n",
      "sbj23:  Илья_Щуров  Александр_Жаворонков  Иван_Оселедец  Владимир_Кузнецов  Станислав_Протасов  Елена_Гороховская  Александр_Жданов  Максим_Таланов  Игорь_Петров  Владимир_Редько  Алексей_Северцов  Сергей_Гашков  Константин_Воронцов  Виталий_Дунин-Барковский  Елена_Браун \n",
      "sbj24:  Гасан_Гусейнов  Алексей_Муравьёв  Сергей_Неклюдов  Олег_Воскобойников  Мария_Штейнман  Олег_Лекманов  Ивар_Максутов  Владимир_Емельянов  Александр_Доброхотов  Иван_Ладынин  Аскольд_Иванчик  Владимир_Петрухин  Ахмет_Ярлыкапов  Светлана_Кузнецова  Александр_Мещеряков \n",
      "sbj25:  Владимир_Плунгян  Андрей_Кибрик  Игорь_Исаев  Кирилл_Бабаев  Илья_Иткин  Григорий_Крейдлин  Владимир_Беликов  Мира_Бергельсон  Евгений_Зуев  Светлана_Бурлак  Дмитрий_Дагаев  Ольга_Столярова  Яков_Тестелец  Aльберт_Давлетшин  Георгий_Старостин \n",
      "sbj26:  Фуад_Алескеров  Олег_Хлевнюк  Алексей_Белянин  Виктор_Полтерович  Сергей_Гуриев  Сергей_Бобылев  Сергей_Пекарский  Владимир_Гимпельсон  Александр_Аузан  Сергей_Афонцев  Василий_Ключарев  Анатолий_Вишневский  Леонард_Полищук  Ольга_Малинова  Андрей_Чабовский \n",
      "sbj27:  Евгений_Шеваль  Константин_Северинов  Максим_Франк-Каменецкий  Антон_Буздин  Петр_Федичев  Сергей_Киселев  Светлана_Боринская  Евгений_Куликов  Андрей_Летаров  Алексей_Кондрашов  Сергей_Науменко  Сергей_Саложин  Георгий_Базыкин  Мария_Шутова  Ричард_Янг \n",
      "sbj28:  Владимир_Белотелов  Наталья_Ростиславлева  Илья_Шкредов  Анна_Дыбо  Евгений_Николаев  Борис_Миркин  Владимир_Польшаков  Александр_Дмитриев  Михаил_Эльдаров  Рой_Глаубер  Александр_Шварцбург  Мел_Сигел  Алексей_Орлов  Теунис_Клапвик  Сергей_Карабасов \n",
      "sbj3:  Виталий_Куренной  Сергей_Арутюнов  Владимир_Миронов  Максим_Кронгауз  Николай_Плотников  Алексей_Руткевич  Павел_Степанцов  Дмитрий_Куракин  Дмитрий_Иванов  Татьяна_Котова  Фёдор_Гиренок  Михаил_Маяцкий  Андрей_Коротаев  Ирина_Каспэ  Григорий_Кабатянский \n",
      "sbj4:  Дмитрий_Дождев  Евгений_Рогожин  Сергей_Майоров  Наталья_Смолянская  Андрей_Кофман  Виктор_Цетлин  Марина_Бутовская  Александр_Парфенов  Татьяна_Гусарова  Мохамад_Кассаб  Александр_Мукасьян  Джу_Йонг_Ли  Сергей_Зыков  Мэтью_Басс  Андрей_Журавлев \n",
      "sbj5:  Артем_Оганов  Дмитрий_Паращук  Валентин_Крапошин  Дмитрий_Гольберг  Владимир_Шалаев  Евгений_Гудилин  Шринивас_Шридхар  Леонид_Григорьев  Алексей_Хохлов  Дмитрий_Клинов  Владимир_Комлев  Сергей_Никитов  Павел_Плечов  Сергей_Морозов  Иван_Воробьев \n",
      "sbj6:  Александр_Павлов  Павел_Руднев  Ян_Левченко  Ольга_Эдельман  Мария_Неклюдова  Игорь_Чубаров  Мария_Майофис  Петр_Дружинин  Анна_Рогожина  Алексей_Бартошевич  Владимир_Кантор  Наталья_Харламенкова  Ирина_Савельева  Александра_Архипова  Дмитрий_Бак \n",
      "sbj7:  Виктор_Вахштайн  Дмитрий_Рогозин  Александр_Гофман  Ольга_Артёмова  Дмитрий_Бовыкин  Елена_Вишленкова  Алина_Бодрова  Арсений_Хитров  Руслан_Хестанов  Ольга_Малинова  Анна_Соколова  Пол_Грегори  Александр_Никифоров  Ольга_Гулевич  Галина_Зверева \n",
      "sbj8:  Валерий_Фокин  Валентин_Ненайденко  Александр_Беленький  Пётр_Турчин  Иван_Сорокин  Руслан_Смелянский  Александр_Апт  Алексей_Малашенко  Виктория_Битюкова  Александр_Габибов  Пётр_Образцов  Олег_Мельник  Дмитрий_Бак  Анна_Соколова  Антон_Чугунов \n",
      "sbj9:  Дмитрий_Казаков  Эмиль_Ахмедов  Михаил_Данилов  Алексей_Рубцов  Виктор_Брагута  Игорь_Волобуев  Павел_Пахлов  Наталья_Берлофф  Сергей_Демокритов  Сергей_Троицкий  Лев_Дудко  Андрей_Лосев  Марина_Корсакова-Крейн  Анатолий_Лиходед  Павел_Лушников \n"
     ]
    }
   ],
   "source": [
    "tokens = model.score_tracker['top_authors'].last_tokens\n",
    "for topic, words in sorted(tokens.items()):\n",
    "    print topic + ': ',\n",
    "    for word in words:\n",
    "        print word + ' ',\n",
    "    print "
   ]
  },
  {
   "cell_type": "markdown",
   "metadata": {},
   "source": [
    "В последней теме \"bcg\" должны находиться общеупотребительные слова.\n",
    "\n",
    "Важный шаг в работе с тематической моделью, когда речь идет о визуализации или создании тематического навигатора, это именование тем. Понять, о чем каждая тема, можно по списку ее топовых слов. Например, тему\n",
    "    \n",
    "    частица взаимодействие физика кварк симметрия элементарный нейтрино стандартный материя протон бозон заряд масса ускоритель слабый\n",
    "    \n",
    "можно назвать \"Физика элементарных частиц\". \n",
    "\n",
    "Дайте названия 29 предметным темам. Если вы не знаете, как назвать тему, назовите ее первым встретившимся в ней существительным, хотя при таком подходе навигатор будет менее информативным. Из названий тем составьте список из 29 строк и запишите го в переменную sbj_topic_labels. В переменной topic_labels будут храниться названия всех тем, включая фоновую."
   ]
  },
  {
   "cell_type": "code",
   "execution_count": 14,
   "metadata": {},
   "outputs": [],
   "source": [
    "sbj_topic_labels = [u'История средних веков', u'Космос', u'Системы', u'Философия', u'Биология', \n",
    " u'Материалы', u'Культура', u'Социология', u'Химия', u'Квантовая физика', \n",
    " u'История России', u'Воспитание', u'Мозг', u'История городов', u'Астрономия', \n",
    " u'Анализ', u'Общее', u'Политика', u'Язык', u'Обществознание', \n",
    " u'Технологии будущего', u'Медицина', u'Информатика', u'Математика', u'История', \n",
    " u'Лингвистика', u'Психология', u'Генетика', u'Наука и образование']\n",
    "# sbj_topic_labels = []   # запишите названия тем в список\n",
    "#tokens = model.score_tracker['top_words'].last_tokens\n",
    "#for topic in model.topic_names[:-1]:\n",
    "#    sbj_topic_labels.append(tokens[topic][0])\n",
    "topic_labels = sbj_topic_labels + [u'Фоновая тема']"
   ]
  },
  {
   "cell_type": "markdown",
   "metadata": {},
   "source": [
    "##### Анализ тем"
   ]
  },
  {
   "cell_type": "markdown",
   "metadata": {},
   "source": [
    "Далее мы будем работать с распределениями тем в документах (матрица $\\Theta$) и авторов в темах (одна из двух матриц $\\Phi$, соответствующая модальности авторов). \n",
    "Создайте переменные, содержащие две этих матрицы, с помощью методов get_phi и get_theta модели. Назовите переменные theta и phi_a. Выведите формы обеих матриц, чтобы понять, по каким осям стоят темы."
   ]
  },
  {
   "cell_type": "code",
   "execution_count": 15,
   "metadata": {},
   "outputs": [
    {
     "name": "stdout",
     "output_type": "stream",
     "text": [
      "(539, 30) (30, 1728)\n"
     ]
    }
   ],
   "source": [
    "model.theta_columns_naming = \"title\" # включает именование столбцов Theta их названиями-ссылками, а не внутренними id \n",
    "# Ваш код\n",
    "phi = model.get_phi(class_ids='author')\n",
    "theta = model.get_theta()\n",
    "print phi.shape, theta.shape"
   ]
  },
  {
   "cell_type": "markdown",
   "metadata": {},
   "source": [
    "Визуализируем фрагмент матрицы $\\Theta$ - первые 100 документов (это наиболее простой способ визуально оценить, как темы распределяются в документах). С помощью метода seaborn.heatmap выведите фрагмент theta как изображение. Рекомендация: создайте фигуру pyplot размера (20, 10)."
   ]
  },
  {
   "cell_type": "code",
   "execution_count": 31,
   "metadata": {},
   "outputs": [
    {
     "data": {
      "text/plain": [
       "<matplotlib.axes._subplots.AxesSubplot at 0x1a3da048>"
      ]
     },
     "execution_count": 31,
     "metadata": {},
     "output_type": "execute_result"
    },
    {
     "data": {
      "image/png": "[encoded data removed]",
      "text/plain": [
       "<Figure size 1440x1080 with 2 Axes>"
      ]
     },
     "metadata": {
      "needs_background": "light"
     },
     "output_type": "display_data"
    }
   ],
   "source": [
    "# Ваш код\n",
    "plt.figure(figsize=(20,15))\n",
    "seaborn.heatmap(theta.iloc[:, :100], cmap='YlGnBu')"
   ]
  },
  {
   "cell_type": "markdown",
   "metadata": {},
   "source": [
    "Вы должны увидеть, что фоновая тема имеет большую вероятность в почти каждом документе, и это логично. Кроме того, есть еще одна тема, которая чаще других встречается в документах. Судя по всему, это тема содержит много слов по науку в целом, а каждый документ (видео) в нашей коллекции связан с наукой. Можно (необязательно) дать этой теме название \"Наука\".\n",
    "\n",
    "Помимо этих двух тем, фоновой и общенаучной, каждый документ характеризуется малым числом других тем."
   ]
  },
  {
   "cell_type": "markdown",
   "metadata": {},
   "source": [
    "Оценим $p(t)$ - долю каждой темы во всей коллекции. По формуле полной вероятности вычислять эти величины нужно как\n",
    "$p(t) = \\sum_d p(t|d) p(d)$. Согласно вероятностной модели, $p(d)$ пропорционально длине документа d. Поступим проще: будем полагать, что все документы равновероятны. Тогда оценить $p(t)$ можно, просуммировав $p(t|d)$ по всем документам, а затем разделив полученный вектор на его сумму. \n",
    "\n",
    "Создайте переменную-датафрейм с T строками, индексированными названиями тем, и 1 столбцом, содержащим оценки $p(t)$. Выведите датафрейм на печать."
   ]
  },
  {
   "cell_type": "code",
   "execution_count": 17,
   "metadata": {},
   "outputs": [
    {
     "data": {
      "text/plain": [
       "История средних веков    0.027329\n",
       "Космос                   0.028970\n",
       "Системы                  0.018734\n",
       "Философия                0.020520\n",
       "Биология                 0.018213\n",
       "Материалы                0.027626\n",
       "Культура                 0.013373\n",
       "Социология               0.022999\n",
       "Химия                    0.052511\n",
       "Квантовая физика         0.036821\n",
       "История России           0.023550\n",
       "Воспитание               0.017078\n",
       "Мозг                     0.021983\n",
       "История городов          0.032975\n",
       "Астрономия               0.031690\n",
       "Анализ                   0.024325\n",
       "Общее                    0.030248\n",
       "Политика                 0.034013\n",
       "Язык                     0.016742\n",
       "Обществознание           0.022328\n",
       "Технологии будущего      0.017699\n",
       "Медицина                 0.019530\n",
       "Информатика              0.014075\n",
       "Математика               0.013171\n",
       "История                  0.035705\n",
       "Лингвистика              0.018665\n",
       "Психология               0.023894\n",
       "Генетика                 0.029062\n",
       "Наука и образование      0.023896\n",
       "Фоновая тема             0.282276\n",
       "dtype: float32"
      ]
     },
     "execution_count": 17,
     "metadata": {},
     "output_type": "execute_result"
    }
   ],
   "source": [
    "# Ваш код\n",
    "prob = theta.sum(axis=1)\n",
    "prob = prob / prob.sum()\n",
    "prob = pd.Series(data=prob.values, index=topic_labels)\n",
    "prob"
   ]
  },
  {
   "cell_type": "code",
   "execution_count": 18,
   "metadata": {},
   "outputs": [
    {
     "name": "stdout",
     "output_type": "stream",
     "text": [
      "Фоновая тема        0.282276\n",
      "Химия               0.052511\n",
      "Квантовая физика    0.036821\n",
      "История             0.035705\n",
      "Политика            0.034013\n",
      "История городов     0.032975\n",
      "dtype: float32\n",
      "Математика     0.013171\n",
      "Культура       0.013373\n",
      "Информатика    0.014075\n",
      "dtype: float32\n"
     ]
    }
   ],
   "source": [
    "print prob.sort_values(ascending=False)[:6]\n",
    "print prob.sort_values()[:3]"
   ]
  },
  {
   "cell_type": "markdown",
   "metadata": {},
   "source": [
    "Найдите 5 самых распространенных и 3 наименее освещенных темы в коллекции (наибольшие и наименьшие $p(t)$ соответственно), не считая фоновую и общенаучную. Укажите названия, которые вы дали этим темам."
   ]
  },
  {
   "cell_type": "raw",
   "metadata": {},
   "source": [
    "Ваш ответ:\n",
    "5 тем с max p(t): Химия, Квантовая физика, История, Политика, История городов\n",
    "3 темы с min p(t): Математика, Культура, Информатика"
   ]
  },
  {
   "cell_type": "markdown",
   "metadata": {},
   "source": [
    "Визуализируйте матрицу $\\Phi$ модальности авторов в виде изображения. Рекомендация: установите yticklabels=False в heatmap."
   ]
  },
  {
   "cell_type": "code",
   "execution_count": 19,
   "metadata": {},
   "outputs": [
    {
     "data": {
      "text/plain": [
       "<matplotlib.axes._subplots.AxesSubplot at 0xd3423c8>"
      ]
     },
     "execution_count": 19,
     "metadata": {},
     "output_type": "execute_result"
    },
    {
     "data": {
      "image/png": "[encoded data removed]",
      "text/plain": [
       "<Figure size 1440x1080 with 2 Axes>"
      ]
     },
     "metadata": {
      "needs_background": "light"
     },
     "output_type": "display_data"
    }
   ],
   "source": [
    "plt.figure(figsize=(20,15))\n",
    "seaborn.heatmap(phi, yticklabels=False)"
   ]
  },
  {
   "cell_type": "markdown",
   "metadata": {},
   "source": [
    "Каждой теме соответствует не очень большое число авторов - матрица достаточно разреженная. Кроме того, некоторые темы имеют доминирующего автора $a$, имеющего большую вероятность $p(a|t)$ - этот автор записал больше всего лекций по теме. "
   ]
  },
  {
   "cell_type": "markdown",
   "metadata": {},
   "source": [
    "Будем считать, что автор $a$ значим в теме, если $p(a|t) > 0.01$. Для каждого автора посчитайте, в скольких темах он значим. Найдите авторов-рекордсменов, которые значимы (а значит, читали лекции) в >= 3 темах."
   ]
  },
  {
   "cell_type": "code",
   "execution_count": 20,
   "metadata": {},
   "outputs": [
    {
     "data": {
      "text/html": [
       "<div>\n",
       "<style scoped>\n",
       "    .dataframe tbody tr th:only-of-type {\n",
       "        vertical-align: middle;\n",
       "    }\n",
       "\n",
       "    .dataframe tbody tr th {\n",
       "        vertical-align: top;\n",
       "    }\n",
       "\n",
       "    .dataframe thead th {\n",
       "        text-align: right;\n",
       "    }\n",
       "</style>\n",
       "<table border=\"1\" class=\"dataframe\">\n",
       "  <thead>\n",
       "    <tr style=\"text-align: right;\">\n",
       "      <th></th>\n",
       "      <th>sbj0</th>\n",
       "      <th>sbj1</th>\n",
       "      <th>sbj2</th>\n",
       "      <th>sbj3</th>\n",
       "      <th>sbj4</th>\n",
       "      <th>sbj5</th>\n",
       "      <th>sbj6</th>\n",
       "      <th>sbj7</th>\n",
       "      <th>sbj8</th>\n",
       "      <th>sbj9</th>\n",
       "      <th>...</th>\n",
       "      <th>sbj20</th>\n",
       "      <th>sbj21</th>\n",
       "      <th>sbj22</th>\n",
       "      <th>sbj23</th>\n",
       "      <th>sbj24</th>\n",
       "      <th>sbj25</th>\n",
       "      <th>sbj26</th>\n",
       "      <th>sbj27</th>\n",
       "      <th>sbj28</th>\n",
       "      <th>bcg</th>\n",
       "    </tr>\n",
       "  </thead>\n",
       "  <tbody>\n",
       "    <tr>\n",
       "      <th>(author, Ярослав_Исполатов)</th>\n",
       "      <td>0.000000e+00</td>\n",
       "      <td>0.000000e+00</td>\n",
       "      <td>1.617448e-09</td>\n",
       "      <td>1.817318e-11</td>\n",
       "      <td>1.011139e-06</td>\n",
       "      <td>0.000000e+00</td>\n",
       "      <td>0.000000e+00</td>\n",
       "      <td>0.000000e+00</td>\n",
       "      <td>3.504708e-12</td>\n",
       "      <td>0.000000e+00</td>\n",
       "      <td>...</td>\n",
       "      <td>0.000000e+00</td>\n",
       "      <td>1.047870e-07</td>\n",
       "      <td>1.256824e-13</td>\n",
       "      <td>0.000000e+00</td>\n",
       "      <td>0.000000e+00</td>\n",
       "      <td>0.000000e+00</td>\n",
       "      <td>0.000000e+00</td>\n",
       "      <td>1.425791e-14</td>\n",
       "      <td>3.291446e-12</td>\n",
       "      <td>5.321609e-03</td>\n",
       "    </tr>\n",
       "    <tr>\n",
       "      <th>(author, Сергей_Демокритов)</th>\n",
       "      <td>0.000000e+00</td>\n",
       "      <td>0.000000e+00</td>\n",
       "      <td>2.267499e-16</td>\n",
       "      <td>0.000000e+00</td>\n",
       "      <td>0.000000e+00</td>\n",
       "      <td>0.000000e+00</td>\n",
       "      <td>0.000000e+00</td>\n",
       "      <td>0.000000e+00</td>\n",
       "      <td>0.000000e+00</td>\n",
       "      <td>3.104361e-02</td>\n",
       "      <td>...</td>\n",
       "      <td>0.000000e+00</td>\n",
       "      <td>0.000000e+00</td>\n",
       "      <td>0.000000e+00</td>\n",
       "      <td>0.000000e+00</td>\n",
       "      <td>0.000000e+00</td>\n",
       "      <td>0.000000e+00</td>\n",
       "      <td>0.000000e+00</td>\n",
       "      <td>0.000000e+00</td>\n",
       "      <td>8.100627e-14</td>\n",
       "      <td>7.969739e-11</td>\n",
       "    </tr>\n",
       "    <tr>\n",
       "      <th>(author, Руслан_Смелянский)</th>\n",
       "      <td>0.000000e+00</td>\n",
       "      <td>0.000000e+00</td>\n",
       "      <td>0.000000e+00</td>\n",
       "      <td>0.000000e+00</td>\n",
       "      <td>0.000000e+00</td>\n",
       "      <td>0.000000e+00</td>\n",
       "      <td>0.000000e+00</td>\n",
       "      <td>0.000000e+00</td>\n",
       "      <td>5.382532e-02</td>\n",
       "      <td>0.000000e+00</td>\n",
       "      <td>...</td>\n",
       "      <td>6.238593e-08</td>\n",
       "      <td>0.000000e+00</td>\n",
       "      <td>0.000000e+00</td>\n",
       "      <td>0.000000e+00</td>\n",
       "      <td>0.000000e+00</td>\n",
       "      <td>0.000000e+00</td>\n",
       "      <td>0.000000e+00</td>\n",
       "      <td>0.000000e+00</td>\n",
       "      <td>0.000000e+00</td>\n",
       "      <td>0.000000e+00</td>\n",
       "    </tr>\n",
       "    <tr>\n",
       "      <th>(author, Александр_Апт)</th>\n",
       "      <td>0.000000e+00</td>\n",
       "      <td>0.000000e+00</td>\n",
       "      <td>0.000000e+00</td>\n",
       "      <td>0.000000e+00</td>\n",
       "      <td>0.000000e+00</td>\n",
       "      <td>0.000000e+00</td>\n",
       "      <td>0.000000e+00</td>\n",
       "      <td>0.000000e+00</td>\n",
       "      <td>5.382427e-02</td>\n",
       "      <td>0.000000e+00</td>\n",
       "      <td>...</td>\n",
       "      <td>0.000000e+00</td>\n",
       "      <td>0.000000e+00</td>\n",
       "      <td>0.000000e+00</td>\n",
       "      <td>0.000000e+00</td>\n",
       "      <td>0.000000e+00</td>\n",
       "      <td>0.000000e+00</td>\n",
       "      <td>0.000000e+00</td>\n",
       "      <td>6.000125e-07</td>\n",
       "      <td>0.000000e+00</td>\n",
       "      <td>2.393981e-09</td>\n",
       "    </tr>\n",
       "    <tr>\n",
       "      <th>(author, Людмила_Новикова)</th>\n",
       "      <td>0.000000e+00</td>\n",
       "      <td>0.000000e+00</td>\n",
       "      <td>0.000000e+00</td>\n",
       "      <td>0.000000e+00</td>\n",
       "      <td>0.000000e+00</td>\n",
       "      <td>0.000000e+00</td>\n",
       "      <td>0.000000e+00</td>\n",
       "      <td>2.269719e-16</td>\n",
       "      <td>0.000000e+00</td>\n",
       "      <td>0.000000e+00</td>\n",
       "      <td>...</td>\n",
       "      <td>0.000000e+00</td>\n",
       "      <td>0.000000e+00</td>\n",
       "      <td>0.000000e+00</td>\n",
       "      <td>0.000000e+00</td>\n",
       "      <td>4.085663e-08</td>\n",
       "      <td>0.000000e+00</td>\n",
       "      <td>0.000000e+00</td>\n",
       "      <td>0.000000e+00</td>\n",
       "      <td>0.000000e+00</td>\n",
       "      <td>2.099684e-08</td>\n",
       "    </tr>\n",
       "    <tr>\n",
       "      <th>(author, Александр_Парфенов)</th>\n",
       "      <td>0.000000e+00</td>\n",
       "      <td>0.000000e+00</td>\n",
       "      <td>0.000000e+00</td>\n",
       "      <td>0.000000e+00</td>\n",
       "      <td>5.267310e-02</td>\n",
       "      <td>0.000000e+00</td>\n",
       "      <td>0.000000e+00</td>\n",
       "      <td>0.000000e+00</td>\n",
       "      <td>0.000000e+00</td>\n",
       "      <td>0.000000e+00</td>\n",
       "      <td>...</td>\n",
       "      <td>0.000000e+00</td>\n",
       "      <td>0.000000e+00</td>\n",
       "      <td>0.000000e+00</td>\n",
       "      <td>0.000000e+00</td>\n",
       "      <td>0.000000e+00</td>\n",
       "      <td>0.000000e+00</td>\n",
       "      <td>0.000000e+00</td>\n",
       "      <td>0.000000e+00</td>\n",
       "      <td>0.000000e+00</td>\n",
       "      <td>0.000000e+00</td>\n",
       "    </tr>\n",
       "    <tr>\n",
       "      <th>(author, Джеффри_Шнапп)</th>\n",
       "      <td>0.000000e+00</td>\n",
       "      <td>0.000000e+00</td>\n",
       "      <td>0.000000e+00</td>\n",
       "      <td>0.000000e+00</td>\n",
       "      <td>0.000000e+00</td>\n",
       "      <td>0.000000e+00</td>\n",
       "      <td>1.401298e-05</td>\n",
       "      <td>0.000000e+00</td>\n",
       "      <td>4.016497e-11</td>\n",
       "      <td>0.000000e+00</td>\n",
       "      <td>...</td>\n",
       "      <td>1.328305e-09</td>\n",
       "      <td>0.000000e+00</td>\n",
       "      <td>3.644281e-02</td>\n",
       "      <td>0.000000e+00</td>\n",
       "      <td>0.000000e+00</td>\n",
       "      <td>0.000000e+00</td>\n",
       "      <td>0.000000e+00</td>\n",
       "      <td>0.000000e+00</td>\n",
       "      <td>8.018766e-06</td>\n",
       "      <td>2.369367e-08</td>\n",
       "    </tr>\n",
       "    <tr>\n",
       "      <th>(author, Дмитрий_Чудаков)</th>\n",
       "      <td>0.000000e+00</td>\n",
       "      <td>0.000000e+00</td>\n",
       "      <td>0.000000e+00</td>\n",
       "      <td>0.000000e+00</td>\n",
       "      <td>0.000000e+00</td>\n",
       "      <td>0.000000e+00</td>\n",
       "      <td>0.000000e+00</td>\n",
       "      <td>0.000000e+00</td>\n",
       "      <td>9.239669e-11</td>\n",
       "      <td>0.000000e+00</td>\n",
       "      <td>...</td>\n",
       "      <td>0.000000e+00</td>\n",
       "      <td>2.332508e-15</td>\n",
       "      <td>0.000000e+00</td>\n",
       "      <td>0.000000e+00</td>\n",
       "      <td>0.000000e+00</td>\n",
       "      <td>0.000000e+00</td>\n",
       "      <td>0.000000e+00</td>\n",
       "      <td>2.024956e-02</td>\n",
       "      <td>0.000000e+00</td>\n",
       "      <td>0.000000e+00</td>\n",
       "    </tr>\n",
       "    <tr>\n",
       "      <th>(author, Дмитрий_Дождев)</th>\n",
       "      <td>0.000000e+00</td>\n",
       "      <td>0.000000e+00</td>\n",
       "      <td>0.000000e+00</td>\n",
       "      <td>2.639104e-07</td>\n",
       "      <td>3.341590e-01</td>\n",
       "      <td>0.000000e+00</td>\n",
       "      <td>0.000000e+00</td>\n",
       "      <td>0.000000e+00</td>\n",
       "      <td>0.000000e+00</td>\n",
       "      <td>0.000000e+00</td>\n",
       "      <td>...</td>\n",
       "      <td>0.000000e+00</td>\n",
       "      <td>0.000000e+00</td>\n",
       "      <td>0.000000e+00</td>\n",
       "      <td>0.000000e+00</td>\n",
       "      <td>0.000000e+00</td>\n",
       "      <td>0.000000e+00</td>\n",
       "      <td>0.000000e+00</td>\n",
       "      <td>0.000000e+00</td>\n",
       "      <td>0.000000e+00</td>\n",
       "      <td>2.579122e-09</td>\n",
       "    </tr>\n",
       "    <tr>\n",
       "      <th>(author, Владимир_Шалаев)</th>\n",
       "      <td>0.000000e+00</td>\n",
       "      <td>0.000000e+00</td>\n",
       "      <td>1.235984e-14</td>\n",
       "      <td>0.000000e+00</td>\n",
       "      <td>0.000000e+00</td>\n",
       "      <td>5.461223e-02</td>\n",
       "      <td>0.000000e+00</td>\n",
       "      <td>0.000000e+00</td>\n",
       "      <td>9.224637e-10</td>\n",
       "      <td>7.263324e-15</td>\n",
       "      <td>...</td>\n",
       "      <td>1.537455e-12</td>\n",
       "      <td>0.000000e+00</td>\n",
       "      <td>0.000000e+00</td>\n",
       "      <td>0.000000e+00</td>\n",
       "      <td>0.000000e+00</td>\n",
       "      <td>0.000000e+00</td>\n",
       "      <td>0.000000e+00</td>\n",
       "      <td>0.000000e+00</td>\n",
       "      <td>3.818268e-14</td>\n",
       "      <td>1.938977e-08</td>\n",
       "    </tr>\n",
       "    <tr>\n",
       "      <th>(author, Марк_Харрисон)</th>\n",
       "      <td>0.000000e+00</td>\n",
       "      <td>0.000000e+00</td>\n",
       "      <td>7.700295e-14</td>\n",
       "      <td>0.000000e+00</td>\n",
       "      <td>1.178822e-14</td>\n",
       "      <td>0.000000e+00</td>\n",
       "      <td>1.217588e-12</td>\n",
       "      <td>4.749478e-07</td>\n",
       "      <td>0.000000e+00</td>\n",
       "      <td>0.000000e+00</td>\n",
       "      <td>...</td>\n",
       "      <td>3.060892e-09</td>\n",
       "      <td>0.000000e+00</td>\n",
       "      <td>3.430587e-14</td>\n",
       "      <td>0.000000e+00</td>\n",
       "      <td>0.000000e+00</td>\n",
       "      <td>0.000000e+00</td>\n",
       "      <td>1.610173e-02</td>\n",
       "      <td>0.000000e+00</td>\n",
       "      <td>3.070752e-11</td>\n",
       "      <td>1.843211e-05</td>\n",
       "    </tr>\n",
       "    <tr>\n",
       "      <th>(author, Валерий_Фокин)</th>\n",
       "      <td>0.000000e+00</td>\n",
       "      <td>0.000000e+00</td>\n",
       "      <td>7.034300e-15</td>\n",
       "      <td>0.000000e+00</td>\n",
       "      <td>0.000000e+00</td>\n",
       "      <td>7.070431e-10</td>\n",
       "      <td>0.000000e+00</td>\n",
       "      <td>0.000000e+00</td>\n",
       "      <td>1.255925e-01</td>\n",
       "      <td>0.000000e+00</td>\n",
       "      <td>...</td>\n",
       "      <td>0.000000e+00</td>\n",
       "      <td>8.920822e-12</td>\n",
       "      <td>0.000000e+00</td>\n",
       "      <td>0.000000e+00</td>\n",
       "      <td>0.000000e+00</td>\n",
       "      <td>0.000000e+00</td>\n",
       "      <td>0.000000e+00</td>\n",
       "      <td>1.563777e-16</td>\n",
       "      <td>2.691373e-15</td>\n",
       "      <td>3.901761e-10</td>\n",
       "    </tr>\n",
       "    <tr>\n",
       "      <th>(author, Ави_Лёб)</th>\n",
       "      <td>0.000000e+00</td>\n",
       "      <td>1.978915e-15</td>\n",
       "      <td>0.000000e+00</td>\n",
       "      <td>0.000000e+00</td>\n",
       "      <td>0.000000e+00</td>\n",
       "      <td>0.000000e+00</td>\n",
       "      <td>0.000000e+00</td>\n",
       "      <td>0.000000e+00</td>\n",
       "      <td>0.000000e+00</td>\n",
       "      <td>0.000000e+00</td>\n",
       "      <td>...</td>\n",
       "      <td>0.000000e+00</td>\n",
       "      <td>0.000000e+00</td>\n",
       "      <td>0.000000e+00</td>\n",
       "      <td>0.000000e+00</td>\n",
       "      <td>0.000000e+00</td>\n",
       "      <td>0.000000e+00</td>\n",
       "      <td>0.000000e+00</td>\n",
       "      <td>0.000000e+00</td>\n",
       "      <td>1.886201e-10</td>\n",
       "      <td>8.589685e-11</td>\n",
       "    </tr>\n",
       "    <tr>\n",
       "      <th>(author, Сергей_Гуриев)</th>\n",
       "      <td>0.000000e+00</td>\n",
       "      <td>0.000000e+00</td>\n",
       "      <td>0.000000e+00</td>\n",
       "      <td>0.000000e+00</td>\n",
       "      <td>0.000000e+00</td>\n",
       "      <td>0.000000e+00</td>\n",
       "      <td>0.000000e+00</td>\n",
       "      <td>0.000000e+00</td>\n",
       "      <td>1.611513e-15</td>\n",
       "      <td>0.000000e+00</td>\n",
       "      <td>...</td>\n",
       "      <td>0.000000e+00</td>\n",
       "      <td>0.000000e+00</td>\n",
       "      <td>0.000000e+00</td>\n",
       "      <td>0.000000e+00</td>\n",
       "      <td>0.000000e+00</td>\n",
       "      <td>0.000000e+00</td>\n",
       "      <td>5.163889e-02</td>\n",
       "      <td>0.000000e+00</td>\n",
       "      <td>0.000000e+00</td>\n",
       "      <td>0.000000e+00</td>\n",
       "    </tr>\n",
       "    <tr>\n",
       "      <th>(author, Эмиль_Ахмедов)</th>\n",
       "      <td>0.000000e+00</td>\n",
       "      <td>4.573995e-05</td>\n",
       "      <td>9.809531e-04</td>\n",
       "      <td>0.000000e+00</td>\n",
       "      <td>0.000000e+00</td>\n",
       "      <td>0.000000e+00</td>\n",
       "      <td>0.000000e+00</td>\n",
       "      <td>0.000000e+00</td>\n",
       "      <td>0.000000e+00</td>\n",
       "      <td>1.168132e-01</td>\n",
       "      <td>...</td>\n",
       "      <td>5.746707e-15</td>\n",
       "      <td>0.000000e+00</td>\n",
       "      <td>2.487887e-11</td>\n",
       "      <td>0.000000e+00</td>\n",
       "      <td>0.000000e+00</td>\n",
       "      <td>0.000000e+00</td>\n",
       "      <td>0.000000e+00</td>\n",
       "      <td>0.000000e+00</td>\n",
       "      <td>3.959816e-14</td>\n",
       "      <td>3.608911e-03</td>\n",
       "    </tr>\n",
       "    <tr>\n",
       "      <th>(author, Алексей_Муравьёв)</th>\n",
       "      <td>0.000000e+00</td>\n",
       "      <td>0.000000e+00</td>\n",
       "      <td>0.000000e+00</td>\n",
       "      <td>0.000000e+00</td>\n",
       "      <td>0.000000e+00</td>\n",
       "      <td>0.000000e+00</td>\n",
       "      <td>0.000000e+00</td>\n",
       "      <td>0.000000e+00</td>\n",
       "      <td>0.000000e+00</td>\n",
       "      <td>0.000000e+00</td>\n",
       "      <td>...</td>\n",
       "      <td>0.000000e+00</td>\n",
       "      <td>0.000000e+00</td>\n",
       "      <td>0.000000e+00</td>\n",
       "      <td>0.000000e+00</td>\n",
       "      <td>1.719016e-01</td>\n",
       "      <td>0.000000e+00</td>\n",
       "      <td>0.000000e+00</td>\n",
       "      <td>0.000000e+00</td>\n",
       "      <td>0.000000e+00</td>\n",
       "      <td>4.952469e-11</td>\n",
       "    </tr>\n",
       "    <tr>\n",
       "      <th>(author, Виктор_Быков)</th>\n",
       "      <td>0.000000e+00</td>\n",
       "      <td>0.000000e+00</td>\n",
       "      <td>0.000000e+00</td>\n",
       "      <td>0.000000e+00</td>\n",
       "      <td>0.000000e+00</td>\n",
       "      <td>1.820410e-02</td>\n",
       "      <td>0.000000e+00</td>\n",
       "      <td>0.000000e+00</td>\n",
       "      <td>0.000000e+00</td>\n",
       "      <td>0.000000e+00</td>\n",
       "      <td>...</td>\n",
       "      <td>0.000000e+00</td>\n",
       "      <td>0.000000e+00</td>\n",
       "      <td>0.000000e+00</td>\n",
       "      <td>0.000000e+00</td>\n",
       "      <td>0.000000e+00</td>\n",
       "      <td>0.000000e+00</td>\n",
       "      <td>0.000000e+00</td>\n",
       "      <td>0.000000e+00</td>\n",
       "      <td>0.000000e+00</td>\n",
       "      <td>0.000000e+00</td>\n",
       "    </tr>\n",
       "    <tr>\n",
       "      <th>(author, Павел_Пахлов)</th>\n",
       "      <td>0.000000e+00</td>\n",
       "      <td>0.000000e+00</td>\n",
       "      <td>0.000000e+00</td>\n",
       "      <td>0.000000e+00</td>\n",
       "      <td>0.000000e+00</td>\n",
       "      <td>0.000000e+00</td>\n",
       "      <td>0.000000e+00</td>\n",
       "      <td>0.000000e+00</td>\n",
       "      <td>0.000000e+00</td>\n",
       "      <td>3.104362e-02</td>\n",
       "      <td>...</td>\n",
       "      <td>0.000000e+00</td>\n",
       "      <td>0.000000e+00</td>\n",
       "      <td>0.000000e+00</td>\n",
       "      <td>0.000000e+00</td>\n",
       "      <td>0.000000e+00</td>\n",
       "      <td>0.000000e+00</td>\n",
       "      <td>0.000000e+00</td>\n",
       "      <td>0.000000e+00</td>\n",
       "      <td>0.000000e+00</td>\n",
       "      <td>6.406911e-14</td>\n",
       "    </tr>\n",
       "    <tr>\n",
       "      <th>(author, Павел_Уваров)</th>\n",
       "      <td>7.347763e-02</td>\n",
       "      <td>0.000000e+00</td>\n",
       "      <td>0.000000e+00</td>\n",
       "      <td>2.946890e-09</td>\n",
       "      <td>0.000000e+00</td>\n",
       "      <td>0.000000e+00</td>\n",
       "      <td>0.000000e+00</td>\n",
       "      <td>1.473251e-05</td>\n",
       "      <td>3.909078e-05</td>\n",
       "      <td>0.000000e+00</td>\n",
       "      <td>...</td>\n",
       "      <td>0.000000e+00</td>\n",
       "      <td>0.000000e+00</td>\n",
       "      <td>8.066928e-11</td>\n",
       "      <td>0.000000e+00</td>\n",
       "      <td>1.364183e-13</td>\n",
       "      <td>0.000000e+00</td>\n",
       "      <td>0.000000e+00</td>\n",
       "      <td>0.000000e+00</td>\n",
       "      <td>3.244390e-07</td>\n",
       "      <td>7.118597e-07</td>\n",
       "    </tr>\n",
       "    <tr>\n",
       "      <th>(author, Сергей_Соколовский)</th>\n",
       "      <td>0.000000e+00</td>\n",
       "      <td>0.000000e+00</td>\n",
       "      <td>0.000000e+00</td>\n",
       "      <td>2.779396e-13</td>\n",
       "      <td>0.000000e+00</td>\n",
       "      <td>0.000000e+00</td>\n",
       "      <td>0.000000e+00</td>\n",
       "      <td>0.000000e+00</td>\n",
       "      <td>1.496340e-13</td>\n",
       "      <td>0.000000e+00</td>\n",
       "      <td>...</td>\n",
       "      <td>0.000000e+00</td>\n",
       "      <td>2.483776e-15</td>\n",
       "      <td>0.000000e+00</td>\n",
       "      <td>0.000000e+00</td>\n",
       "      <td>1.027014e-14</td>\n",
       "      <td>0.000000e+00</td>\n",
       "      <td>4.612249e-10</td>\n",
       "      <td>0.000000e+00</td>\n",
       "      <td>0.000000e+00</td>\n",
       "      <td>4.190749e-09</td>\n",
       "    </tr>\n",
       "    <tr>\n",
       "      <th>(author, Светлана_Боринская)</th>\n",
       "      <td>0.000000e+00</td>\n",
       "      <td>0.000000e+00</td>\n",
       "      <td>0.000000e+00</td>\n",
       "      <td>0.000000e+00</td>\n",
       "      <td>0.000000e+00</td>\n",
       "      <td>0.000000e+00</td>\n",
       "      <td>0.000000e+00</td>\n",
       "      <td>0.000000e+00</td>\n",
       "      <td>5.079826e-07</td>\n",
       "      <td>0.000000e+00</td>\n",
       "      <td>...</td>\n",
       "      <td>0.000000e+00</td>\n",
       "      <td>0.000000e+00</td>\n",
       "      <td>0.000000e+00</td>\n",
       "      <td>0.000000e+00</td>\n",
       "      <td>0.000000e+00</td>\n",
       "      <td>0.000000e+00</td>\n",
       "      <td>7.113380e-09</td>\n",
       "      <td>3.037406e-02</td>\n",
       "      <td>0.000000e+00</td>\n",
       "      <td>0.000000e+00</td>\n",
       "    </tr>\n",
       "    <tr>\n",
       "      <th>(author, Эдуард_Боос)</th>\n",
       "      <td>0.000000e+00</td>\n",
       "      <td>0.000000e+00</td>\n",
       "      <td>0.000000e+00</td>\n",
       "      <td>0.000000e+00</td>\n",
       "      <td>0.000000e+00</td>\n",
       "      <td>0.000000e+00</td>\n",
       "      <td>0.000000e+00</td>\n",
       "      <td>0.000000e+00</td>\n",
       "      <td>0.000000e+00</td>\n",
       "      <td>2.069571e-02</td>\n",
       "      <td>...</td>\n",
       "      <td>0.000000e+00</td>\n",
       "      <td>0.000000e+00</td>\n",
       "      <td>0.000000e+00</td>\n",
       "      <td>0.000000e+00</td>\n",
       "      <td>0.000000e+00</td>\n",
       "      <td>0.000000e+00</td>\n",
       "      <td>0.000000e+00</td>\n",
       "      <td>0.000000e+00</td>\n",
       "      <td>0.000000e+00</td>\n",
       "      <td>1.860869e-08</td>\n",
       "    </tr>\n",
       "    <tr>\n",
       "      <th>(author, Евгений_Шеваль)</th>\n",
       "      <td>0.000000e+00</td>\n",
       "      <td>0.000000e+00</td>\n",
       "      <td>2.175822e-16</td>\n",
       "      <td>0.000000e+00</td>\n",
       "      <td>0.000000e+00</td>\n",
       "      <td>1.519141e-15</td>\n",
       "      <td>0.000000e+00</td>\n",
       "      <td>0.000000e+00</td>\n",
       "      <td>1.106608e-14</td>\n",
       "      <td>0.000000e+00</td>\n",
       "      <td>...</td>\n",
       "      <td>1.748541e-15</td>\n",
       "      <td>0.000000e+00</td>\n",
       "      <td>0.000000e+00</td>\n",
       "      <td>0.000000e+00</td>\n",
       "      <td>0.000000e+00</td>\n",
       "      <td>0.000000e+00</td>\n",
       "      <td>0.000000e+00</td>\n",
       "      <td>1.315148e-01</td>\n",
       "      <td>0.000000e+00</td>\n",
       "      <td>6.764946e-06</td>\n",
       "    </tr>\n",
       "    <tr>\n",
       "      <th>(author, Нина_Сумбатова)</th>\n",
       "      <td>0.000000e+00</td>\n",
       "      <td>0.000000e+00</td>\n",
       "      <td>0.000000e+00</td>\n",
       "      <td>0.000000e+00</td>\n",
       "      <td>0.000000e+00</td>\n",
       "      <td>0.000000e+00</td>\n",
       "      <td>0.000000e+00</td>\n",
       "      <td>0.000000e+00</td>\n",
       "      <td>6.886417e-13</td>\n",
       "      <td>0.000000e+00</td>\n",
       "      <td>...</td>\n",
       "      <td>1.205024e-16</td>\n",
       "      <td>0.000000e+00</td>\n",
       "      <td>0.000000e+00</td>\n",
       "      <td>0.000000e+00</td>\n",
       "      <td>0.000000e+00</td>\n",
       "      <td>7.875426e-06</td>\n",
       "      <td>0.000000e+00</td>\n",
       "      <td>0.000000e+00</td>\n",
       "      <td>1.375608e-07</td>\n",
       "      <td>0.000000e+00</td>\n",
       "    </tr>\n",
       "    <tr>\n",
       "      <th>(author, Виктор_Вахштайн)</th>\n",
       "      <td>0.000000e+00</td>\n",
       "      <td>0.000000e+00</td>\n",
       "      <td>2.270565e-12</td>\n",
       "      <td>2.343554e-04</td>\n",
       "      <td>2.837207e-12</td>\n",
       "      <td>0.000000e+00</td>\n",
       "      <td>1.222346e-08</td>\n",
       "      <td>3.753946e-01</td>\n",
       "      <td>7.792723e-12</td>\n",
       "      <td>0.000000e+00</td>\n",
       "      <td>...</td>\n",
       "      <td>2.869765e-05</td>\n",
       "      <td>0.000000e+00</td>\n",
       "      <td>2.833768e-01</td>\n",
       "      <td>1.276848e-10</td>\n",
       "      <td>0.000000e+00</td>\n",
       "      <td>1.873091e-10</td>\n",
       "      <td>4.191422e-13</td>\n",
       "      <td>0.000000e+00</td>\n",
       "      <td>5.804014e-12</td>\n",
       "      <td>1.681424e-02</td>\n",
       "    </tr>\n",
       "    <tr>\n",
       "      <th>(author, Хопи_Хукстра)</th>\n",
       "      <td>0.000000e+00</td>\n",
       "      <td>0.000000e+00</td>\n",
       "      <td>1.622931e-13</td>\n",
       "      <td>0.000000e+00</td>\n",
       "      <td>1.725323e-15</td>\n",
       "      <td>1.201085e-15</td>\n",
       "      <td>0.000000e+00</td>\n",
       "      <td>0.000000e+00</td>\n",
       "      <td>2.552508e-15</td>\n",
       "      <td>0.000000e+00</td>\n",
       "      <td>...</td>\n",
       "      <td>2.649859e-11</td>\n",
       "      <td>0.000000e+00</td>\n",
       "      <td>3.035506e-13</td>\n",
       "      <td>1.826875e-12</td>\n",
       "      <td>0.000000e+00</td>\n",
       "      <td>0.000000e+00</td>\n",
       "      <td>0.000000e+00</td>\n",
       "      <td>9.378755e-03</td>\n",
       "      <td>8.892954e-06</td>\n",
       "      <td>2.108141e-04</td>\n",
       "    </tr>\n",
       "    <tr>\n",
       "      <th>(author, Валерий_Рубаков)</th>\n",
       "      <td>0.000000e+00</td>\n",
       "      <td>0.000000e+00</td>\n",
       "      <td>0.000000e+00</td>\n",
       "      <td>0.000000e+00</td>\n",
       "      <td>0.000000e+00</td>\n",
       "      <td>0.000000e+00</td>\n",
       "      <td>0.000000e+00</td>\n",
       "      <td>0.000000e+00</td>\n",
       "      <td>2.508083e-06</td>\n",
       "      <td>1.877923e-02</td>\n",
       "      <td>...</td>\n",
       "      <td>0.000000e+00</td>\n",
       "      <td>0.000000e+00</td>\n",
       "      <td>0.000000e+00</td>\n",
       "      <td>0.000000e+00</td>\n",
       "      <td>0.000000e+00</td>\n",
       "      <td>0.000000e+00</td>\n",
       "      <td>0.000000e+00</td>\n",
       "      <td>0.000000e+00</td>\n",
       "      <td>0.000000e+00</td>\n",
       "      <td>5.745999e-07</td>\n",
       "    </tr>\n",
       "    <tr>\n",
       "      <th>(author, Сергей_Науменко)</th>\n",
       "      <td>0.000000e+00</td>\n",
       "      <td>0.000000e+00</td>\n",
       "      <td>1.987150e-14</td>\n",
       "      <td>0.000000e+00</td>\n",
       "      <td>1.776383e-16</td>\n",
       "      <td>8.488329e-12</td>\n",
       "      <td>0.000000e+00</td>\n",
       "      <td>0.000000e+00</td>\n",
       "      <td>4.218713e-14</td>\n",
       "      <td>0.000000e+00</td>\n",
       "      <td>...</td>\n",
       "      <td>2.006398e-11</td>\n",
       "      <td>0.000000e+00</td>\n",
       "      <td>5.230149e-16</td>\n",
       "      <td>3.108305e-13</td>\n",
       "      <td>0.000000e+00</td>\n",
       "      <td>0.000000e+00</td>\n",
       "      <td>0.000000e+00</td>\n",
       "      <td>3.036289e-02</td>\n",
       "      <td>2.484764e-09</td>\n",
       "      <td>5.978685e-06</td>\n",
       "    </tr>\n",
       "    <tr>\n",
       "      <th>(author, Андрей_Савельев-Трофимов)</th>\n",
       "      <td>0.000000e+00</td>\n",
       "      <td>0.000000e+00</td>\n",
       "      <td>0.000000e+00</td>\n",
       "      <td>0.000000e+00</td>\n",
       "      <td>0.000000e+00</td>\n",
       "      <td>0.000000e+00</td>\n",
       "      <td>0.000000e+00</td>\n",
       "      <td>0.000000e+00</td>\n",
       "      <td>1.504873e-13</td>\n",
       "      <td>3.563751e-06</td>\n",
       "      <td>...</td>\n",
       "      <td>0.000000e+00</td>\n",
       "      <td>0.000000e+00</td>\n",
       "      <td>0.000000e+00</td>\n",
       "      <td>0.000000e+00</td>\n",
       "      <td>0.000000e+00</td>\n",
       "      <td>0.000000e+00</td>\n",
       "      <td>0.000000e+00</td>\n",
       "      <td>0.000000e+00</td>\n",
       "      <td>3.220211e-16</td>\n",
       "      <td>9.498923e-09</td>\n",
       "    </tr>\n",
       "    <tr>\n",
       "      <th>(author, Aльберт_Давлетшин)</th>\n",
       "      <td>0.000000e+00</td>\n",
       "      <td>0.000000e+00</td>\n",
       "      <td>0.000000e+00</td>\n",
       "      <td>0.000000e+00</td>\n",
       "      <td>0.000000e+00</td>\n",
       "      <td>0.000000e+00</td>\n",
       "      <td>0.000000e+00</td>\n",
       "      <td>0.000000e+00</td>\n",
       "      <td>6.284045e-09</td>\n",
       "      <td>0.000000e+00</td>\n",
       "      <td>...</td>\n",
       "      <td>0.000000e+00</td>\n",
       "      <td>0.000000e+00</td>\n",
       "      <td>6.144544e-10</td>\n",
       "      <td>1.024560e-09</td>\n",
       "      <td>0.000000e+00</td>\n",
       "      <td>1.874155e-02</td>\n",
       "      <td>0.000000e+00</td>\n",
       "      <td>3.506055e-08</td>\n",
       "      <td>0.000000e+00</td>\n",
       "      <td>1.828650e-13</td>\n",
       "    </tr>\n",
       "    <tr>\n",
       "      <th>...</th>\n",
       "      <td>...</td>\n",
       "      <td>...</td>\n",
       "      <td>...</td>\n",
       "      <td>...</td>\n",
       "      <td>...</td>\n",
       "      <td>...</td>\n",
       "      <td>...</td>\n",
       "      <td>...</td>\n",
       "      <td>...</td>\n",
       "      <td>...</td>\n",
       "      <td>...</td>\n",
       "      <td>...</td>\n",
       "      <td>...</td>\n",
       "      <td>...</td>\n",
       "      <td>...</td>\n",
       "      <td>...</td>\n",
       "      <td>...</td>\n",
       "      <td>...</td>\n",
       "      <td>...</td>\n",
       "      <td>...</td>\n",
       "      <td>...</td>\n",
       "    </tr>\n",
       "    <tr>\n",
       "      <th>(author, Роберт_Лэнгер)</th>\n",
       "      <td>0.000000e+00</td>\n",
       "      <td>0.000000e+00</td>\n",
       "      <td>7.186221e-15</td>\n",
       "      <td>0.000000e+00</td>\n",
       "      <td>3.334965e-16</td>\n",
       "      <td>9.954087e-06</td>\n",
       "      <td>0.000000e+00</td>\n",
       "      <td>0.000000e+00</td>\n",
       "      <td>5.810470e-13</td>\n",
       "      <td>0.000000e+00</td>\n",
       "      <td>...</td>\n",
       "      <td>2.642348e-14</td>\n",
       "      <td>2.435973e-15</td>\n",
       "      <td>6.953271e-15</td>\n",
       "      <td>0.000000e+00</td>\n",
       "      <td>0.000000e+00</td>\n",
       "      <td>0.000000e+00</td>\n",
       "      <td>0.000000e+00</td>\n",
       "      <td>0.000000e+00</td>\n",
       "      <td>1.877594e-08</td>\n",
       "      <td>1.147797e-06</td>\n",
       "    </tr>\n",
       "    <tr>\n",
       "      <th>(author, Олег_Воскобойников)</th>\n",
       "      <td>1.515447e-08</td>\n",
       "      <td>0.000000e+00</td>\n",
       "      <td>0.000000e+00</td>\n",
       "      <td>0.000000e+00</td>\n",
       "      <td>0.000000e+00</td>\n",
       "      <td>0.000000e+00</td>\n",
       "      <td>0.000000e+00</td>\n",
       "      <td>0.000000e+00</td>\n",
       "      <td>0.000000e+00</td>\n",
       "      <td>0.000000e+00</td>\n",
       "      <td>...</td>\n",
       "      <td>0.000000e+00</td>\n",
       "      <td>0.000000e+00</td>\n",
       "      <td>0.000000e+00</td>\n",
       "      <td>0.000000e+00</td>\n",
       "      <td>7.078926e-02</td>\n",
       "      <td>0.000000e+00</td>\n",
       "      <td>0.000000e+00</td>\n",
       "      <td>0.000000e+00</td>\n",
       "      <td>0.000000e+00</td>\n",
       "      <td>5.642528e-10</td>\n",
       "    </tr>\n",
       "    <tr>\n",
       "      <th>(author, Татьяна_Котова)</th>\n",
       "      <td>0.000000e+00</td>\n",
       "      <td>0.000000e+00</td>\n",
       "      <td>1.456419e-12</td>\n",
       "      <td>5.621503e-02</td>\n",
       "      <td>5.251380e-15</td>\n",
       "      <td>0.000000e+00</td>\n",
       "      <td>0.000000e+00</td>\n",
       "      <td>0.000000e+00</td>\n",
       "      <td>0.000000e+00</td>\n",
       "      <td>0.000000e+00</td>\n",
       "      <td>...</td>\n",
       "      <td>2.344608e-09</td>\n",
       "      <td>2.779095e-15</td>\n",
       "      <td>1.068341e-14</td>\n",
       "      <td>1.287797e-15</td>\n",
       "      <td>0.000000e+00</td>\n",
       "      <td>0.000000e+00</td>\n",
       "      <td>2.973880e-14</td>\n",
       "      <td>0.000000e+00</td>\n",
       "      <td>0.000000e+00</td>\n",
       "      <td>6.688542e-04</td>\n",
       "    </tr>\n",
       "    <tr>\n",
       "      <th>(author, Дмитрий_Полдников)</th>\n",
       "      <td>7.085563e-12</td>\n",
       "      <td>0.000000e+00</td>\n",
       "      <td>1.220499e-16</td>\n",
       "      <td>0.000000e+00</td>\n",
       "      <td>0.000000e+00</td>\n",
       "      <td>0.000000e+00</td>\n",
       "      <td>0.000000e+00</td>\n",
       "      <td>0.000000e+00</td>\n",
       "      <td>0.000000e+00</td>\n",
       "      <td>0.000000e+00</td>\n",
       "      <td>...</td>\n",
       "      <td>1.132838e-10</td>\n",
       "      <td>0.000000e+00</td>\n",
       "      <td>0.000000e+00</td>\n",
       "      <td>0.000000e+00</td>\n",
       "      <td>0.000000e+00</td>\n",
       "      <td>0.000000e+00</td>\n",
       "      <td>0.000000e+00</td>\n",
       "      <td>0.000000e+00</td>\n",
       "      <td>8.959421e-14</td>\n",
       "      <td>1.732598e-09</td>\n",
       "    </tr>\n",
       "    <tr>\n",
       "      <th>(author, Андрей_Семенов)</th>\n",
       "      <td>0.000000e+00</td>\n",
       "      <td>0.000000e+00</td>\n",
       "      <td>2.439575e-14</td>\n",
       "      <td>0.000000e+00</td>\n",
       "      <td>0.000000e+00</td>\n",
       "      <td>4.779249e-16</td>\n",
       "      <td>0.000000e+00</td>\n",
       "      <td>0.000000e+00</td>\n",
       "      <td>0.000000e+00</td>\n",
       "      <td>2.069572e-02</td>\n",
       "      <td>...</td>\n",
       "      <td>0.000000e+00</td>\n",
       "      <td>0.000000e+00</td>\n",
       "      <td>0.000000e+00</td>\n",
       "      <td>0.000000e+00</td>\n",
       "      <td>0.000000e+00</td>\n",
       "      <td>0.000000e+00</td>\n",
       "      <td>0.000000e+00</td>\n",
       "      <td>0.000000e+00</td>\n",
       "      <td>0.000000e+00</td>\n",
       "      <td>1.312087e-08</td>\n",
       "    </tr>\n",
       "    <tr>\n",
       "      <th>(author, Яков_Фоминов)</th>\n",
       "      <td>0.000000e+00</td>\n",
       "      <td>1.526566e-09</td>\n",
       "      <td>1.130180e-08</td>\n",
       "      <td>0.000000e+00</td>\n",
       "      <td>0.000000e+00</td>\n",
       "      <td>7.453676e-15</td>\n",
       "      <td>0.000000e+00</td>\n",
       "      <td>0.000000e+00</td>\n",
       "      <td>0.000000e+00</td>\n",
       "      <td>1.034643e-02</td>\n",
       "      <td>...</td>\n",
       "      <td>0.000000e+00</td>\n",
       "      <td>0.000000e+00</td>\n",
       "      <td>0.000000e+00</td>\n",
       "      <td>0.000000e+00</td>\n",
       "      <td>0.000000e+00</td>\n",
       "      <td>0.000000e+00</td>\n",
       "      <td>0.000000e+00</td>\n",
       "      <td>0.000000e+00</td>\n",
       "      <td>1.823205e-12</td>\n",
       "      <td>7.373609e-07</td>\n",
       "    </tr>\n",
       "    <tr>\n",
       "      <th>(author, Дэвид_Синклер)</th>\n",
       "      <td>0.000000e+00</td>\n",
       "      <td>0.000000e+00</td>\n",
       "      <td>0.000000e+00</td>\n",
       "      <td>0.000000e+00</td>\n",
       "      <td>0.000000e+00</td>\n",
       "      <td>1.215346e-14</td>\n",
       "      <td>0.000000e+00</td>\n",
       "      <td>0.000000e+00</td>\n",
       "      <td>0.000000e+00</td>\n",
       "      <td>0.000000e+00</td>\n",
       "      <td>...</td>\n",
       "      <td>3.472715e-07</td>\n",
       "      <td>2.128074e-06</td>\n",
       "      <td>1.516459e-14</td>\n",
       "      <td>0.000000e+00</td>\n",
       "      <td>0.000000e+00</td>\n",
       "      <td>0.000000e+00</td>\n",
       "      <td>0.000000e+00</td>\n",
       "      <td>4.441951e-03</td>\n",
       "      <td>5.994749e-11</td>\n",
       "      <td>8.517076e-04</td>\n",
       "    </tr>\n",
       "    <tr>\n",
       "      <th>(author, Дэвид_С._Джонс)</th>\n",
       "      <td>0.000000e+00</td>\n",
       "      <td>0.000000e+00</td>\n",
       "      <td>0.000000e+00</td>\n",
       "      <td>0.000000e+00</td>\n",
       "      <td>0.000000e+00</td>\n",
       "      <td>0.000000e+00</td>\n",
       "      <td>0.000000e+00</td>\n",
       "      <td>0.000000e+00</td>\n",
       "      <td>0.000000e+00</td>\n",
       "      <td>0.000000e+00</td>\n",
       "      <td>...</td>\n",
       "      <td>0.000000e+00</td>\n",
       "      <td>7.802277e-07</td>\n",
       "      <td>0.000000e+00</td>\n",
       "      <td>0.000000e+00</td>\n",
       "      <td>0.000000e+00</td>\n",
       "      <td>0.000000e+00</td>\n",
       "      <td>0.000000e+00</td>\n",
       "      <td>8.247202e-16</td>\n",
       "      <td>1.465864e-16</td>\n",
       "      <td>6.108782e-10</td>\n",
       "    </tr>\n",
       "    <tr>\n",
       "      <th>(author, Анна_Рогожина)</th>\n",
       "      <td>0.000000e+00</td>\n",
       "      <td>0.000000e+00</td>\n",
       "      <td>0.000000e+00</td>\n",
       "      <td>0.000000e+00</td>\n",
       "      <td>0.000000e+00</td>\n",
       "      <td>0.000000e+00</td>\n",
       "      <td>3.443696e-02</td>\n",
       "      <td>0.000000e+00</td>\n",
       "      <td>0.000000e+00</td>\n",
       "      <td>0.000000e+00</td>\n",
       "      <td>...</td>\n",
       "      <td>0.000000e+00</td>\n",
       "      <td>0.000000e+00</td>\n",
       "      <td>0.000000e+00</td>\n",
       "      <td>0.000000e+00</td>\n",
       "      <td>4.033858e-11</td>\n",
       "      <td>4.848176e-06</td>\n",
       "      <td>0.000000e+00</td>\n",
       "      <td>0.000000e+00</td>\n",
       "      <td>0.000000e+00</td>\n",
       "      <td>1.155305e-09</td>\n",
       "    </tr>\n",
       "    <tr>\n",
       "      <th>(author, Мария_Шутова)</th>\n",
       "      <td>0.000000e+00</td>\n",
       "      <td>0.000000e+00</td>\n",
       "      <td>0.000000e+00</td>\n",
       "      <td>0.000000e+00</td>\n",
       "      <td>0.000000e+00</td>\n",
       "      <td>0.000000e+00</td>\n",
       "      <td>0.000000e+00</td>\n",
       "      <td>0.000000e+00</td>\n",
       "      <td>8.509693e-12</td>\n",
       "      <td>0.000000e+00</td>\n",
       "      <td>...</td>\n",
       "      <td>0.000000e+00</td>\n",
       "      <td>0.000000e+00</td>\n",
       "      <td>0.000000e+00</td>\n",
       "      <td>0.000000e+00</td>\n",
       "      <td>0.000000e+00</td>\n",
       "      <td>0.000000e+00</td>\n",
       "      <td>0.000000e+00</td>\n",
       "      <td>2.024956e-02</td>\n",
       "      <td>0.000000e+00</td>\n",
       "      <td>0.000000e+00</td>\n",
       "    </tr>\n",
       "    <tr>\n",
       "      <th>(author, Марина_Новикова-Грунд)</th>\n",
       "      <td>0.000000e+00</td>\n",
       "      <td>0.000000e+00</td>\n",
       "      <td>1.611179e-16</td>\n",
       "      <td>6.361848e-08</td>\n",
       "      <td>6.812913e-16</td>\n",
       "      <td>1.096179e-14</td>\n",
       "      <td>8.311224e-09</td>\n",
       "      <td>2.465933e-16</td>\n",
       "      <td>0.000000e+00</td>\n",
       "      <td>0.000000e+00</td>\n",
       "      <td>...</td>\n",
       "      <td>3.411404e-13</td>\n",
       "      <td>2.350044e-16</td>\n",
       "      <td>4.680792e-12</td>\n",
       "      <td>1.953318e-14</td>\n",
       "      <td>0.000000e+00</td>\n",
       "      <td>0.000000e+00</td>\n",
       "      <td>0.000000e+00</td>\n",
       "      <td>0.000000e+00</td>\n",
       "      <td>0.000000e+00</td>\n",
       "      <td>1.199529e-03</td>\n",
       "    </tr>\n",
       "    <tr>\n",
       "      <th>(author, Кристофер_Карр)</th>\n",
       "      <td>0.000000e+00</td>\n",
       "      <td>2.292725e-11</td>\n",
       "      <td>3.458419e-05</td>\n",
       "      <td>0.000000e+00</td>\n",
       "      <td>5.637368e-15</td>\n",
       "      <td>5.834191e-06</td>\n",
       "      <td>0.000000e+00</td>\n",
       "      <td>0.000000e+00</td>\n",
       "      <td>9.661267e-12</td>\n",
       "      <td>0.000000e+00</td>\n",
       "      <td>...</td>\n",
       "      <td>2.471862e-09</td>\n",
       "      <td>1.825800e-12</td>\n",
       "      <td>2.095298e-11</td>\n",
       "      <td>0.000000e+00</td>\n",
       "      <td>0.000000e+00</td>\n",
       "      <td>0.000000e+00</td>\n",
       "      <td>0.000000e+00</td>\n",
       "      <td>6.172391e-10</td>\n",
       "      <td>2.874866e-08</td>\n",
       "      <td>5.314456e-03</td>\n",
       "    </tr>\n",
       "    <tr>\n",
       "      <th>(author, Сергей_Нечаев)</th>\n",
       "      <td>0.000000e+00</td>\n",
       "      <td>1.925569e-15</td>\n",
       "      <td>8.189197e-13</td>\n",
       "      <td>7.705548e-13</td>\n",
       "      <td>0.000000e+00</td>\n",
       "      <td>7.460641e-13</td>\n",
       "      <td>0.000000e+00</td>\n",
       "      <td>0.000000e+00</td>\n",
       "      <td>0.000000e+00</td>\n",
       "      <td>2.430496e-16</td>\n",
       "      <td>...</td>\n",
       "      <td>1.724336e-16</td>\n",
       "      <td>0.000000e+00</td>\n",
       "      <td>2.733746e-14</td>\n",
       "      <td>3.686890e-09</td>\n",
       "      <td>0.000000e+00</td>\n",
       "      <td>0.000000e+00</td>\n",
       "      <td>0.000000e+00</td>\n",
       "      <td>0.000000e+00</td>\n",
       "      <td>3.700821e-10</td>\n",
       "      <td>5.319960e-03</td>\n",
       "    </tr>\n",
       "    <tr>\n",
       "      <th>(author, Алексей_Орлов)</th>\n",
       "      <td>0.000000e+00</td>\n",
       "      <td>0.000000e+00</td>\n",
       "      <td>2.971100e-16</td>\n",
       "      <td>0.000000e+00</td>\n",
       "      <td>0.000000e+00</td>\n",
       "      <td>1.358405e-07</td>\n",
       "      <td>0.000000e+00</td>\n",
       "      <td>0.000000e+00</td>\n",
       "      <td>2.260742e-16</td>\n",
       "      <td>1.290522e-15</td>\n",
       "      <td>...</td>\n",
       "      <td>3.605243e-10</td>\n",
       "      <td>0.000000e+00</td>\n",
       "      <td>1.078052e-12</td>\n",
       "      <td>4.939280e-14</td>\n",
       "      <td>0.000000e+00</td>\n",
       "      <td>0.000000e+00</td>\n",
       "      <td>0.000000e+00</td>\n",
       "      <td>0.000000e+00</td>\n",
       "      <td>2.923854e-02</td>\n",
       "      <td>2.227250e-06</td>\n",
       "    </tr>\n",
       "    <tr>\n",
       "      <th>(author, Георгий_Старостин)</th>\n",
       "      <td>0.000000e+00</td>\n",
       "      <td>0.000000e+00</td>\n",
       "      <td>0.000000e+00</td>\n",
       "      <td>0.000000e+00</td>\n",
       "      <td>0.000000e+00</td>\n",
       "      <td>0.000000e+00</td>\n",
       "      <td>0.000000e+00</td>\n",
       "      <td>0.000000e+00</td>\n",
       "      <td>0.000000e+00</td>\n",
       "      <td>0.000000e+00</td>\n",
       "      <td>...</td>\n",
       "      <td>0.000000e+00</td>\n",
       "      <td>0.000000e+00</td>\n",
       "      <td>0.000000e+00</td>\n",
       "      <td>0.000000e+00</td>\n",
       "      <td>0.000000e+00</td>\n",
       "      <td>1.355999e-02</td>\n",
       "      <td>0.000000e+00</td>\n",
       "      <td>0.000000e+00</td>\n",
       "      <td>0.000000e+00</td>\n",
       "      <td>0.000000e+00</td>\n",
       "    </tr>\n",
       "    <tr>\n",
       "      <th>(author, Дмитрий_Баюк)</th>\n",
       "      <td>6.665793e-16</td>\n",
       "      <td>2.571619e-07</td>\n",
       "      <td>0.000000e+00</td>\n",
       "      <td>0.000000e+00</td>\n",
       "      <td>0.000000e+00</td>\n",
       "      <td>0.000000e+00</td>\n",
       "      <td>6.513663e-11</td>\n",
       "      <td>1.318502e-12</td>\n",
       "      <td>1.865718e-13</td>\n",
       "      <td>0.000000e+00</td>\n",
       "      <td>...</td>\n",
       "      <td>1.847721e-06</td>\n",
       "      <td>0.000000e+00</td>\n",
       "      <td>4.882238e-13</td>\n",
       "      <td>0.000000e+00</td>\n",
       "      <td>0.000000e+00</td>\n",
       "      <td>0.000000e+00</td>\n",
       "      <td>0.000000e+00</td>\n",
       "      <td>0.000000e+00</td>\n",
       "      <td>1.056779e-13</td>\n",
       "      <td>1.064327e-02</td>\n",
       "    </tr>\n",
       "    <tr>\n",
       "      <th>(author, Антон_Чугунов)</th>\n",
       "      <td>0.000000e+00</td>\n",
       "      <td>0.000000e+00</td>\n",
       "      <td>3.805364e-16</td>\n",
       "      <td>0.000000e+00</td>\n",
       "      <td>0.000000e+00</td>\n",
       "      <td>0.000000e+00</td>\n",
       "      <td>0.000000e+00</td>\n",
       "      <td>0.000000e+00</td>\n",
       "      <td>2.512428e-02</td>\n",
       "      <td>1.084471e-05</td>\n",
       "      <td>...</td>\n",
       "      <td>2.140824e-15</td>\n",
       "      <td>0.000000e+00</td>\n",
       "      <td>5.710551e-16</td>\n",
       "      <td>0.000000e+00</td>\n",
       "      <td>0.000000e+00</td>\n",
       "      <td>0.000000e+00</td>\n",
       "      <td>9.439450e-14</td>\n",
       "      <td>6.060992e-03</td>\n",
       "      <td>0.000000e+00</td>\n",
       "      <td>1.258232e-12</td>\n",
       "    </tr>\n",
       "    <tr>\n",
       "      <th>(author, Анатолий_Вишневский)</th>\n",
       "      <td>0.000000e+00</td>\n",
       "      <td>0.000000e+00</td>\n",
       "      <td>9.237857e-10</td>\n",
       "      <td>1.223769e-16</td>\n",
       "      <td>0.000000e+00</td>\n",
       "      <td>0.000000e+00</td>\n",
       "      <td>0.000000e+00</td>\n",
       "      <td>0.000000e+00</td>\n",
       "      <td>3.506955e-09</td>\n",
       "      <td>0.000000e+00</td>\n",
       "      <td>...</td>\n",
       "      <td>1.864879e-16</td>\n",
       "      <td>0.000000e+00</td>\n",
       "      <td>0.000000e+00</td>\n",
       "      <td>0.000000e+00</td>\n",
       "      <td>0.000000e+00</td>\n",
       "      <td>0.000000e+00</td>\n",
       "      <td>3.442513e-02</td>\n",
       "      <td>0.000000e+00</td>\n",
       "      <td>0.000000e+00</td>\n",
       "      <td>6.684653e-13</td>\n",
       "    </tr>\n",
       "    <tr>\n",
       "      <th>(author, Юрий_Рогулёв)</th>\n",
       "      <td>0.000000e+00</td>\n",
       "      <td>0.000000e+00</td>\n",
       "      <td>0.000000e+00</td>\n",
       "      <td>0.000000e+00</td>\n",
       "      <td>0.000000e+00</td>\n",
       "      <td>0.000000e+00</td>\n",
       "      <td>0.000000e+00</td>\n",
       "      <td>0.000000e+00</td>\n",
       "      <td>0.000000e+00</td>\n",
       "      <td>0.000000e+00</td>\n",
       "      <td>...</td>\n",
       "      <td>0.000000e+00</td>\n",
       "      <td>0.000000e+00</td>\n",
       "      <td>0.000000e+00</td>\n",
       "      <td>0.000000e+00</td>\n",
       "      <td>0.000000e+00</td>\n",
       "      <td>0.000000e+00</td>\n",
       "      <td>0.000000e+00</td>\n",
       "      <td>0.000000e+00</td>\n",
       "      <td>0.000000e+00</td>\n",
       "      <td>1.922961e-09</td>\n",
       "    </tr>\n",
       "    <tr>\n",
       "      <th>(author, Екатерина_Болтунова)</th>\n",
       "      <td>1.225258e-02</td>\n",
       "      <td>0.000000e+00</td>\n",
       "      <td>0.000000e+00</td>\n",
       "      <td>0.000000e+00</td>\n",
       "      <td>0.000000e+00</td>\n",
       "      <td>0.000000e+00</td>\n",
       "      <td>0.000000e+00</td>\n",
       "      <td>0.000000e+00</td>\n",
       "      <td>0.000000e+00</td>\n",
       "      <td>0.000000e+00</td>\n",
       "      <td>...</td>\n",
       "      <td>0.000000e+00</td>\n",
       "      <td>0.000000e+00</td>\n",
       "      <td>0.000000e+00</td>\n",
       "      <td>0.000000e+00</td>\n",
       "      <td>0.000000e+00</td>\n",
       "      <td>0.000000e+00</td>\n",
       "      <td>0.000000e+00</td>\n",
       "      <td>0.000000e+00</td>\n",
       "      <td>0.000000e+00</td>\n",
       "      <td>1.585794e-14</td>\n",
       "    </tr>\n",
       "    <tr>\n",
       "      <th>(author, Дэвид_Кларк)</th>\n",
       "      <td>0.000000e+00</td>\n",
       "      <td>0.000000e+00</td>\n",
       "      <td>0.000000e+00</td>\n",
       "      <td>0.000000e+00</td>\n",
       "      <td>1.877104e-14</td>\n",
       "      <td>0.000000e+00</td>\n",
       "      <td>1.089452e-16</td>\n",
       "      <td>2.238875e-16</td>\n",
       "      <td>0.000000e+00</td>\n",
       "      <td>0.000000e+00</td>\n",
       "      <td>...</td>\n",
       "      <td>4.007970e-02</td>\n",
       "      <td>0.000000e+00</td>\n",
       "      <td>0.000000e+00</td>\n",
       "      <td>8.728116e-14</td>\n",
       "      <td>0.000000e+00</td>\n",
       "      <td>0.000000e+00</td>\n",
       "      <td>0.000000e+00</td>\n",
       "      <td>0.000000e+00</td>\n",
       "      <td>4.518481e-14</td>\n",
       "      <td>1.685011e-07</td>\n",
       "    </tr>\n",
       "    <tr>\n",
       "      <th>(author, Алексей_Малашенко)</th>\n",
       "      <td>0.000000e+00</td>\n",
       "      <td>0.000000e+00</td>\n",
       "      <td>0.000000e+00</td>\n",
       "      <td>0.000000e+00</td>\n",
       "      <td>0.000000e+00</td>\n",
       "      <td>0.000000e+00</td>\n",
       "      <td>0.000000e+00</td>\n",
       "      <td>0.000000e+00</td>\n",
       "      <td>5.382352e-02</td>\n",
       "      <td>0.000000e+00</td>\n",
       "      <td>...</td>\n",
       "      <td>0.000000e+00</td>\n",
       "      <td>0.000000e+00</td>\n",
       "      <td>0.000000e+00</td>\n",
       "      <td>0.000000e+00</td>\n",
       "      <td>1.014171e-06</td>\n",
       "      <td>0.000000e+00</td>\n",
       "      <td>0.000000e+00</td>\n",
       "      <td>0.000000e+00</td>\n",
       "      <td>0.000000e+00</td>\n",
       "      <td>0.000000e+00</td>\n",
       "    </tr>\n",
       "    <tr>\n",
       "      <th>(author, Ирина_Левонтина)</th>\n",
       "      <td>0.000000e+00</td>\n",
       "      <td>0.000000e+00</td>\n",
       "      <td>0.000000e+00</td>\n",
       "      <td>4.087383e-13</td>\n",
       "      <td>0.000000e+00</td>\n",
       "      <td>9.542550e-16</td>\n",
       "      <td>0.000000e+00</td>\n",
       "      <td>0.000000e+00</td>\n",
       "      <td>1.601115e-05</td>\n",
       "      <td>0.000000e+00</td>\n",
       "      <td>...</td>\n",
       "      <td>0.000000e+00</td>\n",
       "      <td>9.437957e-15</td>\n",
       "      <td>0.000000e+00</td>\n",
       "      <td>0.000000e+00</td>\n",
       "      <td>1.767364e-04</td>\n",
       "      <td>4.659807e-05</td>\n",
       "      <td>0.000000e+00</td>\n",
       "      <td>0.000000e+00</td>\n",
       "      <td>0.000000e+00</td>\n",
       "      <td>1.323050e-10</td>\n",
       "    </tr>\n",
       "    <tr>\n",
       "      <th>(author, Андрей_Коротаев)</th>\n",
       "      <td>0.000000e+00</td>\n",
       "      <td>0.000000e+00</td>\n",
       "      <td>0.000000e+00</td>\n",
       "      <td>3.001416e-02</td>\n",
       "      <td>0.000000e+00</td>\n",
       "      <td>0.000000e+00</td>\n",
       "      <td>0.000000e+00</td>\n",
       "      <td>0.000000e+00</td>\n",
       "      <td>0.000000e+00</td>\n",
       "      <td>0.000000e+00</td>\n",
       "      <td>...</td>\n",
       "      <td>0.000000e+00</td>\n",
       "      <td>0.000000e+00</td>\n",
       "      <td>0.000000e+00</td>\n",
       "      <td>0.000000e+00</td>\n",
       "      <td>0.000000e+00</td>\n",
       "      <td>0.000000e+00</td>\n",
       "      <td>0.000000e+00</td>\n",
       "      <td>0.000000e+00</td>\n",
       "      <td>0.000000e+00</td>\n",
       "      <td>0.000000e+00</td>\n",
       "    </tr>\n",
       "    <tr>\n",
       "      <th>(author, Татьяна_Гусарова)</th>\n",
       "      <td>0.000000e+00</td>\n",
       "      <td>0.000000e+00</td>\n",
       "      <td>0.000000e+00</td>\n",
       "      <td>0.000000e+00</td>\n",
       "      <td>2.633655e-02</td>\n",
       "      <td>0.000000e+00</td>\n",
       "      <td>0.000000e+00</td>\n",
       "      <td>0.000000e+00</td>\n",
       "      <td>0.000000e+00</td>\n",
       "      <td>0.000000e+00</td>\n",
       "      <td>...</td>\n",
       "      <td>0.000000e+00</td>\n",
       "      <td>0.000000e+00</td>\n",
       "      <td>0.000000e+00</td>\n",
       "      <td>0.000000e+00</td>\n",
       "      <td>1.866131e-12</td>\n",
       "      <td>0.000000e+00</td>\n",
       "      <td>0.000000e+00</td>\n",
       "      <td>0.000000e+00</td>\n",
       "      <td>0.000000e+00</td>\n",
       "      <td>2.170367e-12</td>\n",
       "    </tr>\n",
       "    <tr>\n",
       "      <th>(author, Дарья_Радченко)</th>\n",
       "      <td>0.000000e+00</td>\n",
       "      <td>0.000000e+00</td>\n",
       "      <td>0.000000e+00</td>\n",
       "      <td>0.000000e+00</td>\n",
       "      <td>0.000000e+00</td>\n",
       "      <td>0.000000e+00</td>\n",
       "      <td>0.000000e+00</td>\n",
       "      <td>0.000000e+00</td>\n",
       "      <td>0.000000e+00</td>\n",
       "      <td>0.000000e+00</td>\n",
       "      <td>...</td>\n",
       "      <td>4.009358e-02</td>\n",
       "      <td>0.000000e+00</td>\n",
       "      <td>0.000000e+00</td>\n",
       "      <td>0.000000e+00</td>\n",
       "      <td>0.000000e+00</td>\n",
       "      <td>0.000000e+00</td>\n",
       "      <td>0.000000e+00</td>\n",
       "      <td>0.000000e+00</td>\n",
       "      <td>0.000000e+00</td>\n",
       "      <td>0.000000e+00</td>\n",
       "    </tr>\n",
       "    <tr>\n",
       "      <th>(author, Ирина_Каспэ)</th>\n",
       "      <td>0.000000e+00</td>\n",
       "      <td>0.000000e+00</td>\n",
       "      <td>0.000000e+00</td>\n",
       "      <td>3.001416e-02</td>\n",
       "      <td>0.000000e+00</td>\n",
       "      <td>0.000000e+00</td>\n",
       "      <td>0.000000e+00</td>\n",
       "      <td>0.000000e+00</td>\n",
       "      <td>0.000000e+00</td>\n",
       "      <td>0.000000e+00</td>\n",
       "      <td>...</td>\n",
       "      <td>0.000000e+00</td>\n",
       "      <td>0.000000e+00</td>\n",
       "      <td>0.000000e+00</td>\n",
       "      <td>0.000000e+00</td>\n",
       "      <td>0.000000e+00</td>\n",
       "      <td>0.000000e+00</td>\n",
       "      <td>0.000000e+00</td>\n",
       "      <td>0.000000e+00</td>\n",
       "      <td>0.000000e+00</td>\n",
       "      <td>0.000000e+00</td>\n",
       "    </tr>\n",
       "    <tr>\n",
       "      <th>(author, Марина_Корсакова-Крейн)</th>\n",
       "      <td>0.000000e+00</td>\n",
       "      <td>0.000000e+00</td>\n",
       "      <td>0.000000e+00</td>\n",
       "      <td>0.000000e+00</td>\n",
       "      <td>0.000000e+00</td>\n",
       "      <td>0.000000e+00</td>\n",
       "      <td>0.000000e+00</td>\n",
       "      <td>0.000000e+00</td>\n",
       "      <td>0.000000e+00</td>\n",
       "      <td>2.069574e-02</td>\n",
       "      <td>...</td>\n",
       "      <td>0.000000e+00</td>\n",
       "      <td>0.000000e+00</td>\n",
       "      <td>0.000000e+00</td>\n",
       "      <td>0.000000e+00</td>\n",
       "      <td>0.000000e+00</td>\n",
       "      <td>0.000000e+00</td>\n",
       "      <td>0.000000e+00</td>\n",
       "      <td>0.000000e+00</td>\n",
       "      <td>0.000000e+00</td>\n",
       "      <td>0.000000e+00</td>\n",
       "    </tr>\n",
       "    <tr>\n",
       "      <th>(author, Павел_Степанцов)</th>\n",
       "      <td>0.000000e+00</td>\n",
       "      <td>0.000000e+00</td>\n",
       "      <td>0.000000e+00</td>\n",
       "      <td>6.002813e-02</td>\n",
       "      <td>0.000000e+00</td>\n",
       "      <td>0.000000e+00</td>\n",
       "      <td>0.000000e+00</td>\n",
       "      <td>0.000000e+00</td>\n",
       "      <td>2.845818e-13</td>\n",
       "      <td>0.000000e+00</td>\n",
       "      <td>...</td>\n",
       "      <td>8.472052e-10</td>\n",
       "      <td>0.000000e+00</td>\n",
       "      <td>0.000000e+00</td>\n",
       "      <td>1.973796e-08</td>\n",
       "      <td>0.000000e+00</td>\n",
       "      <td>0.000000e+00</td>\n",
       "      <td>2.911082e-15</td>\n",
       "      <td>0.000000e+00</td>\n",
       "      <td>0.000000e+00</td>\n",
       "      <td>6.003791e-12</td>\n",
       "    </tr>\n",
       "    <tr>\n",
       "      <th>(author, Дэвид_Гросс)</th>\n",
       "      <td>0.000000e+00</td>\n",
       "      <td>3.715219e-14</td>\n",
       "      <td>0.000000e+00</td>\n",
       "      <td>0.000000e+00</td>\n",
       "      <td>0.000000e+00</td>\n",
       "      <td>0.000000e+00</td>\n",
       "      <td>0.000000e+00</td>\n",
       "      <td>0.000000e+00</td>\n",
       "      <td>0.000000e+00</td>\n",
       "      <td>1.034479e-02</td>\n",
       "      <td>...</td>\n",
       "      <td>0.000000e+00</td>\n",
       "      <td>0.000000e+00</td>\n",
       "      <td>0.000000e+00</td>\n",
       "      <td>0.000000e+00</td>\n",
       "      <td>0.000000e+00</td>\n",
       "      <td>0.000000e+00</td>\n",
       "      <td>0.000000e+00</td>\n",
       "      <td>0.000000e+00</td>\n",
       "      <td>0.000000e+00</td>\n",
       "      <td>1.585911e-06</td>\n",
       "    </tr>\n",
       "  </tbody>\n",
       "</table>\n",
       "<p>539 rows × 30 columns</p>\n",
       "</div>"
      ],
      "text/plain": [
       "                                            sbj0          sbj1          sbj2  \\\n",
       "(author, Ярослав_Исполатов)         0.000000e+00  0.000000e+00  1.617448e-09   \n",
       "(author, Сергей_Демокритов)         0.000000e+00  0.000000e+00  2.267499e-16   \n",
       "(author, Руслан_Смелянский)         0.000000e+00  0.000000e+00  0.000000e+00   \n",
       "(author, Александр_Апт)             0.000000e+00  0.000000e+00  0.000000e+00   \n",
       "(author, Людмила_Новикова)          0.000000e+00  0.000000e+00  0.000000e+00   \n",
       "(author, Александр_Парфенов)        0.000000e+00  0.000000e+00  0.000000e+00   \n",
       "(author, Джеффри_Шнапп)             0.000000e+00  0.000000e+00  0.000000e+00   \n",
       "(author, Дмитрий_Чудаков)           0.000000e+00  0.000000e+00  0.000000e+00   \n",
       "(author, Дмитрий_Дождев)            0.000000e+00  0.000000e+00  0.000000e+00   \n",
       "(author, Владимир_Шалаев)           0.000000e+00  0.000000e+00  1.235984e-14   \n",
       "(author, Марк_Харрисон)             0.000000e+00  0.000000e+00  7.700295e-14   \n",
       "(author, Валерий_Фокин)             0.000000e+00  0.000000e+00  7.034300e-15   \n",
       "(author, Ави_Лёб)                   0.000000e+00  1.978915e-15  0.000000e+00   \n",
       "(author, Сергей_Гуриев)             0.000000e+00  0.000000e+00  0.000000e+00   \n",
       "(author, Эмиль_Ахмедов)             0.000000e+00  4.573995e-05  9.809531e-04   \n",
       "(author, Алексей_Муравьёв)          0.000000e+00  0.000000e+00  0.000000e+00   \n",
       "(author, Виктор_Быков)              0.000000e+00  0.000000e+00  0.000000e+00   \n",
       "(author, Павел_Пахлов)              0.000000e+00  0.000000e+00  0.000000e+00   \n",
       "(author, Павел_Уваров)              7.347763e-02  0.000000e+00  0.000000e+00   \n",
       "(author, Сергей_Соколовский)        0.000000e+00  0.000000e+00  0.000000e+00   \n",
       "(author, Светлана_Боринская)        0.000000e+00  0.000000e+00  0.000000e+00   \n",
       "(author, Эдуард_Боос)               0.000000e+00  0.000000e+00  0.000000e+00   \n",
       "(author, Евгений_Шеваль)            0.000000e+00  0.000000e+00  2.175822e-16   \n",
       "(author, Нина_Сумбатова)            0.000000e+00  0.000000e+00  0.000000e+00   \n",
       "(author, Виктор_Вахштайн)           0.000000e+00  0.000000e+00  2.270565e-12   \n",
       "(author, Хопи_Хукстра)              0.000000e+00  0.000000e+00  1.622931e-13   \n",
       "(author, Валерий_Рубаков)           0.000000e+00  0.000000e+00  0.000000e+00   \n",
       "(author, Сергей_Науменко)           0.000000e+00  0.000000e+00  1.987150e-14   \n",
       "(author, Андрей_Савельев-Трофимов)  0.000000e+00  0.000000e+00  0.000000e+00   \n",
       "(author, Aльберт_Давлетшин)         0.000000e+00  0.000000e+00  0.000000e+00   \n",
       "...                                          ...           ...           ...   \n",
       "(author, Роберт_Лэнгер)             0.000000e+00  0.000000e+00  7.186221e-15   \n",
       "(author, Олег_Воскобойников)        1.515447e-08  0.000000e+00  0.000000e+00   \n",
       "(author, Татьяна_Котова)            0.000000e+00  0.000000e+00  1.456419e-12   \n",
       "(author, Дмитрий_Полдников)         7.085563e-12  0.000000e+00  1.220499e-16   \n",
       "(author, Андрей_Семенов)            0.000000e+00  0.000000e+00  2.439575e-14   \n",
       "(author, Яков_Фоминов)              0.000000e+00  1.526566e-09  1.130180e-08   \n",
       "(author, Дэвид_Синклер)             0.000000e+00  0.000000e+00  0.000000e+00   \n",
       "(author, Дэвид_С._Джонс)            0.000000e+00  0.000000e+00  0.000000e+00   \n",
       "(author, Анна_Рогожина)             0.000000e+00  0.000000e+00  0.000000e+00   \n",
       "(author, Мария_Шутова)              0.000000e+00  0.000000e+00  0.000000e+00   \n",
       "(author, Марина_Новикова-Грунд)     0.000000e+00  0.000000e+00  1.611179e-16   \n",
       "(author, Кристофер_Карр)            0.000000e+00  2.292725e-11  3.458419e-05   \n",
       "(author, Сергей_Нечаев)             0.000000e+00  1.925569e-15  8.189197e-13   \n",
       "(author, Алексей_Орлов)             0.000000e+00  0.000000e+00  2.971100e-16   \n",
       "(author, Георгий_Старостин)         0.000000e+00  0.000000e+00  0.000000e+00   \n",
       "(author, Дмитрий_Баюк)              6.665793e-16  2.571619e-07  0.000000e+00   \n",
       "(author, Антон_Чугунов)             0.000000e+00  0.000000e+00  3.805364e-16   \n",
       "(author, Анатолий_Вишневский)       0.000000e+00  0.000000e+00  9.237857e-10   \n",
       "(author, Юрий_Рогулёв)              0.000000e+00  0.000000e+00  0.000000e+00   \n",
       "(author, Екатерина_Болтунова)       1.225258e-02  0.000000e+00  0.000000e+00   \n",
       "(author, Дэвид_Кларк)               0.000000e+00  0.000000e+00  0.000000e+00   \n",
       "(author, Алексей_Малашенко)         0.000000e+00  0.000000e+00  0.000000e+00   \n",
       "(author, Ирина_Левонтина)           0.000000e+00  0.000000e+00  0.000000e+00   \n",
       "(author, Андрей_Коротаев)           0.000000e+00  0.000000e+00  0.000000e+00   \n",
       "(author, Татьяна_Гусарова)          0.000000e+00  0.000000e+00  0.000000e+00   \n",
       "(author, Дарья_Радченко)            0.000000e+00  0.000000e+00  0.000000e+00   \n",
       "(author, Ирина_Каспэ)               0.000000e+00  0.000000e+00  0.000000e+00   \n",
       "(author, Марина_Корсакова-Крейн)    0.000000e+00  0.000000e+00  0.000000e+00   \n",
       "(author, Павел_Степанцов)           0.000000e+00  0.000000e+00  0.000000e+00   \n",
       "(author, Дэвид_Гросс)               0.000000e+00  3.715219e-14  0.000000e+00   \n",
       "\n",
       "                                            sbj3          sbj4          sbj5  \\\n",
       "(author, Ярослав_Исполатов)         1.817318e-11  1.011139e-06  0.000000e+00   \n",
       "(author, Сергей_Демокритов)         0.000000e+00  0.000000e+00  0.000000e+00   \n",
       "(author, Руслан_Смелянский)         0.000000e+00  0.000000e+00  0.000000e+00   \n",
       "(author, Александр_Апт)             0.000000e+00  0.000000e+00  0.000000e+00   \n",
       "(author, Людмила_Новикова)          0.000000e+00  0.000000e+00  0.000000e+00   \n",
       "(author, Александр_Парфенов)        0.000000e+00  5.267310e-02  0.000000e+00   \n",
       "(author, Джеффри_Шнапп)             0.000000e+00  0.000000e+00  0.000000e+00   \n",
       "(author, Дмитрий_Чудаков)           0.000000e+00  0.000000e+00  0.000000e+00   \n",
       "(author, Дмитрий_Дождев)            2.639104e-07  3.341590e-01  0.000000e+00   \n",
       "(author, Владимир_Шалаев)           0.000000e+00  0.000000e+00  5.461223e-02   \n",
       "(author, Марк_Харрисон)             0.000000e+00  1.178822e-14  0.000000e+00   \n",
       "(author, Валерий_Фокин)             0.000000e+00  0.000000e+00  7.070431e-10   \n",
       "(author, Ави_Лёб)                   0.000000e+00  0.000000e+00  0.000000e+00   \n",
       "(author, Сергей_Гуриев)             0.000000e+00  0.000000e+00  0.000000e+00   \n",
       "(author, Эмиль_Ахмедов)             0.000000e+00  0.000000e+00  0.000000e+00   \n",
       "(author, Алексей_Муравьёв)          0.000000e+00  0.000000e+00  0.000000e+00   \n",
       "(author, Виктор_Быков)              0.000000e+00  0.000000e+00  1.820410e-02   \n",
       "(author, Павел_Пахлов)              0.000000e+00  0.000000e+00  0.000000e+00   \n",
       "(author, Павел_Уваров)              2.946890e-09  0.000000e+00  0.000000e+00   \n",
       "(author, Сергей_Соколовский)        2.779396e-13  0.000000e+00  0.000000e+00   \n",
       "(author, Светлана_Боринская)        0.000000e+00  0.000000e+00  0.000000e+00   \n",
       "(author, Эдуард_Боос)               0.000000e+00  0.000000e+00  0.000000e+00   \n",
       "(author, Евгений_Шеваль)            0.000000e+00  0.000000e+00  1.519141e-15   \n",
       "(author, Нина_Сумбатова)            0.000000e+00  0.000000e+00  0.000000e+00   \n",
       "(author, Виктор_Вахштайн)           2.343554e-04  2.837207e-12  0.000000e+00   \n",
       "(author, Хопи_Хукстра)              0.000000e+00  1.725323e-15  1.201085e-15   \n",
       "(author, Валерий_Рубаков)           0.000000e+00  0.000000e+00  0.000000e+00   \n",
       "(author, Сергей_Науменко)           0.000000e+00  1.776383e-16  8.488329e-12   \n",
       "(author, Андрей_Савельев-Трофимов)  0.000000e+00  0.000000e+00  0.000000e+00   \n",
       "(author, Aльберт_Давлетшин)         0.000000e+00  0.000000e+00  0.000000e+00   \n",
       "...                                          ...           ...           ...   \n",
       "(author, Роберт_Лэнгер)             0.000000e+00  3.334965e-16  9.954087e-06   \n",
       "(author, Олег_Воскобойников)        0.000000e+00  0.000000e+00  0.000000e+00   \n",
       "(author, Татьяна_Котова)            5.621503e-02  5.251380e-15  0.000000e+00   \n",
       "(author, Дмитрий_Полдников)         0.000000e+00  0.000000e+00  0.000000e+00   \n",
       "(author, Андрей_Семенов)            0.000000e+00  0.000000e+00  4.779249e-16   \n",
       "(author, Яков_Фоминов)              0.000000e+00  0.000000e+00  7.453676e-15   \n",
       "(author, Дэвид_Синклер)             0.000000e+00  0.000000e+00  1.215346e-14   \n",
       "(author, Дэвид_С._Джонс)            0.000000e+00  0.000000e+00  0.000000e+00   \n",
       "(author, Анна_Рогожина)             0.000000e+00  0.000000e+00  0.000000e+00   \n",
       "(author, Мария_Шутова)              0.000000e+00  0.000000e+00  0.000000e+00   \n",
       "(author, Марина_Новикова-Грунд)     6.361848e-08  6.812913e-16  1.096179e-14   \n",
       "(author, Кристофер_Карр)            0.000000e+00  5.637368e-15  5.834191e-06   \n",
       "(author, Сергей_Нечаев)             7.705548e-13  0.000000e+00  7.460641e-13   \n",
       "(author, Алексей_Орлов)             0.000000e+00  0.000000e+00  1.358405e-07   \n",
       "(author, Георгий_Старостин)         0.000000e+00  0.000000e+00  0.000000e+00   \n",
       "(author, Дмитрий_Баюк)              0.000000e+00  0.000000e+00  0.000000e+00   \n",
       "(author, Антон_Чугунов)             0.000000e+00  0.000000e+00  0.000000e+00   \n",
       "(author, Анатолий_Вишневский)       1.223769e-16  0.000000e+00  0.000000e+00   \n",
       "(author, Юрий_Рогулёв)              0.000000e+00  0.000000e+00  0.000000e+00   \n",
       "(author, Екатерина_Болтунова)       0.000000e+00  0.000000e+00  0.000000e+00   \n",
       "(author, Дэвид_Кларк)               0.000000e+00  1.877104e-14  0.000000e+00   \n",
       "(author, Алексей_Малашенко)         0.000000e+00  0.000000e+00  0.000000e+00   \n",
       "(author, Ирина_Левонтина)           4.087383e-13  0.000000e+00  9.542550e-16   \n",
       "(author, Андрей_Коротаев)           3.001416e-02  0.000000e+00  0.000000e+00   \n",
       "(author, Татьяна_Гусарова)          0.000000e+00  2.633655e-02  0.000000e+00   \n",
       "(author, Дарья_Радченко)            0.000000e+00  0.000000e+00  0.000000e+00   \n",
       "(author, Ирина_Каспэ)               3.001416e-02  0.000000e+00  0.000000e+00   \n",
       "(author, Марина_Корсакова-Крейн)    0.000000e+00  0.000000e+00  0.000000e+00   \n",
       "(author, Павел_Степанцов)           6.002813e-02  0.000000e+00  0.000000e+00   \n",
       "(author, Дэвид_Гросс)               0.000000e+00  0.000000e+00  0.000000e+00   \n",
       "\n",
       "                                            sbj6          sbj7          sbj8  \\\n",
       "(author, Ярослав_Исполатов)         0.000000e+00  0.000000e+00  3.504708e-12   \n",
       "(author, Сергей_Демокритов)         0.000000e+00  0.000000e+00  0.000000e+00   \n",
       "(author, Руслан_Смелянский)         0.000000e+00  0.000000e+00  5.382532e-02   \n",
       "(author, Александр_Апт)             0.000000e+00  0.000000e+00  5.382427e-02   \n",
       "(author, Людмила_Новикова)          0.000000e+00  2.269719e-16  0.000000e+00   \n",
       "(author, Александр_Парфенов)        0.000000e+00  0.000000e+00  0.000000e+00   \n",
       "(author, Джеффри_Шнапп)             1.401298e-05  0.000000e+00  4.016497e-11   \n",
       "(author, Дмитрий_Чудаков)           0.000000e+00  0.000000e+00  9.239669e-11   \n",
       "(author, Дмитрий_Дождев)            0.000000e+00  0.000000e+00  0.000000e+00   \n",
       "(author, Владимир_Шалаев)           0.000000e+00  0.000000e+00  9.224637e-10   \n",
       "(author, Марк_Харрисон)             1.217588e-12  4.749478e-07  0.000000e+00   \n",
       "(author, Валерий_Фокин)             0.000000e+00  0.000000e+00  1.255925e-01   \n",
       "(author, Ави_Лёб)                   0.000000e+00  0.000000e+00  0.000000e+00   \n",
       "(author, Сергей_Гуриев)             0.000000e+00  0.000000e+00  1.611513e-15   \n",
       "(author, Эмиль_Ахмедов)             0.000000e+00  0.000000e+00  0.000000e+00   \n",
       "(author, Алексей_Муравьёв)          0.000000e+00  0.000000e+00  0.000000e+00   \n",
       "(author, Виктор_Быков)              0.000000e+00  0.000000e+00  0.000000e+00   \n",
       "(author, Павел_Пахлов)              0.000000e+00  0.000000e+00  0.000000e+00   \n",
       "(author, Павел_Уваров)              0.000000e+00  1.473251e-05  3.909078e-05   \n",
       "(author, Сергей_Соколовский)        0.000000e+00  0.000000e+00  1.496340e-13   \n",
       "(author, Светлана_Боринская)        0.000000e+00  0.000000e+00  5.079826e-07   \n",
       "(author, Эдуард_Боос)               0.000000e+00  0.000000e+00  0.000000e+00   \n",
       "(author, Евгений_Шеваль)            0.000000e+00  0.000000e+00  1.106608e-14   \n",
       "(author, Нина_Сумбатова)            0.000000e+00  0.000000e+00  6.886417e-13   \n",
       "(author, Виктор_Вахштайн)           1.222346e-08  3.753946e-01  7.792723e-12   \n",
       "(author, Хопи_Хукстра)              0.000000e+00  0.000000e+00  2.552508e-15   \n",
       "(author, Валерий_Рубаков)           0.000000e+00  0.000000e+00  2.508083e-06   \n",
       "(author, Сергей_Науменко)           0.000000e+00  0.000000e+00  4.218713e-14   \n",
       "(author, Андрей_Савельев-Трофимов)  0.000000e+00  0.000000e+00  1.504873e-13   \n",
       "(author, Aльберт_Давлетшин)         0.000000e+00  0.000000e+00  6.284045e-09   \n",
       "...                                          ...           ...           ...   \n",
       "(author, Роберт_Лэнгер)             0.000000e+00  0.000000e+00  5.810470e-13   \n",
       "(author, Олег_Воскобойников)        0.000000e+00  0.000000e+00  0.000000e+00   \n",
       "(author, Татьяна_Котова)            0.000000e+00  0.000000e+00  0.000000e+00   \n",
       "(author, Дмитрий_Полдников)         0.000000e+00  0.000000e+00  0.000000e+00   \n",
       "(author, Андрей_Семенов)            0.000000e+00  0.000000e+00  0.000000e+00   \n",
       "(author, Яков_Фоминов)              0.000000e+00  0.000000e+00  0.000000e+00   \n",
       "(author, Дэвид_Синклер)             0.000000e+00  0.000000e+00  0.000000e+00   \n",
       "(author, Дэвид_С._Джонс)            0.000000e+00  0.000000e+00  0.000000e+00   \n",
       "(author, Анна_Рогожина)             3.443696e-02  0.000000e+00  0.000000e+00   \n",
       "(author, Мария_Шутова)              0.000000e+00  0.000000e+00  8.509693e-12   \n",
       "(author, Марина_Новикова-Грунд)     8.311224e-09  2.465933e-16  0.000000e+00   \n",
       "(author, Кристофер_Карр)            0.000000e+00  0.000000e+00  9.661267e-12   \n",
       "(author, Сергей_Нечаев)             0.000000e+00  0.000000e+00  0.000000e+00   \n",
       "(author, Алексей_Орлов)             0.000000e+00  0.000000e+00  2.260742e-16   \n",
       "(author, Георгий_Старостин)         0.000000e+00  0.000000e+00  0.000000e+00   \n",
       "(author, Дмитрий_Баюк)              6.513663e-11  1.318502e-12  1.865718e-13   \n",
       "(author, Антон_Чугунов)             0.000000e+00  0.000000e+00  2.512428e-02   \n",
       "(author, Анатолий_Вишневский)       0.000000e+00  0.000000e+00  3.506955e-09   \n",
       "(author, Юрий_Рогулёв)              0.000000e+00  0.000000e+00  0.000000e+00   \n",
       "(author, Екатерина_Болтунова)       0.000000e+00  0.000000e+00  0.000000e+00   \n",
       "(author, Дэвид_Кларк)               1.089452e-16  2.238875e-16  0.000000e+00   \n",
       "(author, Алексей_Малашенко)         0.000000e+00  0.000000e+00  5.382352e-02   \n",
       "(author, Ирина_Левонтина)           0.000000e+00  0.000000e+00  1.601115e-05   \n",
       "(author, Андрей_Коротаев)           0.000000e+00  0.000000e+00  0.000000e+00   \n",
       "(author, Татьяна_Гусарова)          0.000000e+00  0.000000e+00  0.000000e+00   \n",
       "(author, Дарья_Радченко)            0.000000e+00  0.000000e+00  0.000000e+00   \n",
       "(author, Ирина_Каспэ)               0.000000e+00  0.000000e+00  0.000000e+00   \n",
       "(author, Марина_Корсакова-Крейн)    0.000000e+00  0.000000e+00  0.000000e+00   \n",
       "(author, Павел_Степанцов)           0.000000e+00  0.000000e+00  2.845818e-13   \n",
       "(author, Дэвид_Гросс)               0.000000e+00  0.000000e+00  0.000000e+00   \n",
       "\n",
       "                                            sbj9      ...              sbj20  \\\n",
       "(author, Ярослав_Исполатов)         0.000000e+00      ...       0.000000e+00   \n",
       "(author, Сергей_Демокритов)         3.104361e-02      ...       0.000000e+00   \n",
       "(author, Руслан_Смелянский)         0.000000e+00      ...       6.238593e-08   \n",
       "(author, Александр_Апт)             0.000000e+00      ...       0.000000e+00   \n",
       "(author, Людмила_Новикова)          0.000000e+00      ...       0.000000e+00   \n",
       "(author, Александр_Парфенов)        0.000000e+00      ...       0.000000e+00   \n",
       "(author, Джеффри_Шнапп)             0.000000e+00      ...       1.328305e-09   \n",
       "(author, Дмитрий_Чудаков)           0.000000e+00      ...       0.000000e+00   \n",
       "(author, Дмитрий_Дождев)            0.000000e+00      ...       0.000000e+00   \n",
       "(author, Владимир_Шалаев)           7.263324e-15      ...       1.537455e-12   \n",
       "(author, Марк_Харрисон)             0.000000e+00      ...       3.060892e-09   \n",
       "(author, Валерий_Фокин)             0.000000e+00      ...       0.000000e+00   \n",
       "(author, Ави_Лёб)                   0.000000e+00      ...       0.000000e+00   \n",
       "(author, Сергей_Гуриев)             0.000000e+00      ...       0.000000e+00   \n",
       "(author, Эмиль_Ахмедов)             1.168132e-01      ...       5.746707e-15   \n",
       "(author, Алексей_Муравьёв)          0.000000e+00      ...       0.000000e+00   \n",
       "(author, Виктор_Быков)              0.000000e+00      ...       0.000000e+00   \n",
       "(author, Павел_Пахлов)              3.104362e-02      ...       0.000000e+00   \n",
       "(author, Павел_Уваров)              0.000000e+00      ...       0.000000e+00   \n",
       "(author, Сергей_Соколовский)        0.000000e+00      ...       0.000000e+00   \n",
       "(author, Светлана_Боринская)        0.000000e+00      ...       0.000000e+00   \n",
       "(author, Эдуард_Боос)               2.069571e-02      ...       0.000000e+00   \n",
       "(author, Евгений_Шеваль)            0.000000e+00      ...       1.748541e-15   \n",
       "(author, Нина_Сумбатова)            0.000000e+00      ...       1.205024e-16   \n",
       "(author, Виктор_Вахштайн)           0.000000e+00      ...       2.869765e-05   \n",
       "(author, Хопи_Хукстра)              0.000000e+00      ...       2.649859e-11   \n",
       "(author, Валерий_Рубаков)           1.877923e-02      ...       0.000000e+00   \n",
       "(author, Сергей_Науменко)           0.000000e+00      ...       2.006398e-11   \n",
       "(author, Андрей_Савельев-Трофимов)  3.563751e-06      ...       0.000000e+00   \n",
       "(author, Aльберт_Давлетшин)         0.000000e+00      ...       0.000000e+00   \n",
       "...                                          ...      ...                ...   \n",
       "(author, Роберт_Лэнгер)             0.000000e+00      ...       2.642348e-14   \n",
       "(author, Олег_Воскобойников)        0.000000e+00      ...       0.000000e+00   \n",
       "(author, Татьяна_Котова)            0.000000e+00      ...       2.344608e-09   \n",
       "(author, Дмитрий_Полдников)         0.000000e+00      ...       1.132838e-10   \n",
       "(author, Андрей_Семенов)            2.069572e-02      ...       0.000000e+00   \n",
       "(author, Яков_Фоминов)              1.034643e-02      ...       0.000000e+00   \n",
       "(author, Дэвид_Синклер)             0.000000e+00      ...       3.472715e-07   \n",
       "(author, Дэвид_С._Джонс)            0.000000e+00      ...       0.000000e+00   \n",
       "(author, Анна_Рогожина)             0.000000e+00      ...       0.000000e+00   \n",
       "(author, Мария_Шутова)              0.000000e+00      ...       0.000000e+00   \n",
       "(author, Марина_Новикова-Грунд)     0.000000e+00      ...       3.411404e-13   \n",
       "(author, Кристофер_Карр)            0.000000e+00      ...       2.471862e-09   \n",
       "(author, Сергей_Нечаев)             2.430496e-16      ...       1.724336e-16   \n",
       "(author, Алексей_Орлов)             1.290522e-15      ...       3.605243e-10   \n",
       "(author, Георгий_Старостин)         0.000000e+00      ...       0.000000e+00   \n",
       "(author, Дмитрий_Баюк)              0.000000e+00      ...       1.847721e-06   \n",
       "(author, Антон_Чугунов)             1.084471e-05      ...       2.140824e-15   \n",
       "(author, Анатолий_Вишневский)       0.000000e+00      ...       1.864879e-16   \n",
       "(author, Юрий_Рогулёв)              0.000000e+00      ...       0.000000e+00   \n",
       "(author, Екатерина_Болтунова)       0.000000e+00      ...       0.000000e+00   \n",
       "(author, Дэвид_Кларк)               0.000000e+00      ...       4.007970e-02   \n",
       "(author, Алексей_Малашенко)         0.000000e+00      ...       0.000000e+00   \n",
       "(author, Ирина_Левонтина)           0.000000e+00      ...       0.000000e+00   \n",
       "(author, Андрей_Коротаев)           0.000000e+00      ...       0.000000e+00   \n",
       "(author, Татьяна_Гусарова)          0.000000e+00      ...       0.000000e+00   \n",
       "(author, Дарья_Радченко)            0.000000e+00      ...       4.009358e-02   \n",
       "(author, Ирина_Каспэ)               0.000000e+00      ...       0.000000e+00   \n",
       "(author, Марина_Корсакова-Крейн)    2.069574e-02      ...       0.000000e+00   \n",
       "(author, Павел_Степанцов)           0.000000e+00      ...       8.472052e-10   \n",
       "(author, Дэвид_Гросс)               1.034479e-02      ...       0.000000e+00   \n",
       "\n",
       "                                           sbj21         sbj22         sbj23  \\\n",
       "(author, Ярослав_Исполатов)         1.047870e-07  1.256824e-13  0.000000e+00   \n",
       "(author, Сергей_Демокритов)         0.000000e+00  0.000000e+00  0.000000e+00   \n",
       "(author, Руслан_Смелянский)         0.000000e+00  0.000000e+00  0.000000e+00   \n",
       "(author, Александр_Апт)             0.000000e+00  0.000000e+00  0.000000e+00   \n",
       "(author, Людмила_Новикова)          0.000000e+00  0.000000e+00  0.000000e+00   \n",
       "(author, Александр_Парфенов)        0.000000e+00  0.000000e+00  0.000000e+00   \n",
       "(author, Джеффри_Шнапп)             0.000000e+00  3.644281e-02  0.000000e+00   \n",
       "(author, Дмитрий_Чудаков)           2.332508e-15  0.000000e+00  0.000000e+00   \n",
       "(author, Дмитрий_Дождев)            0.000000e+00  0.000000e+00  0.000000e+00   \n",
       "(author, Владимир_Шалаев)           0.000000e+00  0.000000e+00  0.000000e+00   \n",
       "(author, Марк_Харрисон)             0.000000e+00  3.430587e-14  0.000000e+00   \n",
       "(author, Валерий_Фокин)             8.920822e-12  0.000000e+00  0.000000e+00   \n",
       "(author, Ави_Лёб)                   0.000000e+00  0.000000e+00  0.000000e+00   \n",
       "(author, Сергей_Гуриев)             0.000000e+00  0.000000e+00  0.000000e+00   \n",
       "(author, Эмиль_Ахмедов)             0.000000e+00  2.487887e-11  0.000000e+00   \n",
       "(author, Алексей_Муравьёв)          0.000000e+00  0.000000e+00  0.000000e+00   \n",
       "(author, Виктор_Быков)              0.000000e+00  0.000000e+00  0.000000e+00   \n",
       "(author, Павел_Пахлов)              0.000000e+00  0.000000e+00  0.000000e+00   \n",
       "(author, Павел_Уваров)              0.000000e+00  8.066928e-11  0.000000e+00   \n",
       "(author, Сергей_Соколовский)        2.483776e-15  0.000000e+00  0.000000e+00   \n",
       "(author, Светлана_Боринская)        0.000000e+00  0.000000e+00  0.000000e+00   \n",
       "(author, Эдуард_Боос)               0.000000e+00  0.000000e+00  0.000000e+00   \n",
       "(author, Евгений_Шеваль)            0.000000e+00  0.000000e+00  0.000000e+00   \n",
       "(author, Нина_Сумбатова)            0.000000e+00  0.000000e+00  0.000000e+00   \n",
       "(author, Виктор_Вахштайн)           0.000000e+00  2.833768e-01  1.276848e-10   \n",
       "(author, Хопи_Хукстра)              0.000000e+00  3.035506e-13  1.826875e-12   \n",
       "(author, Валерий_Рубаков)           0.000000e+00  0.000000e+00  0.000000e+00   \n",
       "(author, Сергей_Науменко)           0.000000e+00  5.230149e-16  3.108305e-13   \n",
       "(author, Андрей_Савельев-Трофимов)  0.000000e+00  0.000000e+00  0.000000e+00   \n",
       "(author, Aльберт_Давлетшин)         0.000000e+00  6.144544e-10  1.024560e-09   \n",
       "...                                          ...           ...           ...   \n",
       "(author, Роберт_Лэнгер)             2.435973e-15  6.953271e-15  0.000000e+00   \n",
       "(author, Олег_Воскобойников)        0.000000e+00  0.000000e+00  0.000000e+00   \n",
       "(author, Татьяна_Котова)            2.779095e-15  1.068341e-14  1.287797e-15   \n",
       "(author, Дмитрий_Полдников)         0.000000e+00  0.000000e+00  0.000000e+00   \n",
       "(author, Андрей_Семенов)            0.000000e+00  0.000000e+00  0.000000e+00   \n",
       "(author, Яков_Фоминов)              0.000000e+00  0.000000e+00  0.000000e+00   \n",
       "(author, Дэвид_Синклер)             2.128074e-06  1.516459e-14  0.000000e+00   \n",
       "(author, Дэвид_С._Джонс)            7.802277e-07  0.000000e+00  0.000000e+00   \n",
       "(author, Анна_Рогожина)             0.000000e+00  0.000000e+00  0.000000e+00   \n",
       "(author, Мария_Шутова)              0.000000e+00  0.000000e+00  0.000000e+00   \n",
       "(author, Марина_Новикова-Грунд)     2.350044e-16  4.680792e-12  1.953318e-14   \n",
       "(author, Кристофер_Карр)            1.825800e-12  2.095298e-11  0.000000e+00   \n",
       "(author, Сергей_Нечаев)             0.000000e+00  2.733746e-14  3.686890e-09   \n",
       "(author, Алексей_Орлов)             0.000000e+00  1.078052e-12  4.939280e-14   \n",
       "(author, Георгий_Старостин)         0.000000e+00  0.000000e+00  0.000000e+00   \n",
       "(author, Дмитрий_Баюк)              0.000000e+00  4.882238e-13  0.000000e+00   \n",
       "(author, Антон_Чугунов)             0.000000e+00  5.710551e-16  0.000000e+00   \n",
       "(author, Анатолий_Вишневский)       0.000000e+00  0.000000e+00  0.000000e+00   \n",
       "(author, Юрий_Рогулёв)              0.000000e+00  0.000000e+00  0.000000e+00   \n",
       "(author, Екатерина_Болтунова)       0.000000e+00  0.000000e+00  0.000000e+00   \n",
       "(author, Дэвид_Кларк)               0.000000e+00  0.000000e+00  8.728116e-14   \n",
       "(author, Алексей_Малашенко)         0.000000e+00  0.000000e+00  0.000000e+00   \n",
       "(author, Ирина_Левонтина)           9.437957e-15  0.000000e+00  0.000000e+00   \n",
       "(author, Андрей_Коротаев)           0.000000e+00  0.000000e+00  0.000000e+00   \n",
       "(author, Татьяна_Гусарова)          0.000000e+00  0.000000e+00  0.000000e+00   \n",
       "(author, Дарья_Радченко)            0.000000e+00  0.000000e+00  0.000000e+00   \n",
       "(author, Ирина_Каспэ)               0.000000e+00  0.000000e+00  0.000000e+00   \n",
       "(author, Марина_Корсакова-Крейн)    0.000000e+00  0.000000e+00  0.000000e+00   \n",
       "(author, Павел_Степанцов)           0.000000e+00  0.000000e+00  1.973796e-08   \n",
       "(author, Дэвид_Гросс)               0.000000e+00  0.000000e+00  0.000000e+00   \n",
       "\n",
       "                                           sbj24         sbj25         sbj26  \\\n",
       "(author, Ярослав_Исполатов)         0.000000e+00  0.000000e+00  0.000000e+00   \n",
       "(author, Сергей_Демокритов)         0.000000e+00  0.000000e+00  0.000000e+00   \n",
       "(author, Руслан_Смелянский)         0.000000e+00  0.000000e+00  0.000000e+00   \n",
       "(author, Александр_Апт)             0.000000e+00  0.000000e+00  0.000000e+00   \n",
       "(author, Людмила_Новикова)          4.085663e-08  0.000000e+00  0.000000e+00   \n",
       "(author, Александр_Парфенов)        0.000000e+00  0.000000e+00  0.000000e+00   \n",
       "(author, Джеффри_Шнапп)             0.000000e+00  0.000000e+00  0.000000e+00   \n",
       "(author, Дмитрий_Чудаков)           0.000000e+00  0.000000e+00  0.000000e+00   \n",
       "(author, Дмитрий_Дождев)            0.000000e+00  0.000000e+00  0.000000e+00   \n",
       "(author, Владимир_Шалаев)           0.000000e+00  0.000000e+00  0.000000e+00   \n",
       "(author, Марк_Харрисон)             0.000000e+00  0.000000e+00  1.610173e-02   \n",
       "(author, Валерий_Фокин)             0.000000e+00  0.000000e+00  0.000000e+00   \n",
       "(author, Ави_Лёб)                   0.000000e+00  0.000000e+00  0.000000e+00   \n",
       "(author, Сергей_Гуриев)             0.000000e+00  0.000000e+00  5.163889e-02   \n",
       "(author, Эмиль_Ахмедов)             0.000000e+00  0.000000e+00  0.000000e+00   \n",
       "(author, Алексей_Муравьёв)          1.719016e-01  0.000000e+00  0.000000e+00   \n",
       "(author, Виктор_Быков)              0.000000e+00  0.000000e+00  0.000000e+00   \n",
       "(author, Павел_Пахлов)              0.000000e+00  0.000000e+00  0.000000e+00   \n",
       "(author, Павел_Уваров)              1.364183e-13  0.000000e+00  0.000000e+00   \n",
       "(author, Сергей_Соколовский)        1.027014e-14  0.000000e+00  4.612249e-10   \n",
       "(author, Светлана_Боринская)        0.000000e+00  0.000000e+00  7.113380e-09   \n",
       "(author, Эдуард_Боос)               0.000000e+00  0.000000e+00  0.000000e+00   \n",
       "(author, Евгений_Шеваль)            0.000000e+00  0.000000e+00  0.000000e+00   \n",
       "(author, Нина_Сумбатова)            0.000000e+00  7.875426e-06  0.000000e+00   \n",
       "(author, Виктор_Вахштайн)           0.000000e+00  1.873091e-10  4.191422e-13   \n",
       "(author, Хопи_Хукстра)              0.000000e+00  0.000000e+00  0.000000e+00   \n",
       "(author, Валерий_Рубаков)           0.000000e+00  0.000000e+00  0.000000e+00   \n",
       "(author, Сергей_Науменко)           0.000000e+00  0.000000e+00  0.000000e+00   \n",
       "(author, Андрей_Савельев-Трофимов)  0.000000e+00  0.000000e+00  0.000000e+00   \n",
       "(author, Aльберт_Давлетшин)         0.000000e+00  1.874155e-02  0.000000e+00   \n",
       "...                                          ...           ...           ...   \n",
       "(author, Роберт_Лэнгер)             0.000000e+00  0.000000e+00  0.000000e+00   \n",
       "(author, Олег_Воскобойников)        7.078926e-02  0.000000e+00  0.000000e+00   \n",
       "(author, Татьяна_Котова)            0.000000e+00  0.000000e+00  2.973880e-14   \n",
       "(author, Дмитрий_Полдников)         0.000000e+00  0.000000e+00  0.000000e+00   \n",
       "(author, Андрей_Семенов)            0.000000e+00  0.000000e+00  0.000000e+00   \n",
       "(author, Яков_Фоминов)              0.000000e+00  0.000000e+00  0.000000e+00   \n",
       "(author, Дэвид_Синклер)             0.000000e+00  0.000000e+00  0.000000e+00   \n",
       "(author, Дэвид_С._Джонс)            0.000000e+00  0.000000e+00  0.000000e+00   \n",
       "(author, Анна_Рогожина)             4.033858e-11  4.848176e-06  0.000000e+00   \n",
       "(author, Мария_Шутова)              0.000000e+00  0.000000e+00  0.000000e+00   \n",
       "(author, Марина_Новикова-Грунд)     0.000000e+00  0.000000e+00  0.000000e+00   \n",
       "(author, Кристофер_Карр)            0.000000e+00  0.000000e+00  0.000000e+00   \n",
       "(author, Сергей_Нечаев)             0.000000e+00  0.000000e+00  0.000000e+00   \n",
       "(author, Алексей_Орлов)             0.000000e+00  0.000000e+00  0.000000e+00   \n",
       "(author, Георгий_Старостин)         0.000000e+00  1.355999e-02  0.000000e+00   \n",
       "(author, Дмитрий_Баюк)              0.000000e+00  0.000000e+00  0.000000e+00   \n",
       "(author, Антон_Чугунов)             0.000000e+00  0.000000e+00  9.439450e-14   \n",
       "(author, Анатолий_Вишневский)       0.000000e+00  0.000000e+00  3.442513e-02   \n",
       "(author, Юрий_Рогулёв)              0.000000e+00  0.000000e+00  0.000000e+00   \n",
       "(author, Екатерина_Болтунова)       0.000000e+00  0.000000e+00  0.000000e+00   \n",
       "(author, Дэвид_Кларк)               0.000000e+00  0.000000e+00  0.000000e+00   \n",
       "(author, Алексей_Малашенко)         1.014171e-06  0.000000e+00  0.000000e+00   \n",
       "(author, Ирина_Левонтина)           1.767364e-04  4.659807e-05  0.000000e+00   \n",
       "(author, Андрей_Коротаев)           0.000000e+00  0.000000e+00  0.000000e+00   \n",
       "(author, Татьяна_Гусарова)          1.866131e-12  0.000000e+00  0.000000e+00   \n",
       "(author, Дарья_Радченко)            0.000000e+00  0.000000e+00  0.000000e+00   \n",
       "(author, Ирина_Каспэ)               0.000000e+00  0.000000e+00  0.000000e+00   \n",
       "(author, Марина_Корсакова-Крейн)    0.000000e+00  0.000000e+00  0.000000e+00   \n",
       "(author, Павел_Степанцов)           0.000000e+00  0.000000e+00  2.911082e-15   \n",
       "(author, Дэвид_Гросс)               0.000000e+00  0.000000e+00  0.000000e+00   \n",
       "\n",
       "                                           sbj27         sbj28           bcg  \n",
       "(author, Ярослав_Исполатов)         1.425791e-14  3.291446e-12  5.321609e-03  \n",
       "(author, Сергей_Демокритов)         0.000000e+00  8.100627e-14  7.969739e-11  \n",
       "(author, Руслан_Смелянский)         0.000000e+00  0.000000e+00  0.000000e+00  \n",
       "(author, Александр_Апт)             6.000125e-07  0.000000e+00  2.393981e-09  \n",
       "(author, Людмила_Новикова)          0.000000e+00  0.000000e+00  2.099684e-08  \n",
       "(author, Александр_Парфенов)        0.000000e+00  0.000000e+00  0.000000e+00  \n",
       "(author, Джеффри_Шнапп)             0.000000e+00  8.018766e-06  2.369367e-08  \n",
       "(author, Дмитрий_Чудаков)           2.024956e-02  0.000000e+00  0.000000e+00  \n",
       "(author, Дмитрий_Дождев)            0.000000e+00  0.000000e+00  2.579122e-09  \n",
       "(author, Владимир_Шалаев)           0.000000e+00  3.818268e-14  1.938977e-08  \n",
       "(author, Марк_Харрисон)             0.000000e+00  3.070752e-11  1.843211e-05  \n",
       "(author, Валерий_Фокин)             1.563777e-16  2.691373e-15  3.901761e-10  \n",
       "(author, Ави_Лёб)                   0.000000e+00  1.886201e-10  8.589685e-11  \n",
       "(author, Сергей_Гуриев)             0.000000e+00  0.000000e+00  0.000000e+00  \n",
       "(author, Эмиль_Ахмедов)             0.000000e+00  3.959816e-14  3.608911e-03  \n",
       "(author, Алексей_Муравьёв)          0.000000e+00  0.000000e+00  4.952469e-11  \n",
       "(author, Виктор_Быков)              0.000000e+00  0.000000e+00  0.000000e+00  \n",
       "(author, Павел_Пахлов)              0.000000e+00  0.000000e+00  6.406911e-14  \n",
       "(author, Павел_Уваров)              0.000000e+00  3.244390e-07  7.118597e-07  \n",
       "(author, Сергей_Соколовский)        0.000000e+00  0.000000e+00  4.190749e-09  \n",
       "(author, Светлана_Боринская)        3.037406e-02  0.000000e+00  0.000000e+00  \n",
       "(author, Эдуард_Боос)               0.000000e+00  0.000000e+00  1.860869e-08  \n",
       "(author, Евгений_Шеваль)            1.315148e-01  0.000000e+00  6.764946e-06  \n",
       "(author, Нина_Сумбатова)            0.000000e+00  1.375608e-07  0.000000e+00  \n",
       "(author, Виктор_Вахштайн)           0.000000e+00  5.804014e-12  1.681424e-02  \n",
       "(author, Хопи_Хукстра)              9.378755e-03  8.892954e-06  2.108141e-04  \n",
       "(author, Валерий_Рубаков)           0.000000e+00  0.000000e+00  5.745999e-07  \n",
       "(author, Сергей_Науменко)           3.036289e-02  2.484764e-09  5.978685e-06  \n",
       "(author, Андрей_Савельев-Трофимов)  0.000000e+00  3.220211e-16  9.498923e-09  \n",
       "(author, Aльберт_Давлетшин)         3.506055e-08  0.000000e+00  1.828650e-13  \n",
       "...                                          ...           ...           ...  \n",
       "(author, Роберт_Лэнгер)             0.000000e+00  1.877594e-08  1.147797e-06  \n",
       "(author, Олег_Воскобойников)        0.000000e+00  0.000000e+00  5.642528e-10  \n",
       "(author, Татьяна_Котова)            0.000000e+00  0.000000e+00  6.688542e-04  \n",
       "(author, Дмитрий_Полдников)         0.000000e+00  8.959421e-14  1.732598e-09  \n",
       "(author, Андрей_Семенов)            0.000000e+00  0.000000e+00  1.312087e-08  \n",
       "(author, Яков_Фоминов)              0.000000e+00  1.823205e-12  7.373609e-07  \n",
       "(author, Дэвид_Синклер)             4.441951e-03  5.994749e-11  8.517076e-04  \n",
       "(author, Дэвид_С._Джонс)            8.247202e-16  1.465864e-16  6.108782e-10  \n",
       "(author, Анна_Рогожина)             0.000000e+00  0.000000e+00  1.155305e-09  \n",
       "(author, Мария_Шутова)              2.024956e-02  0.000000e+00  0.000000e+00  \n",
       "(author, Марина_Новикова-Грунд)     0.000000e+00  0.000000e+00  1.199529e-03  \n",
       "(author, Кристофер_Карр)            6.172391e-10  2.874866e-08  5.314456e-03  \n",
       "(author, Сергей_Нечаев)             0.000000e+00  3.700821e-10  5.319960e-03  \n",
       "(author, Алексей_Орлов)             0.000000e+00  2.923854e-02  2.227250e-06  \n",
       "(author, Георгий_Старостин)         0.000000e+00  0.000000e+00  0.000000e+00  \n",
       "(author, Дмитрий_Баюк)              0.000000e+00  1.056779e-13  1.064327e-02  \n",
       "(author, Антон_Чугунов)             6.060992e-03  0.000000e+00  1.258232e-12  \n",
       "(author, Анатолий_Вишневский)       0.000000e+00  0.000000e+00  6.684653e-13  \n",
       "(author, Юрий_Рогулёв)              0.000000e+00  0.000000e+00  1.922961e-09  \n",
       "(author, Екатерина_Болтунова)       0.000000e+00  0.000000e+00  1.585794e-14  \n",
       "(author, Дэвид_Кларк)               0.000000e+00  4.518481e-14  1.685011e-07  \n",
       "(author, Алексей_Малашенко)         0.000000e+00  0.000000e+00  0.000000e+00  \n",
       "(author, Ирина_Левонтина)           0.000000e+00  0.000000e+00  1.323050e-10  \n",
       "(author, Андрей_Коротаев)           0.000000e+00  0.000000e+00  0.000000e+00  \n",
       "(author, Татьяна_Гусарова)          0.000000e+00  0.000000e+00  2.170367e-12  \n",
       "(author, Дарья_Радченко)            0.000000e+00  0.000000e+00  0.000000e+00  \n",
       "(author, Ирина_Каспэ)               0.000000e+00  0.000000e+00  0.000000e+00  \n",
       "(author, Марина_Корсакова-Крейн)    0.000000e+00  0.000000e+00  0.000000e+00  \n",
       "(author, Павел_Степанцов)           0.000000e+00  0.000000e+00  6.003791e-12  \n",
       "(author, Дэвид_Гросс)               0.000000e+00  0.000000e+00  1.585911e-06  \n",
       "\n",
       "[539 rows x 30 columns]"
      ]
     },
     "execution_count": 20,
     "metadata": {},
     "output_type": "execute_result"
    }
   ],
   "source": [
    "phi"
   ]
  },
  {
   "cell_type": "code",
   "execution_count": 21,
   "metadata": {},
   "outputs": [
    {
     "name": "stdout",
     "output_type": "stream",
     "text": [
      "Виктор_Вахштайн\n",
      "Виталий_Куренной\n",
      "Михаил_Маяцкий\n",
      "Елена_Брызгалина\n",
      "Михаил_Киселев\n",
      "Владимир_Муронец\n"
     ]
    }
   ],
   "source": [
    "authors = phi[phi > 0.01].count(axis=1)\n",
    "authors = [i[1] for i in authors[authors >=3].index]\n",
    "for author in authors:\n",
    "    print author"
   ]
  },
  {
   "cell_type": "raw",
   "metadata": {},
   "source": [
    "Ваш ответ:\n",
    "авторы, значимые в не менее чем 3 темах: Виктор_Вахштайн, Виталий_Куренной, Михаил_Маяцкий, Елена_Брызгалина, Михаил_Киселев, Владимир_Муронец"
   ]
  },
  {
   "cell_type": "markdown",
   "metadata": {},
   "source": [
    "Большинство авторов значимы в 1 теме, что логично."
   ]
  },
  {
   "cell_type": "markdown",
   "metadata": {},
   "source": [
    "##### Построение тематической карты авторов"
   ]
  },
  {
   "cell_type": "markdown",
   "metadata": {},
   "source": [
    "По сути, в матрице $\\Phi$, соответствующей модальности авторов, записаны тематические кластеры авторов. Для любого автора мы можем составить его тематический круг - авторов, разбирающихся в той же теме, что и данный. Интересующиеся слушатели могут попробовать выполнить эту процедуру для ученых, читающих лекции на Постнауке, которых они знают (например, на Постнауке есть лекции с К. В. Воронцовым - лектором текущего модуля :)\n",
    "\n",
    "Составим карту близости авторов по тематике их исследований. Для этого применим метод понижения размерности MDS к тематическим профилям авторов.\n",
    "\n",
    "Чтобы получить тематический профиль автора, распределение $p(t|a)$, нужно воспользоваться формулой Байеса: \n",
    "$p(t|a) = \\frac {p(a|t) p(t)} {\\sum_t' p(a|t') p(t')}$. Все необходимые для этого величины у вас есть и записаны в переменных phi и pt. \n",
    "\n",
    "Передайте матрицу тематических профилей авторов, записанных по строкам, в метод MDS с n_components=2. Используйте косинусную метрику (она хорошо подходит для поиска расстояний между векторами, имеющими фиксированную сумму компонент)."
   ]
  },
  {
   "cell_type": "code",
   "execution_count": 22,
   "metadata": {},
   "outputs": [],
   "source": [
    "from sklearn.manifold import MDS\n",
    "from sklearn.metrics import pairwise_distances"
   ]
  },
  {
   "cell_type": "code",
   "execution_count": 23,
   "metadata": {},
   "outputs": [],
   "source": [
    "# Ваш код\n",
    "prob_theme_author = np.empty(phi.shape)\n",
    "for i in range(prob_theme_author.shape[0]):\n",
    "    for j in range(prob_theme_author.shape[1]):\n",
    "        prob_theme_author[i,j] = phi.iloc[i,j] * prob.iloc[j] / np.sum(phi.iloc[i,:] * prob.values)"
   ]
  },
  {
   "cell_type": "code",
   "execution_count": 24,
   "metadata": {},
   "outputs": [],
   "source": [
    "# Ваш код\n",
    "similarities = pairwise_distances(prob_theme_author, metric='cosine')\n",
    "mds = MDS(n_components=2, dissimilarity='precomputed', random_state=42)\n",
    "pos = mds.fit_transform(similarities)"
   ]
  },
  {
   "cell_type": "markdown",
   "metadata": {},
   "source": [
    "Визуализируйте найденные двумерные представления с помощью функции scatter. "
   ]
  },
  {
   "cell_type": "code",
   "execution_count": 25,
   "metadata": {},
   "outputs": [
    {
     "data": {
      "image/png": "[encoded data removed]",
      "text/plain": [
       "<Figure size 720x360 with 1 Axes>"
      ]
     },
     "metadata": {
      "needs_background": "light"
     },
     "output_type": "display_data"
    }
   ],
   "source": [
    "# Ваш код\n",
    "plt.figure(figsize=(10,5))\n",
    "plt.scatter(pos[:,0], pos[:,1])\n",
    "plt.show();"
   ]
  },
  {
   "cell_type": "markdown",
   "metadata": {},
   "source": [
    "Должно получиться, что некоторые грппы авторов формируют сгустки, которые можно считать тематическими группами авторов.\n",
    "\n",
    "Раскрасим точки следующим образом: для каждого автора выберем наиболее вероятную для него тему ($\\max_t p(t|a)$), и каждой теме сопоставим цвет. Кроме того, добавим на карту имена и фамилии авторов, это можно сделать в цикле по всем точкам с помощью функции plt.annotate, указывая метку точки первым аргументом и ее координаты в аргументе xy. Рекомендуется сделать размер изображения большим, тогда маркеры точек тоже придется увеличить (s=100 в plt.scatter). Изобразите карту авторов и сохраните в pdf-файл с помощью функции plt.savefig. \n",
    "\n",
    "Метки авторов будут пересекаться. Будет очень хорошо, если вы найдете способ, как этого можно избежать."
   ]
  },
  {
   "cell_type": "code",
   "execution_count": 26,
   "metadata": {},
   "outputs": [
    {
     "data": {
      "image/png": "[encoded data removed]",
      "text/plain": [
       "<Figure size 1080x720 with 1 Axes>"
      ]
     },
     "metadata": {
      "needs_background": "light"
     },
     "output_type": "display_data"
    }
   ],
   "source": [
    "import matplotlib.cm as cm\n",
    "colors = cm.rainbow(np.linspace(0, 1, T)) # цвета для тем\n",
    "# Ваш код\n",
    "max_theme_prob_for_colors = [np.argmax(author) for author in prob_theme_author]\n",
    "plt.figure(figsize=(15,10))\n",
    "plt.axis('off')\n",
    "plt.scatter(pos[:,0], pos[:,1], s=100, c=colors[max_theme_prob_for_colors])\n",
    "for i, author in enumerate(phi.index):\n",
    "        plt.annotate(author[1], pos[i])\n",
    "plt.savefig('authors_map.pdf', dpi=200, format='pdf')\n",
    "plt.show();"
   ]
  },
  {
   "cell_type": "markdown",
   "metadata": {},
   "source": [
    "##### Создание простого тематического навигатора по Постнауке"
   ]
  },
  {
   "cell_type": "markdown",
   "metadata": {},
   "source": [
    "Наш тематический навигатор будет для каждой темы показывать ее список слов, а также список релевантных теме документов. \n",
    "\n",
    "Нам понадобятся распределения $p(d|t)$. По формуле Байеса $p(d|t) = \\frac{p(t|d)p(d)}{\\sum_{d'}p(t|d')p(d')}$, но поскольку мы считаем документы равновероятными, достаточно разделить каждую строку $\\Theta$ на ее сумму, чтобы оценить распределение. \n",
    "\n",
    "Отсортируйте матрицу $p(d|t)$ по убыванию $p(d|t)$ в каждой теме (то есть построчно). Нам понадобятся индексы наиболее вероятных документов в каждой теме, поэтому используйте функцию argmax."
   ]
  },
  {
   "cell_type": "code",
   "execution_count": 27,
   "metadata": {},
   "outputs": [
    {
     "data": {
      "text/plain": [
       "array([[1085, 1125, 1569, ...,  588,  584,  408],\n",
       "       [ 547, 1270,  807, ...,  679,  678, 1527],\n",
       "       [ 647,  347,   37, ...,  146,  804,  741],\n",
       "       ...,\n",
       "       [  76,  931,  415, ..., 1553,  497, 1499],\n",
       "       [ 148,  192,  193, ...,  647,  841,  591],\n",
       "       [1616, 1700,  324, ..., 1243,  489,  803]], dtype=int64)"
      ]
     },
     "execution_count": 27,
     "metadata": {},
     "output_type": "execute_result"
    }
   ],
   "source": [
    "# Ваш код\n",
    "prob_doc_theme = theta.values / np.array([np.sum(theme) for theme in theta.values])[:, np.newaxis]\n",
    "prob_doc_theme_sorted_indices = prob_doc_theme.argsort(axis=1)[:,::-1]\n",
    "prob_doc_theme_sorted_indices"
   ]
  },
  {
   "cell_type": "markdown",
   "metadata": {},
   "source": [
    "Создавать навигатор мы будем прямо в jupiter notebook: это возможно благодаря тому факту, что при печати ссылки она автоматически превращается в гиперссылку."
   ]
  },
  {
   "cell_type": "code",
   "execution_count": 28,
   "metadata": {},
   "outputs": [
    {
     "name": "stdout",
     "output_type": "stream",
     "text": [
      "http://yandex.ru\n"
     ]
    }
   ],
   "source": [
    "print \"http://yandex.ru\"   # получится кликабельная ссылка"
   ]
  },
  {
   "cell_type": "markdown",
   "metadata": {},
   "source": [
    "Кроме того, подключив модуль [ipython.core.display](https://ipython.org/ipython-doc/2/api/generated/IPython.core.display.html), можно использовать html-разметку в выводе. Например:"
   ]
  },
  {
   "cell_type": "code",
   "execution_count": 29,
   "metadata": {},
   "outputs": [
    {
     "data": {
      "text/html": [
       "<h1>Заголовок</h1>"
      ],
      "text/plain": [
       "<IPython.core.display.HTML object>"
      ]
     },
     "metadata": {},
     "output_type": "display_data"
    },
    {
     "data": {
      "text/html": [
       "<ul><li>Пункт 1</li><li>Пункт 2</li></ul>"
      ],
      "text/plain": [
       "<IPython.core.display.HTML object>"
      ]
     },
     "metadata": {},
     "output_type": "display_data"
    },
    {
     "data": {
      "text/html": [
       "<font color=\"green\">Зеленый!</font>"
      ],
      "text/plain": [
       "<IPython.core.display.HTML object>"
      ]
     },
     "metadata": {},
     "output_type": "display_data"
    },
    {
     "data": {
      "text/html": [
       "<a href=\"http://yandex.ru\">Еще один вариант вывода ссылки</a>"
      ],
      "text/plain": [
       "<IPython.core.display.HTML object>"
      ]
     },
     "metadata": {},
     "output_type": "display_data"
    }
   ],
   "source": [
    "from IPython.core.display import display, HTML\n",
    "display(HTML(u\"<h1>Заголовок</h1>\"))   # также <h2>, <h3>\n",
    "display(HTML(u\"<ul><li>Пункт 1</li><li>Пункт 2</li></ul>\"))\n",
    "display(HTML(u'<font color=\"green\">Зеленый!</font>'))\n",
    "display(HTML(u'<a href=\"http://yandex.ru\">Еще один вариант вывода ссылки</a>'))"
   ]
  },
  {
   "cell_type": "markdown",
   "metadata": {},
   "source": [
    "В цикле для каждой темы выведите ее заголовок, в следующей строке - топ-10 слов темы, затем в виде списка ссылки на 10 наиболее релевантных (по $p(d|t)$) теме документов. Используйте html-разметку. Творчество приветствуется :)"
   ]
  },
  {
   "cell_type": "code",
   "execution_count": 30,
   "metadata": {},
   "outputs": [
    {
     "data": {
      "text/html": [
       "<h3>История средних веков</h3>"
      ],
      "text/plain": [
       "<IPython.core.display.HTML object>"
      ]
     },
     "metadata": {},
     "output_type": "display_data"
    },
    {
     "name": "stdout",
     "output_type": "stream",
     "text": [
      "Александр_Марей Фёдор_Успенский Павел_Уваров Татьяна_Бобровникова Ольга_Вайнштейн Михаил_Бойцов Алексей_Юдин Игорь_Данилевский Раиса_Кирсанова Владимир_Кантор \n",
      "http://postnauka.ru/video/3348\n",
      "http://postnauka.ru/video/3406\n",
      "http://postnauka.ru/video/5464\n",
      "http://postnauka.ru/video/24030\n",
      "http://postnauka.ru/video/24039\n",
      "http://postnauka.ru/video/9968\n",
      "http://postnauka.ru/video/14292\n",
      "http://postnauka.ru/video/28942\n",
      "http://postnauka.ru/video/31677\n",
      "http://postnauka.ru/video/23900\n"
     ]
    },
    {
     "data": {
      "text/html": [
       "<h3>Космос</h3>"
      ],
      "text/plain": [
       "<IPython.core.display.HTML object>"
      ]
     },
     "metadata": {},
     "output_type": "display_data"
    },
    {
     "name": "stdout",
     "output_type": "stream",
     "text": [
      "Елизавета_Бонч-Осмоловская Кирилл_Еськов Сергей_Попов Дмитрий_Титов Николай_Пименов Татьяна_Смоктунович Андрей_Иванцов Зоригто_Намсараев Светлана_Дедыш Александр_Марков \n",
      "http://postnauka.ru/video/24245\n",
      "http://postnauka.ru/video/15049\n",
      "http://postnauka.ru/video/9835\n",
      "http://postnauka.ru/video/32889\n",
      "http://postnauka.ru/video/13098\n",
      "http://postnauka.ru/video/26206\n",
      "http://postnauka.ru/video/49437\n",
      "http://postnauka.ru/video/25312\n",
      "http://postnauka.ru/video/31695\n",
      "http://postnauka.ru/video/49261\n"
     ]
    },
    {
     "data": {
      "text/html": [
       "<h3>Системы</h3>"
      ],
      "text/plain": [
       "<IPython.core.display.HTML object>"
      ]
     },
     "metadata": {},
     "output_type": "display_data"
    },
    {
     "name": "stdout",
     "output_type": "stream",
     "text": [
      "Александр_Поддьяков Дмитрий_Громов Михаил_Пантелеев Владимир_Мележик Варвара_Веденина Даниэль_Сельва Антон_Суворов Михаил_Фейгельман Виталий_Пальчиков Алексей_Котов \n",
      "http://postnauka.ru/video/3602\n",
      "http://postnauka.ru/video/51382\n",
      "http://postnauka.ru/video/57648\n",
      "http://postnauka.ru/video/41348\n",
      "http://postnauka.ru/video/56618\n",
      "http://postnauka.ru/video/25097\n",
      "http://postnauka.ru/video/47457\n",
      "http://postnauka.ru/video/28557\n",
      "http://postnauka.ru/video/37982\n",
      "http://postnauka.ru/video/34426\n"
     ]
    },
    {
     "data": {
      "text/html": [
       "<h3>Философия</h3>"
      ],
      "text/plain": [
       "<IPython.core.display.HTML object>"
      ]
     },
     "metadata": {},
     "output_type": "display_data"
    },
    {
     "name": "stdout",
     "output_type": "stream",
     "text": [
      "Виталий_Куренной Сергей_Арутюнов Владимир_Миронов Максим_Кронгауз Николай_Плотников Алексей_Руткевич Павел_Степанцов Дмитрий_Куракин Дмитрий_Иванов Татьяна_Котова \n",
      "http://postnauka.ru/video/12524\n",
      "http://postnauka.ru/video/7169\n",
      "http://postnauka.ru/video/17397\n",
      "http://postnauka.ru/video/5891\n",
      "http://postnauka.ru/video/17041\n",
      "http://postnauka.ru/video/37990\n",
      "http://postnauka.ru/video/11626\n",
      "http://postnauka.ru/video/7747\n",
      "http://postnauka.ru/video/52418\n",
      "http://postnauka.ru/video/47812\n"
     ]
    },
    {
     "data": {
      "text/html": [
       "<h3>Биология</h3>"
      ],
      "text/plain": [
       "<IPython.core.display.HTML object>"
      ]
     },
     "metadata": {},
     "output_type": "display_data"
    },
    {
     "name": "stdout",
     "output_type": "stream",
     "text": [
      "Дмитрий_Дождев Евгений_Рогожин Сергей_Майоров Наталья_Смолянская Андрей_Кофман Виктор_Цетлин Марина_Бутовская Александр_Парфенов Татьяна_Гусарова Мохамад_Кассаб \n",
      "http://postnauka.ru/video/17913\n",
      "http://postnauka.ru/video/38009\n",
      "http://postnauka.ru/video/49262\n",
      "http://postnauka.ru/video/45717\n",
      "http://postnauka.ru/video/5906\n",
      "http://postnauka.ru/video/32632\n",
      "http://postnauka.ru/video/41345\n",
      "http://postnauka.ru/video/22570\n",
      "http://postnauka.ru/video/12574\n",
      "http://postnauka.ru/video/41100\n"
     ]
    },
    {
     "data": {
      "text/html": [
       "<h3>Материалы</h3>"
      ],
      "text/plain": [
       "<IPython.core.display.HTML object>"
      ]
     },
     "metadata": {},
     "output_type": "display_data"
    },
    {
     "name": "stdout",
     "output_type": "stream",
     "text": [
      "Артем_Оганов Дмитрий_Паращук Валентин_Крапошин Дмитрий_Гольберг Владимир_Шалаев Евгений_Гудилин Шринивас_Шридхар Леонид_Григорьев Алексей_Хохлов Дмитрий_Клинов \n",
      "http://postnauka.ru/video/41686\n",
      "http://postnauka.ru/video/13544\n",
      "http://postnauka.ru/video/31182\n",
      "http://postnauka.ru/video/36490\n",
      "http://postnauka.ru/video/36657\n",
      "http://postnauka.ru/video/46379\n",
      "http://postnauka.ru/video/21285\n",
      "http://postnauka.ru/video/31682\n",
      "http://postnauka.ru/video/52256\n",
      "http://postnauka.ru/video/6608\n"
     ]
    },
    {
     "data": {
      "text/html": [
       "<h3>Культура</h3>"
      ],
      "text/plain": [
       "<IPython.core.display.HTML object>"
      ]
     },
     "metadata": {},
     "output_type": "display_data"
    },
    {
     "name": "stdout",
     "output_type": "stream",
     "text": [
      "Александр_Павлов Павел_Руднев Ян_Левченко Ольга_Эдельман Мария_Неклюдова Игорь_Чубаров Мария_Майофис Петр_Дружинин Анна_Рогожина Алексей_Бартошевич \n",
      "http://postnauka.ru/video/39723\n",
      "http://postnauka.ru/video/10759\n",
      "http://postnauka.ru/video/47202\n",
      "http://postnauka.ru/video/47208\n",
      "http://postnauka.ru/video/13541\n",
      "http://postnauka.ru/video/47204\n",
      "http://postnauka.ru/video/57127\n",
      "http://postnauka.ru/video/38510\n",
      "http://postnauka.ru/video/52416\n",
      "http://postnauka.ru/video/19330\n"
     ]
    },
    {
     "data": {
      "text/html": [
       "<h3>Социология</h3>"
      ],
      "text/plain": [
       "<IPython.core.display.HTML object>"
      ]
     },
     "metadata": {},
     "output_type": "display_data"
    },
    {
     "name": "stdout",
     "output_type": "stream",
     "text": [
      "Виктор_Вахштайн Дмитрий_Рогозин Александр_Гофман Ольга_Артёмова Дмитрий_Бовыкин Елена_Вишленкова Алина_Бодрова Арсений_Хитров Руслан_Хестанов Ольга_Малинова \n",
      "http://postnauka.ru/video/48335\n",
      "http://postnauka.ru/video/3509\n",
      "http://postnauka.ru/video/17491\n",
      "http://postnauka.ru/video/20720\n",
      "http://postnauka.ru/video/6380\n",
      "http://postnauka.ru/video/17490\n",
      "http://postnauka.ru/video/50656\n",
      "http://postnauka.ru/video/15989\n",
      "http://postnauka.ru/video/49448\n",
      "http://postnauka.ru/video/51331\n"
     ]
    },
    {
     "data": {
      "text/html": [
       "<h3>Химия</h3>"
      ],
      "text/plain": [
       "<IPython.core.display.HTML object>"
      ]
     },
     "metadata": {},
     "output_type": "display_data"
    },
    {
     "name": "stdout",
     "output_type": "stream",
     "text": [
      "Валерий_Фокин Валентин_Ненайденко Александр_Беленький Пётр_Турчин Иван_Сорокин Руслан_Смелянский Александр_Апт Алексей_Малашенко Виктория_Битюкова Александр_Габибов \n",
      "http://postnauka.ru/video/8632\n",
      "http://postnauka.ru/video/19069\n",
      "http://postnauka.ru/video/7771\n",
      "http://postnauka.ru/video/13700\n",
      "http://postnauka.ru/video/12373\n",
      "http://postnauka.ru/video/9144\n",
      "http://postnauka.ru/video/13151\n",
      "http://postnauka.ru/video/12172\n",
      "http://postnauka.ru/video/11646\n",
      "http://postnauka.ru/video/7514\n"
     ]
    },
    {
     "data": {
      "text/html": [
       "<h3>Квантовая физика</h3>"
      ],
      "text/plain": [
       "<IPython.core.display.HTML object>"
      ]
     },
     "metadata": {},
     "output_type": "display_data"
    },
    {
     "name": "stdout",
     "output_type": "stream",
     "text": [
      "Дмитрий_Казаков Эмиль_Ахмедов Михаил_Данилов Алексей_Рубцов Виктор_Брагута Игорь_Волобуев Павел_Пахлов Наталья_Берлофф Сергей_Демокритов Сергей_Троицкий \n",
      "http://postnauka.ru/video/13043\n",
      "http://postnauka.ru/video/22760\n",
      "http://postnauka.ru/video/18873\n",
      "http://postnauka.ru/video/43677\n",
      "http://postnauka.ru/video/14283\n",
      "http://postnauka.ru/video/18870\n",
      "http://postnauka.ru/video/2945\n",
      "http://postnauka.ru/video/24434\n",
      "http://postnauka.ru/video/7311\n",
      "http://postnauka.ru/video/47826\n"
     ]
    },
    {
     "data": {
      "text/html": [
       "<h3>История России</h3>"
      ],
      "text/plain": [
       "<IPython.core.display.HTML object>"
      ]
     },
     "metadata": {},
     "output_type": "display_data"
    },
    {
     "name": "stdout",
     "output_type": "stream",
     "text": [
      "Кирилл_Кочегаров Кирилл_Соловьев Ирина_Бёме Олег_Будницкий Сергей_Соколовский Варвара_Добровольская Александр_Лаврентьев Борис_Колоницкий Александр_Каменский Борис_Морозов \n",
      "http://postnauka.ru/video/35041\n",
      "http://postnauka.ru/video/29992\n",
      "http://postnauka.ru/video/26667\n",
      "http://postnauka.ru/video/32637\n",
      "http://postnauka.ru/video/46939\n",
      "http://postnauka.ru/video/42809\n",
      "http://postnauka.ru/video/41671\n",
      "http://postnauka.ru/video/25283\n",
      "http://postnauka.ru/video/30261\n",
      "http://postnauka.ru/video/34424\n"
     ]
    },
    {
     "data": {
      "text/html": [
       "<h3>Воспитание</h3>"
      ],
      "text/plain": [
       "<IPython.core.display.HTML object>"
      ]
     },
     "metadata": {},
     "output_type": "display_data"
    },
    {
     "name": "stdout",
     "output_type": "stream",
     "text": [
      "Катерина_Поливанова Мария_Падун Юрий_Яшков Наталья_Харламенкова Наталья_Кисельникова Ольга_Исупова Мария_Медникова Эмери_Браун Владимир_Ковальзон Джеральд_де_Хаан \n",
      "http://postnauka.ru/video/22892\n",
      "http://postnauka.ru/video/22883\n",
      "http://postnauka.ru/video/11361\n",
      "http://postnauka.ru/video/60527\n",
      "http://postnauka.ru/video/30678\n",
      "http://postnauka.ru/video/57657\n",
      "http://postnauka.ru/video/29103\n",
      "http://postnauka.ru/video/30606\n",
      "http://postnauka.ru/video/25895\n",
      "http://postnauka.ru/video/59638\n"
     ]
    },
    {
     "data": {
      "text/html": [
       "<h3>Мозг</h3>"
      ],
      "text/plain": [
       "<IPython.core.display.HTML object>"
      ]
     },
     "metadata": {},
     "output_type": "display_data"
    },
    {
     "name": "stdout",
     "output_type": "stream",
     "text": [
      "Егор_Задереев Филипп_Хайтович Михаил_Бурцев Дмитрий_Лось Константин_Агладзе Роман_Ефремов Алишер_Тураев Александр_Петренко Сергей_Яковенко Дмитрий_Дорохов \n",
      "http://postnauka.ru/video/16821\n",
      "http://postnauka.ru/video/17416\n",
      "http://postnauka.ru/video/36350\n",
      "http://postnauka.ru/video/23172\n",
      "http://postnauka.ru/video/13746\n",
      "http://postnauka.ru/video/8630\n",
      "http://postnauka.ru/video/59617\n",
      "http://postnauka.ru/video/7361\n",
      "http://postnauka.ru/video/33763\n",
      "http://postnauka.ru/video/42221\n"
     ]
    },
    {
     "data": {
      "text/html": [
       "<h3>История городов</h3>"
      ],
      "text/plain": [
       "<IPython.core.display.HTML object>"
      ]
     },
     "metadata": {},
     "output_type": "display_data"
    },
    {
     "name": "stdout",
     "output_type": "stream",
     "text": [
      "Дмитрий_Беляев Марк_Ульянов Георгий_Старостин Наталья_Зубаревич Дмитрий_Худяков Ольга_Брилева Нина_Сумбатова Владимир_Каганский Екатерина_Ларионова Олег_Ауров \n",
      "http://postnauka.ru/video/53171\n",
      "http://postnauka.ru/video/59201\n",
      "http://postnauka.ru/video/31705\n",
      "http://postnauka.ru/video/2527\n",
      "http://postnauka.ru/video/7755\n",
      "http://postnauka.ru/video/13156\n",
      "http://postnauka.ru/video/2957\n",
      "http://postnauka.ru/video/11642\n",
      "http://postnauka.ru/video/45458\n",
      "http://postnauka.ru/video/9692\n"
     ]
    },
    {
     "data": {
      "text/html": [
       "<h3>Астрономия</h3>"
      ],
      "text/plain": [
       "<IPython.core.display.HTML object>"
      ]
     },
     "metadata": {},
     "output_type": "display_data"
    },
    {
     "name": "stdout",
     "output_type": "stream",
     "text": [
      "Сергей_Попов Анатолий_Засов Алексей_Расторгуев Ольга_Сильченко Дмитрий_Вибе Владимир_Сурдин Михаил_Ревнивцев Валерий_Сулейманов Дмитрий_Горбунов Олег_Верходанов \n",
      "http://postnauka.ru/video/6673\n",
      "http://postnauka.ru/video/58574\n",
      "http://postnauka.ru/video/31193\n",
      "http://postnauka.ru/video/17780\n",
      "http://postnauka.ru/video/30015\n",
      "http://postnauka.ru/video/2971\n",
      "http://postnauka.ru/video/31663\n",
      "http://postnauka.ru/video/57338\n",
      "http://postnauka.ru/video/29998\n",
      "http://postnauka.ru/video/23506\n"
     ]
    },
    {
     "data": {
      "text/html": [
       "<h3>Анализ</h3>"
      ],
      "text/plain": [
       "<IPython.core.display.HTML object>"
      ]
     },
     "metadata": {},
     "output_type": "display_data"
    },
    {
     "name": "stdout",
     "output_type": "stream",
     "text": [
      "Мария_Фаликман Игорь_Уточкин Ольга_Сварник Ольга_Тогоева Александр_Войскунский Александр_Каплан Иван_Луковников Антон_Чижов Махзарин_Банаджи Станислав_Клименко \n",
      "http://postnauka.ru/video/7283\n",
      "http://postnauka.ru/video/24182\n",
      "http://postnauka.ru/video/5181\n",
      "http://postnauka.ru/video/53949\n",
      "http://postnauka.ru/video/10384\n",
      "http://postnauka.ru/video/23763\n",
      "http://postnauka.ru/video/17421\n",
      "http://postnauka.ru/video/9560\n",
      "http://postnauka.ru/video/19577\n",
      "http://postnauka.ru/video/50349\n"
     ]
    },
    {
     "data": {
      "text/html": [
       "<h3>Общее</h3>"
      ],
      "text/plain": [
       "<IPython.core.display.HTML object>"
      ]
     },
     "metadata": {},
     "output_type": "display_data"
    },
    {
     "name": "stdout",
     "output_type": "stream",
     "text": [
      "Станислав_Дробышевский Виталий_Кушниров Александр_Воеводский Джефф_Лихтман Митчел_Резник Инга_Полетаева Владимир_Муронец Борис_Миркин Михаил_Гельфанд Сергей_Киселев \n",
      "http://postnauka.ru/video/31707\n",
      "http://postnauka.ru/video/32898\n",
      "http://postnauka.ru/video/42707\n",
      "http://postnauka.ru/video/40880\n",
      "http://postnauka.ru/video/42735\n",
      "http://postnauka.ru/video/31675\n",
      "http://postnauka.ru/video/37732\n",
      "http://postnauka.ru/video/35150\n",
      "http://postnauka.ru/video/36253\n",
      "http://postnauka.ru/video/14293\n"
     ]
    },
    {
     "data": {
      "text/html": [
       "<h3>Политика</h3>"
      ],
      "text/plain": [
       "<IPython.core.display.HTML object>"
      ]
     },
     "metadata": {},
     "output_type": "display_data"
    },
    {
     "name": "stdout",
     "output_type": "stream",
     "text": [
      "Алексей_Козырев Илья_Женин Кирилл_Мартынов Кирилл_Титаев Иван_Болдырев Дина_Гусейнова Дмитрий_Бовыкин Владимир_Малахов Денис_Новак Петр_Резвых \n",
      "http://postnauka.ru/video/36581\n",
      "http://postnauka.ru/video/12371\n",
      "http://postnauka.ru/video/19574\n",
      "http://postnauka.ru/video/31688\n",
      "http://postnauka.ru/video/12738\n",
      "http://postnauka.ru/video/3418\n",
      "http://postnauka.ru/video/42423\n",
      "http://postnauka.ru/video/5198\n",
      "http://postnauka.ru/video/2526\n",
      "http://postnauka.ru/video/32906\n"
     ]
    },
    {
     "data": {
      "text/html": [
       "<h3>Язык</h3>"
      ],
      "text/plain": [
       "<IPython.core.display.HTML object>"
      ]
     },
     "metadata": {},
     "output_type": "display_data"
    },
    {
     "name": "stdout",
     "output_type": "stream",
     "text": [
      "Александр_Пиперски Владимир_Спиридонов Дмитрий_Добровольский Надежда_Онипенко Светлана_Евграфова Борис_Иомдин Петр_Аркадьев Анатолий_Баранов Алексей_Шмелев Вера_Подлесская \n",
      "http://postnauka.ru/video/36272\n",
      "http://postnauka.ru/video/56616\n",
      "http://postnauka.ru/video/50793\n",
      "http://postnauka.ru/video/1898\n",
      "http://postnauka.ru/video/48960\n",
      "http://postnauka.ru/video/57524\n",
      "http://postnauka.ru/video/46559\n",
      "http://postnauka.ru/video/51499\n",
      "http://postnauka.ru/video/56829\n",
      "http://postnauka.ru/video/55002\n"
     ]
    },
    {
     "data": {
      "text/html": [
       "<h3>Обществознание</h3>"
      ],
      "text/plain": [
       "<IPython.core.display.HTML object>"
      ]
     },
     "metadata": {},
     "output_type": "display_data"
    },
    {
     "name": "stdout",
     "output_type": "stream",
     "text": [
      "Михаил_Соколов Галина_Зеленина Василий_Жарков Екатерина_Лапина-Кратасюк Виктор_Вахштайн Вера_Мильчина Лев_Беклемишев Екатерина_Щербакова Армен_Сергеев Михаил_Маяцкий \n",
      "http://postnauka.ru/video/12083\n",
      "http://postnauka.ru/video/9997\n",
      "http://postnauka.ru/video/11634\n",
      "http://postnauka.ru/video/55533\n",
      "http://postnauka.ru/video/30265\n",
      "http://postnauka.ru/video/54742\n",
      "http://postnauka.ru/video/22079\n",
      "http://postnauka.ru/video/25292\n",
      "http://postnauka.ru/video/48624\n",
      "http://postnauka.ru/video/51203\n"
     ]
    },
    {
     "data": {
      "text/html": [
       "<h3>Технологии будущего</h3>"
      ],
      "text/plain": [
       "<IPython.core.display.HTML object>"
      ]
     },
     "metadata": {},
     "output_type": "display_data"
    },
    {
     "name": "stdout",
     "output_type": "stream",
     "text": [
      "ПостНаука Алексей_Лебедев Александр_Сафонов Оксана_Запорожец Александр_Тормасов Елена_Брызгалина Дарья_Радченко Евгений_Хоров Дэвид_Кларк Деметрис_Зейналипур \n",
      "http://postnauka.ru/video/12515\n",
      "http://postnauka.ru/video/13742\n",
      "http://postnauka.ru/video/7068\n",
      "http://postnauka.ru/video/17604\n",
      "http://postnauka.ru/video/47301\n",
      "http://postnauka.ru/video/29812\n",
      "http://postnauka.ru/video/3422\n",
      "http://postnauka.ru/video/8313\n",
      "http://postnauka.ru/video/7541\n",
      "http://postnauka.ru/video/30026\n"
     ]
    },
    {
     "data": {
      "text/html": [
       "<h3>Медицина</h3>"
      ],
      "text/plain": [
       "<IPython.core.display.HTML object>"
      ]
     },
     "metadata": {},
     "output_type": "display_data"
    },
    {
     "name": "stdout",
     "output_type": "stream",
     "text": [
      "Константин_Анохин Алексей_Алексеев Ярослав_Ашихмин Алла_Ножевникова Вера_Ижевская Андрей_Лукашов Владимир_Бобровников Александр_Васильев Сергей_Румянцев Алексей_Чжао \n",
      "http://postnauka.ru/video/54325\n",
      "http://postnauka.ru/video/2541\n",
      "http://postnauka.ru/video/51384\n",
      "http://postnauka.ru/video/12974\n",
      "http://postnauka.ru/video/9994\n",
      "http://postnauka.ru/video/8953\n",
      "http://postnauka.ru/video/44263\n",
      "http://postnauka.ru/video/55539\n",
      "http://postnauka.ru/video/5179\n",
      "http://postnauka.ru/video/27925\n"
     ]
    },
    {
     "data": {
      "text/html": [
       "<h3>Информатика</h3>"
      ],
      "text/plain": [
       "<IPython.core.display.HTML object>"
      ]
     },
     "metadata": {},
     "output_type": "display_data"
    },
    {
     "name": "stdout",
     "output_type": "stream",
     "text": [
      "Виктор_Вахштайн Дмитрий_Ветров Светлана_Баньковская Леонид_Иомдин Рафаэль_Арутюнян Александр_Дьяконов Сезар_Идальго Михаил_Эпштейн Дэвид_Вайнберг Джеффри_Шнапп \n",
      "http://postnauka.ru/video/32901\n",
      "http://postnauka.ru/video/11246\n",
      "http://postnauka.ru/video/55303\n",
      "http://postnauka.ru/video/49258\n",
      "http://postnauka.ru/video/3645\n",
      "http://postnauka.ru/video/37984\n",
      "http://postnauka.ru/video/53575\n",
      "http://postnauka.ru/video/11640\n",
      "http://postnauka.ru/video/32669\n",
      "http://postnauka.ru/video/48493\n"
     ]
    },
    {
     "data": {
      "text/html": [
       "<h3>Математика</h3>"
      ],
      "text/plain": [
       "<IPython.core.display.HTML object>"
      ]
     },
     "metadata": {},
     "output_type": "display_data"
    },
    {
     "name": "stdout",
     "output_type": "stream",
     "text": [
      "Илья_Щуров Александр_Жаворонков Иван_Оселедец Владимир_Кузнецов Станислав_Протасов Елена_Гороховская Александр_Жданов Максим_Таланов Игорь_Петров Владимир_Редько \n",
      "http://postnauka.ru/video/52738\n",
      "http://postnauka.ru/video/42416\n",
      "http://postnauka.ru/video/34964\n",
      "http://postnauka.ru/video/2531\n",
      "http://postnauka.ru/video/15341\n",
      "http://postnauka.ru/video/2947\n",
      "http://postnauka.ru/video/37976\n",
      "http://postnauka.ru/video/31671\n",
      "http://postnauka.ru/video/3651\n",
      "http://postnauka.ru/video/9865\n"
     ]
    },
    {
     "data": {
      "text/html": [
       "<h3>История</h3>"
      ],
      "text/plain": [
       "<IPython.core.display.HTML object>"
      ]
     },
     "metadata": {},
     "output_type": "display_data"
    },
    {
     "name": "stdout",
     "output_type": "stream",
     "text": [
      "Гасан_Гусейнов Алексей_Муравьёв Сергей_Неклюдов Олег_Воскобойников Мария_Штейнман Олег_Лекманов Ивар_Максутов Владимир_Емельянов Александр_Доброхотов Иван_Ладынин \n",
      "http://postnauka.ru/video/3387\n",
      "http://postnauka.ru/video/9429\n",
      "http://postnauka.ru/video/11034\n",
      "http://postnauka.ru/video/12527\n",
      "http://postnauka.ru/video/10751\n",
      "http://postnauka.ru/video/5876\n",
      "http://postnauka.ru/video/10477\n",
      "http://postnauka.ru/video/10779\n",
      "http://postnauka.ru/video/2524\n",
      "http://postnauka.ru/video/49203\n"
     ]
    },
    {
     "data": {
      "text/html": [
       "<h3>Лингвистика</h3>"
      ],
      "text/plain": [
       "<IPython.core.display.HTML object>"
      ]
     },
     "metadata": {},
     "output_type": "display_data"
    },
    {
     "name": "stdout",
     "output_type": "stream",
     "text": [
      "Владимир_Плунгян Андрей_Кибрик Игорь_Исаев Кирилл_Бабаев Илья_Иткин Григорий_Крейдлин Владимир_Беликов Мира_Бергельсон Евгений_Зуев Светлана_Бурлак \n",
      "http://postnauka.ru/video/10773\n",
      "http://postnauka.ru/video/8964\n",
      "http://postnauka.ru/video/13041\n",
      "http://postnauka.ru/video/48114\n",
      "http://postnauka.ru/video/6609\n",
      "http://postnauka.ru/video/15343\n",
      "http://postnauka.ru/video/51171\n",
      "http://postnauka.ru/video/14284\n",
      "http://postnauka.ru/video/57879\n",
      "http://postnauka.ru/video/40001\n"
     ]
    },
    {
     "data": {
      "text/html": [
       "<h3>Психология</h3>"
      ],
      "text/plain": [
       "<IPython.core.display.HTML object>"
      ]
     },
     "metadata": {},
     "output_type": "display_data"
    },
    {
     "name": "stdout",
     "output_type": "stream",
     "text": [
      "Фуад_Алескеров Олег_Хлевнюк Алексей_Белянин Виктор_Полтерович Сергей_Гуриев Сергей_Бобылев Сергей_Пекарский Владимир_Гимпельсон Александр_Аузан Сергей_Афонцев \n",
      "http://postnauka.ru/video/3605\n",
      "http://postnauka.ru/video/10380\n",
      "http://postnauka.ru/video/7781\n",
      "http://postnauka.ru/video/31684\n",
      "http://postnauka.ru/video/3627\n",
      "http://postnauka.ru/video/5882\n",
      "http://postnauka.ru/video/13152\n",
      "http://postnauka.ru/video/28278\n",
      "http://postnauka.ru/video/9389\n",
      "http://postnauka.ru/video/5465\n"
     ]
    },
    {
     "data": {
      "text/html": [
       "<h3>Генетика</h3>"
      ],
      "text/plain": [
       "<IPython.core.display.HTML object>"
      ]
     },
     "metadata": {},
     "output_type": "display_data"
    },
    {
     "name": "stdout",
     "output_type": "stream",
     "text": [
      "Евгений_Шеваль Константин_Северинов Максим_Франк-Каменецкий Антон_Буздин Петр_Федичев Сергей_Киселев Светлана_Боринская Евгений_Куликов Андрей_Летаров Алексей_Кондрашов \n",
      "http://postnauka.ru/video/5915\n",
      "http://postnauka.ru/video/19436\n",
      "http://postnauka.ru/video/10754\n",
      "http://postnauka.ru/video/9854\n",
      "http://postnauka.ru/video/17051\n",
      "http://postnauka.ru/video/5390\n",
      "http://postnauka.ru/video/10475\n",
      "http://postnauka.ru/video/35051\n",
      "http://postnauka.ru/video/11628\n",
      "http://postnauka.ru/video/37537\n"
     ]
    },
    {
     "data": {
      "text/html": [
       "<h3>Наука и образование</h3>"
      ],
      "text/plain": [
       "<IPython.core.display.HTML object>"
      ]
     },
     "metadata": {},
     "output_type": "display_data"
    },
    {
     "name": "stdout",
     "output_type": "stream",
     "text": [
      "Владимир_Белотелов Наталья_Ростиславлева Илья_Шкредов Анна_Дыбо Евгений_Николаев Борис_Миркин Владимир_Польшаков Александр_Дмитриев Михаил_Эльдаров Рой_Глаубер \n",
      "http://postnauka.ru/video/2973\n",
      "http://postnauka.ru/video/31198\n",
      "http://postnauka.ru/video/31200\n",
      "http://postnauka.ru/video/55756\n",
      "http://postnauka.ru/video/51380\n",
      "http://postnauka.ru/video/10473\n",
      "http://postnauka.ru/video/40889\n",
      "http://postnauka.ru/video/49445\n",
      "http://postnauka.ru/video/36221\n",
      "http://postnauka.ru/video/26607\n"
     ]
    },
    {
     "data": {
      "text/html": [
       "<h3>Фоновая тема</h3>"
      ],
      "text/plain": [
       "<IPython.core.display.HTML object>"
      ]
     },
     "metadata": {},
     "output_type": "display_data"
    },
    {
     "name": "stdout",
     "output_type": "stream",
     "text": [
      "Мария_Фаликман Михаил_Соколов Виталий_Куренной Михаил_Гельфанд Михаил_Алексеевский Александр_Филиппов Алексей_Миллер Елена_Брызгалина Алексей_Маслов Алексей_Акимов \n",
      "http://postnauka.ru/video/5602\n",
      "http://postnauka.ru/video/43669\n",
      "http://postnauka.ru/video/51184\n",
      "http://postnauka.ru/video/49441\n",
      "http://postnauka.ru/video/21305\n",
      "http://postnauka.ru/video/42436\n",
      "http://postnauka.ru/video/42434\n",
      "http://postnauka.ru/video/56827\n",
      "http://postnauka.ru/video/52553\n",
      "http://postnauka.ru/video/51365\n"
     ]
    }
   ],
   "source": [
    "# Ваш код\n",
    "# Ваш код\n",
    "for i, theme in enumerate(topic_labels):\n",
    "    display(HTML(\"<h3>%s</h3>\" % theme))\n",
    "    for j in range(10):\n",
    "        print(tokens[model.topic_names[i]][j]),\n",
    "    print('')\n",
    "    for k in range(10):\n",
    "        print(theta.columns[prob_doc_theme_sorted_indices[i,k]])"
   ]
  },
  {
   "cell_type": "markdown",
   "metadata": {},
   "source": [
    "##### Заключение"
   ]
  },
  {
   "cell_type": "markdown",
   "metadata": {},
   "source": [
    "В этом Peer Review мы познакомились с базовыми возможностями библиотеки BigARTM и с методами визуализации тематических моделей. Визуализация тематических моделей - это широкая и активно развивающаяся область научных исследований. Мы рассмотрели только самые простые приемы. Желающие могут попробовать применить [Serendip](http://vep.cs.wisc.edu/serendip/#serendipHero), разработанный в  University of Wisconsin-Madison, к построенной модели. Эта библиотека позволяет максимально полно охарактеризовать темы и написана для языка python. \n",
    "\n",
    "Сделав задание, вы можете выбрать в навигаторе наиболее интересную для вас тему и посмотреть видеолекции :) На Постнауке очень много интересных материалов. "
   ]
  }
 ],
 "metadata": {
  "kernelspec": {
   "display_name": "Python 2",
   "language": "python",
   "name": "python2"
  },
  "language_info": {
   "codemirror_mode": {
    "name": "ipython",
    "version": 2
   },
   "file_extension": ".py",
   "mimetype": "text/x-python",
   "name": "python",
   "nbconvert_exporter": "python",
   "pygments_lexer": "ipython2",
   "version": "2.7.15"
  }
 },
 "nbformat": 4,
 "nbformat_minor": 1
}
