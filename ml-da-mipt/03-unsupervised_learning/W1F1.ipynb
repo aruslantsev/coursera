{
 "cells": [
  {
   "cell_type": "code",
   "execution_count": 1,
   "metadata": {
    "ExecuteTime": {
     "end_time": "2019-04-19T12:10:36.182252Z",
     "start_time": "2019-04-19T12:10:35.441096Z"
    }
   },
   "outputs": [],
   "source": [
    "import pandas as pd\n",
    "import numpy as np\n",
    "from sklearn.cluster import MeanShift"
   ]
  },
  {
   "cell_type": "code",
   "execution_count": 16,
   "metadata": {
    "ExecuteTime": {
     "end_time": "2019-04-19T13:03:51.209354Z",
     "start_time": "2019-04-19T13:03:46.742830Z"
    },
    "scrolled": true
   },
   "outputs": [],
   "source": [
    "data = pd.read_csv('checkins.dat', sep='|', header=None)\n",
    "# data['id'] = data['id'].astype('int') # .loc[0, :].drop(axis=1) #['latitude'].map(lambda x: np.nan if x == ' ' else x)\n",
    "for column in range(4):\n",
    "    data[column] = pd.to_numeric(data[column], errors='coerce')\n",
    "\n",
    "data=data.dropna().drop([0, 1, 2, 5], axis=1)"
   ]
  },
  {
   "cell_type": "code",
   "execution_count": 17,
   "metadata": {
    "ExecuteTime": {
     "end_time": "2019-04-19T13:03:51.272899Z",
     "start_time": "2019-04-19T13:03:51.214222Z"
    },
    "scrolled": true
   },
   "outputs": [
    {
     "data": {
      "text/plain": [
       "3    396634\n",
       "4    396634\n",
       "dtype: int64"
      ]
     },
     "execution_count": 17,
     "metadata": {},
     "output_type": "execute_result"
    }
   ],
   "source": [
    "data.count()"
   ]
  },
  {
   "cell_type": "code",
   "execution_count": 19,
   "metadata": {
    "ExecuteTime": {
     "end_time": "2019-04-19T13:21:53.861856Z",
     "start_time": "2019-04-19T13:14:56.650689Z"
    }
   },
   "outputs": [],
   "source": [
    "meanshift = MeanShift(n_jobs=10, bandwidth=0.1)\n",
    "clust = meanshift.fit_predict(data.head(100000))"
   ]
  },
  {
   "cell_type": "code",
   "execution_count": 81,
   "metadata": {
    "ExecuteTime": {
     "end_time": "2019-04-19T13:44:38.257168Z",
     "start_time": "2019-04-19T13:44:38.230744Z"
    }
   },
   "outputs": [],
   "source": [
    "numbers = pd.Series(clust).value_counts()\n",
    "idx = numbers[numbers > 15].index\n",
    "centers = pd.DataFrame(meanshift.cluster_centers_)\n",
    "centers = centers.loc[idx, :].copy()\n",
    "centers.columns = ['latitude', 'longitude']"
   ]
  },
  {
   "cell_type": "code",
   "execution_count": 82,
   "metadata": {
    "ExecuteTime": {
     "end_time": "2019-04-19T13:44:38.727690Z",
     "start_time": "2019-04-19T13:44:38.717590Z"
    }
   },
   "outputs": [],
   "source": [
    "top_centers = np.array([\n",
    "[33.751277, -118.188740], # (Los Angeles)\n",
    "[25.867736, -80.324116], # (Miami)\n",
    "[51.503016, -0.075479], # (London)\n",
    "[52.378894, 4.885084], # (Amsterdam)\n",
    "[39.366487, 117.036146], # (Beijing)\n",
    "[-33.868457, 151.205134] # (Sydney)\n",
    "])"
   ]
  },
  {
   "cell_type": "code",
   "execution_count": 83,
   "metadata": {
    "ExecuteTime": {
     "end_time": "2019-04-19T13:44:43.305920Z",
     "start_time": "2019-04-19T13:44:39.355944Z"
    }
   },
   "outputs": [],
   "source": [
    "def dist(x, y):\n",
    "    return (x[0] - y[0])**2 + ((x[1]) - y[1])**2\n",
    "\n",
    "for i in range(top_centers.shape[0]):\n",
    "    centers[i] = 0.\n",
    "\n",
    "for i in centers.index:\n",
    "    for j in range(top_centers.shape[0]):\n",
    "        centers.at[i, j] = dist(centers.loc[i, ['latitude', 'longitude']].values, top_centers[j, :])\n",
    "        \n",
    "centers['dist'] = 0.\n",
    "for i in centers.index:\n",
    "    centers.at[i, 'dist'] = np.min(centers.loc[i, range(top_centers.shape[0])])"
   ]
  },
  {
   "cell_type": "code",
   "execution_count": 84,
   "metadata": {
    "ExecuteTime": {
     "end_time": "2019-04-19T13:44:48.471383Z",
     "start_time": "2019-04-19T13:44:48.462758Z"
    }
   },
   "outputs": [
    {
     "name": "stdout",
     "output_type": "stream",
     "text": [
      "[[-33.86063043 151.20477593]]\n"
     ]
    }
   ],
   "source": [
    "ans = centers.sort_values(by='dist').head(1)[['latitude', 'longitude']].values\n",
    "print ans"
   ]
  }
 ],
 "metadata": {
  "kernelspec": {
   "display_name": "Python 2",
   "language": "python",
   "name": "python2"
  },
  "language_info": {
   "codemirror_mode": {
    "name": "ipython",
    "version": 2
   },
   "file_extension": ".py",
   "mimetype": "text/x-python",
   "name": "python",
   "nbconvert_exporter": "python",
   "pygments_lexer": "ipython2",
   "version": "2.7.15"
  }
 },
 "nbformat": 4,
 "nbformat_minor": 2
}
