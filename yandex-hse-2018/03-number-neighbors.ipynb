{
 "cells": [
  {
   "cell_type": "code",
   "execution_count": 19,
   "metadata": {},
   "outputs": [
    {
     "name": "stdout",
     "output_type": "stream",
     "text": [
      "1 0.73\n",
      "29 0.98\n"
     ]
    }
   ],
   "source": [
    "import pandas\n",
    "import numpy as np\n",
    "from sklearn.neighbors import KNeighborsClassifier\n",
    "from sklearn.model_selection import KFold\n",
    "from sklearn.model_selection import cross_val_score\n",
    "from sklearn.preprocessing import scale\n",
    "\n",
    "data = pandas.read_csv('wine.data.txt')\n",
    "X = data.drop(['Class'], axis=1)\n",
    "y = data['Class']\n",
    "\n",
    "kf = KFold(n_splits=5, shuffle=True, random_state=42)\n",
    "means_ns = list()\n",
    "for k in range(1, 51):\n",
    "    knc = KNeighborsClassifier(n_neighbors=k)\n",
    "    score = cross_val_score(estimator = knc, cv = kf, X = X, y = y, scoring = 'accuracy')\n",
    "    means_ns.append(score.mean())\n",
    "max_ns = max(means_ns)\n",
    "num_ns = 0\n",
    "for i in range (50):\n",
    "    if (means_ns[i] == max_ns):\n",
    "        num_ns = i\n",
    "num_ns += 1\n",
    "print(num_ns, \"%.2f\" % max_ns)\n",
    "\n",
    "means_s = list()\n",
    "X_scaled = scale(X)\n",
    "for k in range(1, 51):\n",
    "    knc = KNeighborsClassifier(n_neighbors=k)\n",
    "    score = cross_val_score(estimator = knc, cv = kf, X = X_scaled, y = y, scoring = 'accuracy')\n",
    "    means_s.append(score.mean())\n",
    "max_s = max(means_s)\n",
    "num_s = 0\n",
    "for i in range (50):\n",
    "    if (means_s[i] == max_s):\n",
    "        num_s = i\n",
    "num_s += 1\n",
    "print(num_s, \"%.2f\" % max_s)"
   ]
  },
  {
   "cell_type": "code",
   "execution_count": null,
   "metadata": {},
   "outputs": [],
   "source": []
  }
 ],
 "metadata": {
  "kernelspec": {
   "display_name": "Python 3",
   "language": "python",
   "name": "python3"
  },
  "language_info": {
   "codemirror_mode": {
    "name": "ipython",
    "version": 3
   },
   "file_extension": ".py",
   "mimetype": "text/x-python",
   "name": "python",
   "nbconvert_exporter": "python",
   "pygments_lexer": "ipython3",
   "version": "3.6.6"
  }
 },
 "nbformat": 4,
 "nbformat_minor": 2
}
