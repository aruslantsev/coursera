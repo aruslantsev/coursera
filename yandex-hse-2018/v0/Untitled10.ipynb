{
 "cells": [
  {
   "cell_type": "code",
   "execution_count": 2,
   "metadata": {},
   "outputs": [],
   "source": [
    "import pandas as pd\n",
    "import numpy as np\n",
    "import sklearn\n",
    "from sklearn.decomposition import PCA\n",
    "from numpy import corrcoef\n"
   ]
  },
  {
   "cell_type": "code",
   "execution_count": 35,
   "metadata": {},
   "outputs": [
    {
     "name": "stdout",
     "output_type": "stream",
     "text": [
      "[0.73897118 0.11007169 0.04995088 0.0287492  0.02215448 0.01931577\n",
      " 0.00674853 0.00614091 0.00320594 0.00305611]\n",
      "[[1.         0.90965222]\n",
      " [0.90965222 1.        ]]\n",
      "V\n"
     ]
    }
   ],
   "source": [
    "data = pd.read_csv('close_prices.csv')\n",
    "data=data.loc[:,'AXP':]\n",
    "mypca = PCA(n_components=10)\n",
    "mypca.fit(data)\n",
    "print(mypca.explained_variance_ratio_)\n",
    "components=pd.DataFrame(mypca.transform(data))\n",
    "comp0 = components[0]\n",
    "djia=pd.read_csv('djia_index.csv')\n",
    "dj=djia['^DJI']\n",
    "print(corrcoef(comp0,dj))\n",
    "comp=pd.Series(mypca.components_[0])\n",
    "comp0_w_top = comp.sort_values(ascending=False).head(1).index[0]\n",
    "company = data.columns[comp0_w_top]\n",
    "print(company)"
   ]
  },
  {
   "cell_type": "code",
   "execution_count": 6,
   "metadata": {},
   "outputs": [
    {
     "name": "stdout",
     "output_type": "stream",
     "text": [
      "4\n",
      "0.9096522193050238\n",
      "V\n"
     ]
    }
   ],
   "source": [
    "import pandas\n",
    "from sklearn.decomposition import PCA\n",
    "from numpy import corrcoef\n",
    "\n",
    "# 1. Загрузите данные close_prices.csv. В этом файле приведены цены акций 30 компаний на закрытии торгов за каждый\n",
    "# день периода.\n",
    "\n",
    "df = pandas.read_csv('close_prices.csv')\n",
    "X = df.loc[:, 'AXP':]\n",
    "\n",
    "# 2. На загруженных данных обучите преобразование PCA с числом компоненты равным 10. Скольких компонент хватит,\n",
    "# чтобы объяснить 90% дисперсии?\n",
    "\n",
    "pca = PCA(n_components=10)\n",
    "pca.fit(X.values)\n",
    "\n",
    "var = 0\n",
    "n_var = 0\n",
    "for v in pca.explained_variance_ratio_:\n",
    "    n_var += 1\n",
    "    var += v\n",
    "    if var >= 0.9:\n",
    "        break\n",
    "\n",
    "print(n_var)\n",
    "\n",
    "# 3. Примените построенное преобразование к исходным данным и возьмите значения первой компоненты.\n",
    "\n",
    "df_comp = pandas.DataFrame(pca.transform(X))\n",
    "comp0 = df_comp[0]\n",
    "\n",
    "# 4. Загрузите информацию об индексе Доу-Джонса из файла djia_index.csv. Чему равна корреляция Пирсона между первой\n",
    "# компонентой и индексом Доу-Джонса?\n",
    "\n",
    "df2 = pandas.read_csv('djia_index.csv')\n",
    "dji = df2['^DJI']\n",
    "corr = corrcoef(comp0, dji)\n",
    "print(corr[1, 0])\n",
    "\n",
    "# 5. Какая компания имеет наибольший вес в первой компоненте? Укажите ее название с большой буквы.\n",
    "\n",
    "comp0_w = pandas.Series(pca.components_[0])\n",
    "comp0_w_top = comp0_w.sort_values(ascending=False).head(1).index[0]\n",
    "company = X.columns[comp0_w_top]\n",
    "print(company)"
   ]
  },
  {
   "cell_type": "code",
   "execution_count": 21,
   "metadata": {},
   "outputs": [
    {
     "data": {
      "text/plain": [
       "array([[ 76.440002, 117.510002,  85.029999, ...,  47.98    ,  76.419998,\n",
       "         87.75    ],\n",
       "       [ 76.07    , 119.      ,  85.110001, ...,  47.27    ,  75.75    ,\n",
       "         87.360001],\n",
       "       [ 75.989998, 118.510002,  84.5     , ...,  46.950001,  74.650002,\n",
       "         87.139999],\n",
       "       ...,\n",
       "       [ 81.5     , 153.669998,  79.970001, ...,  49.27    ,  83.290001,\n",
       "         84.760002],\n",
       "       [ 81.059998, 154.509995,  78.449997, ...,  48.950001,  82.620003,\n",
       "         84.080002],\n",
       "       [ 81.860001, 155.729996,  81.330002, ...,  49.540001,  82.529999,\n",
       "         86.07    ]])"
      ]
     },
     "execution_count": 21,
     "metadata": {},
     "output_type": "execute_result"
    }
   ],
   "source": [
    "X.values"
   ]
  },
  {
   "cell_type": "code",
   "execution_count": null,
   "metadata": {},
   "outputs": [],
   "source": []
  }
 ],
 "metadata": {
  "kernelspec": {
   "display_name": "Python 3",
   "language": "python",
   "name": "python3"
  },
  "language_info": {
   "codemirror_mode": {
    "name": "ipython",
    "version": 3
   },
   "file_extension": ".py",
   "mimetype": "text/x-python",
   "name": "python",
   "nbconvert_exporter": "python",
   "pygments_lexer": "ipython3",
   "version": "3.6.5"
  }
 },
 "nbformat": 4,
 "nbformat_minor": 2
}
