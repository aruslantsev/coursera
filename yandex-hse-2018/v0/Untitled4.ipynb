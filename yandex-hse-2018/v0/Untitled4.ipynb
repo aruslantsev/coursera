{
 "cells": [
  {
   "cell_type": "code",
   "execution_count": 1,
   "metadata": {
    "scrolled": false
   },
   "outputs": [
    {
     "name": "stderr",
     "output_type": "stream",
     "text": [
      "C:\\Users\\Andrei\\Anaconda3\\lib\\site-packages\\sklearn\\linear_model\\stochastic_gradient.py:128: FutureWarning: max_iter and tol parameters have been added in <class 'sklearn.linear_model.perceptron.Perceptron'> in 0.19. If both are left unset, they default to max_iter=5 and tol=None. If tol is not None, max_iter defaults to max_iter=1000. From 0.21, default max_iter will be 1000, and default tol will be 1e-3.\n",
      "  \"and default tol will be 1e-3.\" % type(self), FutureWarning)\n"
     ]
    },
    {
     "data": {
      "text/plain": [
       "0.18999999999999995"
      ]
     },
     "execution_count": 1,
     "metadata": {},
     "output_type": "execute_result"
    }
   ],
   "source": [
    "import numpy as np\n",
    "import pandas as pd\n",
    "import sklearn\n",
    "from sklearn.linear_model import Perceptron\n",
    "from sklearn.preprocessing import StandardScaler\n",
    "data_train = pd.read_csv('perceptron-train.csv', header=None)\n",
    "#X = pd.read_csv('perceptron-train.csv', header=None)#, usecols=list(xrange(1,2)))\n",
    "#y = pd.read_csv('perceptron-train.csv', header=None)#, usecols=list(xrange(0,1)))\n",
    "X_train=data_train.drop([0], axis=1)\n",
    "y_train=data_train[0]\n",
    "data_test = pd.read_csv('perceptron-test.csv', header=None)\n",
    "X_test=data_test.drop([0], axis=1)\n",
    "y_test=data_test[0]\n",
    "clf=Perceptron(random_state=241)\n",
    "clf.fit(X_train,y_train)\n",
    "predict=clf.predict(X_test)\n",
    "acc=sklearn.metrics.accuracy_score(y_test, predict)\n",
    "scaler=StandardScaler()\n",
    "X_train_scaled=scaler.fit_transform(X_train)\n",
    "X_test_scaled=scaler.transform(X_test)\n",
    "clf_scaled=Perceptron(random_state=241)\n",
    "clf_scaled.fit(X_train_scaled,y_train)\n",
    "predict_scaled=clf_scaled.predict(X_test_scaled)\n",
    "acc_scaled=sklearn.metrics.accuracy_score(y_test, predict_scaled)\n",
    "acc_scaled-acc"
   ]
  },
  {
   "cell_type": "code",
   "execution_count": null,
   "metadata": {},
   "outputs": [],
   "source": []
  }
 ],
 "metadata": {
  "kernelspec": {
   "display_name": "Python 3",
   "language": "python",
   "name": "python3"
  },
  "language_info": {
   "codemirror_mode": {
    "name": "ipython",
    "version": 3
   },
   "file_extension": ".py",
   "mimetype": "text/x-python",
   "name": "python",
   "nbconvert_exporter": "python",
   "pygments_lexer": "ipython3",
   "version": "3.6.5"
  }
 },
 "nbformat": 4,
 "nbformat_minor": 2
}
