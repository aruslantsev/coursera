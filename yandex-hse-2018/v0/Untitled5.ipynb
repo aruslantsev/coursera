{
 "cells": [
  {
   "cell_type": "code",
   "execution_count": 16,
   "metadata": {},
   "outputs": [
    {
     "data": {
      "text/plain": [
       "array([ 4,  5, 10])"
      ]
     },
     "execution_count": 16,
     "metadata": {},
     "output_type": "execute_result"
    }
   ],
   "source": [
    "import pandas as pd\n",
    "import sklearn\n",
    "from sklearn.svm import SVC\n",
    "data_train = pd.read_csv('svm-data.csv', header=None)\n",
    "X_train=data_train.drop([0], axis=1)\n",
    "y_train=data_train[0]\n",
    "mysvc=SVC(C=100000, random_state=241,kernel='linear')\n",
    "mysvc.fit(X_train, y_train)\n",
    "#print(y_train)\n",
    "#mysvc.predict(X_train)\n",
    "1+mysvc.support_"
   ]
  },
  {
   "cell_type": "code",
   "execution_count": null,
   "metadata": {},
   "outputs": [],
   "source": []
  }
 ],
 "metadata": {
  "kernelspec": {
   "display_name": "Python 3",
   "language": "python",
   "name": "python3"
  },
  "language_info": {
   "codemirror_mode": {
    "name": "ipython",
    "version": 3
   },
   "file_extension": ".py",
   "mimetype": "text/x-python",
   "name": "python",
   "nbconvert_exporter": "python",
   "pygments_lexer": "ipython3",
   "version": "3.6.5"
  }
 },
 "nbformat": 4,
 "nbformat_minor": 2
}
