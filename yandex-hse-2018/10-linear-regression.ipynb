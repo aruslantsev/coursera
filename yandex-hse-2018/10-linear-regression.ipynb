{
 "cells": [
  {
   "cell_type": "code",
   "execution_count": 33,
   "metadata": {},
   "outputs": [
    {
     "name": "stdout",
     "output_type": "stream",
     "text": [
      "56552.35 37190.87\n"
     ]
    }
   ],
   "source": [
    "import pandas\n",
    "from sklearn.feature_extraction.text import TfidfVectorizer\n",
    "from sklearn.linear_model import Ridge\n",
    "from sklearn.feature_extraction import DictVectorizer\n",
    "from scipy.sparse import hstack\n",
    "\n",
    "data_train = pandas.read_csv('salary-train.csv')\n",
    "data_test = pandas.read_csv('salary-test-mini.csv')\n",
    "\n",
    "def prepare_data(data):\n",
    "    data = data.replace('[^a-zA-Z0-9]', ' ', regex = True)\n",
    "    data['FullDescription'] = data['FullDescription'].map(lambda x: x.lower())\n",
    "    data['LocationNormalized'] = data['LocationNormalized'].map(lambda x: x.lower())\n",
    "    data['LocationNormalized'].fillna('nan', inplace = True)\n",
    "    data['ContractTime'].fillna('nan', inplace = True)\n",
    "    return data\n",
    "\n",
    "data_train = prepare_data(data_train)\n",
    "data_test = prepare_data(data_test)\n",
    "\n",
    "tfidf = TfidfVectorizer(min_df = 5)\n",
    "v_dict = DictVectorizer()\n",
    "X_train_descr = tfidf.fit_transform(data_train['FullDescription'])\n",
    "X_train_dict = v_dict.fit_transform(data_train[['LocationNormalized', 'ContractTime']].to_dict('records'))\n",
    "\n",
    "X_train_vect = hstack([X_train_descr, X_train_dict])\n",
    "Y_train = data_train['SalaryNormalized']\n",
    "ridge = Ridge(alpha = 1)\n",
    "ridge.fit(X_train_vect, Y_train)\n",
    "\n",
    "X_test_descr = tfidf.transform(data_test['FullDescription'])\n",
    "X_test_dict = v_dict.transform(data_test[['LocationNormalized', 'ContractTime']].to_dict('records'))\n",
    "X_test_vect = hstack([X_test_descr, X_test_dict])\n",
    "Y_test = ridge.predict(X_test_vect)\n",
    "print('{:0.2f} {:0.2f}'.format(Y_test[0], Y_test[1]))"
   ]
  },
  {
   "cell_type": "code",
   "execution_count": 2,
   "metadata": {},
   "outputs": [],
   "source": []
  }
 ],
 "metadata": {
  "kernelspec": {
   "display_name": "Python 3",
   "language": "python",
   "name": "python3"
  },
  "language_info": {
   "codemirror_mode": {
    "name": "ipython",
    "version": 3
   },
   "file_extension": ".py",
   "mimetype": "text/x-python",
   "name": "python",
   "nbconvert_exporter": "python",
   "pygments_lexer": "ipython3",
   "version": "3.6.7"
  }
 },
 "nbformat": 4,
 "nbformat_minor": 2
}
