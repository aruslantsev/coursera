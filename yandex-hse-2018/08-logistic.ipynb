{
 "cells": [
  {
   "cell_type": "code",
   "execution_count": 23,
   "metadata": {},
   "outputs": [
    {
     "name": "stdout",
     "output_type": "stream",
     "text": [
      "Standard\n",
      "W1 = 0.288 , W2 = 0.092 , Number of iterations: 244 , k =  0.1 , C =  0.0\n",
      "Regularized\n",
      "W1 = 0.029 , W2 = 0.025 , Number of iterations: 8 , k =  0.1 , C =  10\n",
      "Big step\n",
      "W1 = 0.288 , W2 = 0.092 , Number of iterations: 32 , k =  1 , C =  0.0\n",
      "Small step\n",
      "W1 = 0.257 , W2 = 0.120 , Number of iterations: 5126 , k =  0.001 , C =  0.0\n",
      "Regression score: 0.927 Regularized regression score: 0.936\n"
     ]
    }
   ],
   "source": [
    "import pandas\n",
    "import math\n",
    "from sklearn.metrics import roc_auc_score\n",
    "\n",
    "data = pandas.read_csv('data-logistic.csv', header=None)\n",
    "y = data[0]\n",
    "X = data.drop([0], axis = 1)\n",
    "\n",
    "def nw1(w1, w2, X, y, k, C):\n",
    "    l = y.shape[0]\n",
    "    sum = 0\n",
    "    for i in range(l):\n",
    "        sum += y[i] * X[1][i] * (1 - 1 / (1 + math.exp(-y[i] * (w1 * X[1][i] + w2 * X[2][i]))))\n",
    "    return w1 + k / l * sum - k * C * w1\n",
    "\n",
    "def nw2(w1, w2, X, y, k, C):\n",
    "    l = y.shape[0]\n",
    "    sum = 0\n",
    "    for i in range(l):\n",
    "        sum += y[i] * X[2][i] * (1 - 1 / (1 + math.exp(-y[i] * (w1 * X[1][i] + w2 * X[2][i]))))\n",
    "    return w2 + k / l * sum - k * C * w2\n",
    "\n",
    "def lr(X, y, C = 0.0, start = [0, 0], k = 0.1):\n",
    "    max_iter = 10000\n",
    "    eps = 1e-5\n",
    "    w1 = start[0]\n",
    "    w2 = start[1]\n",
    "    dw = 10 * eps\n",
    "    \n",
    "    i = 0\n",
    "    while ((i < max_iter) and (dw > eps)):\n",
    "        i += 1\n",
    "        w1n = nw1(w1, w2, X, y, k, C)\n",
    "        w2n = nw2(w1, w2, X, y, k, C)\n",
    "        dw = ((w1n - w1)**2 + (w2n - w2)**2)**0.5\n",
    "        w1 = w1n\n",
    "        w2 = w2n\n",
    "    \n",
    "    print('W1 =', \"%.3f\" % w1, ', W2 =', \"%.3f\" % w2, ', Number of iterations:', i, ', k = ', k, ', C = ', C)\n",
    "    return [w1, w2]\n",
    "\n",
    "def scores(w1, w2, X):\n",
    "    score = list()\n",
    "    for i in range(X.shape[0]):\n",
    "        score.append(1 / (1 + math.exp(- w1 * X[1][i] - w2 * X[2][i])))\n",
    "    return score\n",
    "        \n",
    "\n",
    "print('Standard')\n",
    "[w1, w2] = lr(X, y)\n",
    "print('Regularized')\n",
    "[w1r, w2r] = lr(X, y, C = 10)\n",
    "print('Big step')\n",
    "lr(X, y, k = 1)\n",
    "print('Small step')\n",
    "lr(X, y, k = 0.001)\n",
    "\n",
    "y_s = pandas.Series(scores(w1, w2, X))\n",
    "y_r = pandas.Series(scores(w1r, w2r, X))\n",
    "score_st = roc_auc_score(y, y_s)\n",
    "score_reg = roc_auc_score(y, y_r)\n",
    "print('Regression score:', \"%.3f\" % score_st, 'Regularized regression score:', \"%.3f\" % score_reg)"
   ]
  },
  {
   "cell_type": "code",
   "execution_count": null,
   "metadata": {},
   "outputs": [],
   "source": []
  }
 ],
 "metadata": {
  "kernelspec": {
   "display_name": "Python 3",
   "language": "python",
   "name": "python3"
  },
  "language_info": {
   "codemirror_mode": {
    "name": "ipython",
    "version": 3
   },
   "file_extension": ".py",
   "mimetype": "text/x-python",
   "name": "python",
   "nbconvert_exporter": "python",
   "pygments_lexer": "ipython3",
   "version": "3.6.6"
  }
 },
 "nbformat": 4,
 "nbformat_minor": 2
}
