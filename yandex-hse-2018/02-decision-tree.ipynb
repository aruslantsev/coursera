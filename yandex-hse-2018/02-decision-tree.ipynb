{
 "cells": [
  {
   "cell_type": "code",
   "execution_count": 31,
   "metadata": {},
   "outputs": [
    {
     "name": "stdout",
     "output_type": "stream",
     "text": [
      "['Fare' 'Sex']\n"
     ]
    }
   ],
   "source": [
    "import pandas\n",
    "import numpy as np\n",
    "from sklearn.tree import DecisionTreeClassifier\n",
    "\n",
    "data=pandas.read_csv('titanic.csv',index_col='PassengerId')\n",
    "# X=data[['Pclass', 'Fare', 'Age', 'Sex', 'Survived']][np.invert(np.isnan(data['Age']))]\n",
    "# x_labels = ['Pclass', 'Fare', 'Age', 'Sex']\n",
    "# X = data.loc[:, x_labels]\n",
    "x_index = X.columns\n",
    "X = data[['Pclass', 'Fare', 'Age', 'Sex', 'Survived']].dropna()\n",
    "y = X['Survived']\n",
    "#X = X.dropna()\n",
    "#y = y[X.index.values]\n",
    "X = X.drop('Survived', axis = 1)\n",
    "X['Sex'] = X['Sex'].map(lambda x: 1 if x == 'male' else 0)\n",
    "clf = DecisionTreeClassifier(random_state=241)\n",
    "clf.fit(X, y)\n",
    "importances = pandas.Series(clf.feature_importances_, index = x_index)\n",
    "print(importances.sort_values(ascending=False).head(2).index.values)"
   ]
  },
  {
   "cell_type": "code",
   "execution_count": null,
   "metadata": {},
   "outputs": [],
   "source": []
  }
 ],
 "metadata": {
  "kernelspec": {
   "display_name": "Python 3",
   "language": "python",
   "name": "python3"
  },
  "language_info": {
   "codemirror_mode": {
    "name": "ipython",
    "version": 3
   },
   "file_extension": ".py",
   "mimetype": "text/x-python",
   "name": "python",
   "nbconvert_exporter": "python",
   "pygments_lexer": "ipython3",
   "version": "3.6.6"
  }
 },
 "nbformat": 4,
 "nbformat_minor": 2
}
