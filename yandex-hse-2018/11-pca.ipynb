{
 "cells": [
  {
   "cell_type": "code",
   "execution_count": 41,
   "metadata": {},
   "outputs": [
    {
     "name": "stdout",
     "output_type": "stream",
     "text": [
      "Для описания 0.9 дисперсии требуется 4 компонент\n",
      "Корреляция Пирсона между первой компонентой и индексом Доу-Джонса равна 0.910\n",
      "Наибольший вес в первой компоненте имеет компания V\n"
     ]
    }
   ],
   "source": [
    "import pandas\n",
    "import sklearn\n",
    "from sklearn.decomposition import PCA\n",
    "import numpy\n",
    "\n",
    "data = pandas.read_csv('close_prices.csv')\n",
    "# data = data.loc[:,'AXP':]\n",
    "data = data.drop(['date'], axis = 1)\n",
    "\n",
    "pca = PCA(n_components = 10)\n",
    "pca.fit(data)\n",
    "dispmax = 0.9\n",
    "disp = 0\n",
    "i = 0\n",
    "while (disp < dispmax):\n",
    "    disp += pca.explained_variance_ratio_[i]\n",
    "    i += 1    \n",
    "print('Для описания', dispmax, 'дисперсии требуется', i, 'компонент')\n",
    "\n",
    "data_transformed = pandas.DataFrame(pca.transform(data))\n",
    "djia_data = pandas.read_csv('djia_index.csv')\n",
    "djia_data.drop(['date'], axis = 1, inplace = True)\n",
    "corr_coef = numpy.corrcoef(data_transformed[0], djia_data['^DJI'])[1][0]\n",
    "print('Корреляция Пирсона между первой компонентой и индексом Доу-Джонса равна', \"%.3f\" % corr_coef)\n",
    "\n",
    "comp = pandas.Series(pca.components_[0])\n",
    "comp.index = data.columns\n",
    "print('Наибольший вес в первой компоненте имеет компания', comp.sort_values(ascending = False).head(1).index[0])"
   ]
  },
  {
   "cell_type": "code",
   "execution_count": null,
   "metadata": {},
   "outputs": [],
   "source": []
  }
 ],
 "metadata": {
  "kernelspec": {
   "display_name": "Python 3",
   "language": "python",
   "name": "python3"
  },
  "language_info": {
   "codemirror_mode": {
    "name": "ipython",
    "version": 3
   },
   "file_extension": ".py",
   "mimetype": "text/x-python",
   "name": "python",
   "nbconvert_exporter": "python",
   "pygments_lexer": "ipython3",
   "version": "3.6.5"
  }
 },
 "nbformat": 4,
 "nbformat_minor": 2
}
