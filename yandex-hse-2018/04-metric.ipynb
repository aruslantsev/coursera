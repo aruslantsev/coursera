{
 "cells": [
  {
   "cell_type": "code",
   "execution_count": 13,
   "metadata": {},
   "outputs": [
    {
     "name": "stdout",
     "output_type": "stream",
     "text": [
      "1 -16.05\n"
     ]
    }
   ],
   "source": [
    "import pandas\n",
    "import numpy as np\n",
    "from sklearn.neighbors import KNeighborsRegressor\n",
    "from sklearn.model_selection import KFold\n",
    "from sklearn.model_selection import cross_val_score\n",
    "from sklearn.preprocessing import scale\n",
    "from sklearn.datasets import load_boston\n",
    "\n",
    "boston = load_boston()\n",
    "X = scale(boston['data'])\n",
    "y = boston['target']\n",
    "\n",
    "kf = KFold(n_splits = 5, shuffle = True, random_state = 42)\n",
    "acc = list()\n",
    "for p in np.linspace(start = 1, stop = 10, num = 200):\n",
    "    knr = KNeighborsRegressor(n_neighbors = 5, weights = 'distance', metric = 'minkowski', p = p)\n",
    "    score = cross_val_score(estimator = knr, cv = kf, X = X, y = y, scoring = 'neg_mean_squared_error')\n",
    "    acc.append(score.mean())\n",
    "max_p = max(acc)\n",
    "num = [i for i, j in enumerate(acc) if j == max_p]\n",
    "num_p = num[0] + 1\n",
    "print(num_p, np.round(max_p, decimals = 2))"
   ]
  },
  {
   "cell_type": "code",
   "execution_count": null,
   "metadata": {},
   "outputs": [],
   "source": []
  }
 ],
 "metadata": {
  "kernelspec": {
   "display_name": "Python 3",
   "language": "python",
   "name": "python3"
  },
  "language_info": {
   "codemirror_mode": {
    "name": "ipython",
    "version": 3
   },
   "file_extension": ".py",
   "mimetype": "text/x-python",
   "name": "python",
   "nbconvert_exporter": "python",
   "pygments_lexer": "ipython3",
   "version": "3.6.5"
  }
 },
 "nbformat": 4,
 "nbformat_minor": 2
}
