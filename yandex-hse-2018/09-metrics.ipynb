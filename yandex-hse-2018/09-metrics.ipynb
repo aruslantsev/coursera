{
 "cells": [
  {
   "cell_type": "code",
   "execution_count": 70,
   "metadata": {},
   "outputs": [
    {
     "name": "stdout",
     "output_type": "stream",
     "text": [
      "TP, FP, FN, TN\n",
      "43 34 59 64\n",
      "Accuracy: 0.535\n",
      "Precision: 0.558\n",
      "Recall: 0.422\n",
      "F1: 0.480\n",
      "ROC-AUC score for score_logreg : 0.719\n",
      "ROC-AUC score for score_svm : 0.709\n",
      "ROC-AUC score for score_knn : 0.635\n",
      "ROC-AUC score for score_tree : 0.692\n",
      "score_logreg\n",
      "Max precision for score_logreg : 0.630\n",
      "Max precision for score_svm : 0.623\n",
      "Max precision for score_knn : 0.607\n",
      "Max precision for score_tree : 0.652\n",
      "score_tree\n"
     ]
    }
   ],
   "source": [
    "import pandas\n",
    "import sklearn.metrics\n",
    "\n",
    "data_class = pandas.read_csv('classification.csv')\n",
    "tp = 0\n",
    "tn = 0\n",
    "fp = 0\n",
    "fn = 0\n",
    "for i in range(data_class.shape[0]):\n",
    "    if (data_class['true'][i]==data_class['pred'][i]):\n",
    "        if (data_class['pred'][i] == 1):\n",
    "            tp += 1\n",
    "        else:\n",
    "            tn += 1\n",
    "    else:\n",
    "        if (data_class['pred'][i] == 1):\n",
    "            fp += 1\n",
    "        else:\n",
    "            fn += 1\n",
    "print('TP, FP, FN, TN')\n",
    "print(tp, fp, fn, tn)\n",
    "print('Accuracy:', \"%.3f\" % sklearn.metrics.accuracy_score(data_class['true'], data_class['pred']))\n",
    "print('Precision:', \"%.3f\" % sklearn.metrics.precision_score(data_class['true'], data_class['pred']))\n",
    "print('Recall:', \"%.3f\" % sklearn.metrics.recall_score(data_class['true'], data_class['pred']))\n",
    "print('F1:', \"%.3f\" % sklearn.metrics.f1_score(data_class['true'], data_class['pred']))\n",
    "\n",
    "scores = pandas.read_csv('scores.csv')\n",
    "s = {}\n",
    "for i in scores.columns[1:]:\n",
    "    s[i] = sklearn.metrics.roc_auc_score(scores['true'], scores[i])\n",
    "    print('ROC-AUC score for', i, ':', \"%.3f\" % s[i])\n",
    "print(pandas.Series(s).sort_values(ascending = False).head(1).index[0])\n",
    "\n",
    "s = {}\n",
    "for i in scores.columns[1:]:\n",
    "    p, r, t = sklearn.metrics.precision_recall_curve(scores['true'], scores[i])\n",
    "    df = pandas.DataFrame(data = {'precision': p, 'recall': r})\n",
    "    s[i] = df[df['recall'] >= 0.7]['precision'].max()\n",
    "    print('Max precision for', i, ':', \"%.3f\" % s[i])\n",
    "print(pandas.Series(s).sort_values(ascending = False).head(1).index[0])"
   ]
  },
  {
   "cell_type": "code",
   "execution_count": null,
   "metadata": {},
   "outputs": [],
   "source": []
  }
 ],
 "metadata": {
  "kernelspec": {
   "display_name": "Python 3",
   "language": "python",
   "name": "python3"
  },
  "language_info": {
   "codemirror_mode": {
    "name": "ipython",
    "version": 3
   },
   "file_extension": ".py",
   "mimetype": "text/x-python",
   "name": "python",
   "nbconvert_exporter": "python",
   "pygments_lexer": "ipython3",
   "version": "3.6.6"
  }
 },
 "nbformat": 4,
 "nbformat_minor": 2
}
