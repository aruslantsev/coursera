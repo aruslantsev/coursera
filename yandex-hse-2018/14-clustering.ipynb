{
 "cells": [
  {
   "cell_type": "code",
   "execution_count": 157,
   "metadata": {},
   "outputs": [
    {
     "name": "stdout",
     "output_type": "stream",
     "text": [
      "Running, 1 clusters\n"
     ]
    },
    {
     "name": "stderr",
     "output_type": "stream",
     "text": [
      "C:\\Users\\Andrei\\Anaconda3\\lib\\site-packages\\skimage\\io\\_io.py:132: UserWarning: parrots_mean_1.jpg is a low contrast image\n",
      "  warn('%s is a low contrast image' % fname)\n",
      "C:\\Users\\Andrei\\Anaconda3\\lib\\site-packages\\skimage\\util\\dtype.py:122: UserWarning: Possible precision loss when converting from float64 to uint8\n",
      "  .format(dtypeobj_in, dtypeobj_out))\n",
      "C:\\Users\\Andrei\\Anaconda3\\lib\\site-packages\\skimage\\io\\_io.py:132: UserWarning: parrots_median_1.jpg is a low contrast image\n",
      "  warn('%s is a low contrast image' % fname)\n"
     ]
    },
    {
     "name": "stdout",
     "output_type": "stream",
     "text": [
      "Running, 2 clusters\n",
      "Running, 3 clusters\n",
      "Running, 4 clusters\n",
      "Running, 5 clusters\n",
      "Running, 6 clusters\n",
      "Running, 7 clusters\n",
      "Running, 8 clusters\n",
      "Running, 9 clusters\n",
      "Running, 10 clusters\n",
      "Running, 11 clusters\n",
      "Running, 12 clusters\n",
      "Running, 13 clusters\n",
      "Running, 14 clusters\n",
      "Running, 15 clusters\n",
      "Running, 16 clusters\n",
      "Running, 17 clusters\n",
      "Running, 18 clusters\n",
      "Running, 19 clusters\n",
      "Running, 20 clusters\n",
      "11\n"
     ]
    }
   ],
   "source": [
    "import math\n",
    "import pandas\n",
    "import numpy as np\n",
    "from sklearn.cluster import KMeans\n",
    "from skimage.io import imread, imsave\n",
    "from skimage import img_as_float\n",
    "import pylab\n",
    "% matplotlib inline\n",
    "\n",
    "def psnr(img1, img2):\n",
    "    mse = np.mean((img1 - img2)**2)\n",
    "    return 10 * math.log10(1.0**2 / mse)\n",
    "\n",
    "max_clusters = 20\n",
    "image = img_as_float(imread('parrots.jpg'))\n",
    "# pylab.imshow(image)\n",
    "h, w, d = image.shape\n",
    "# pixels = pandas.DataFrame(image.reshape(h * w, d), columns = ['R', 'G', 'B'])\n",
    "psnrs = []\n",
    "for n_clusters in range(1, max_clusters + 1):\n",
    "    print('Running,', n_clusters, 'clusters')\n",
    "    pixels = pandas.DataFrame(image.copy().reshape(h * w, d), columns = ['R', 'G', 'B']) # np.reshape ???\n",
    "    kmeans = KMeans(n_clusters = n_clusters, init = 'k-means++', random_state = 241)\n",
    "    pixels['Cluster'] = kmeans.fit_predict(pixels)\n",
    "    means = pixels.groupby('Cluster').mean().values\n",
    "    medians = pixels.groupby('Cluster').median().values\n",
    "    img_mean = [means[i] for i in pixels['Cluster'].values]\n",
    "    img_median = [medians[i] for i in pixels['Cluster'].values]\n",
    "    img_mean = np.reshape(img_mean, (h, w, d))\n",
    "    img_median = np.reshape(img_median, (h, w, d))\n",
    "    imsave('parrots_mean_' + str(n_clusters) + '.jpg', img_mean)\n",
    "    imsave('parrots_median_' + str(n_clusters) + '.jpg', img_median)\n",
    "    psnrs.append([psnr(image, img_mean), psnr(image, img_median)])\n",
    "\n",
    "psnr_min = 20\n",
    "for i in range(max_clusters):\n",
    "    if (psnrs[i][0] > psnr_min) or (psnrs[i][1] > psnr_min):\n",
    "        print(i + 1)\n",
    "        break"
   ]
  },
  {
   "cell_type": "code",
   "execution_count": null,
   "metadata": {},
   "outputs": [],
   "source": []
  }
 ],
 "metadata": {
  "kernelspec": {
   "display_name": "Python 3",
   "language": "python",
   "name": "python3"
  },
  "language_info": {
   "codemirror_mode": {
    "name": "ipython",
    "version": 3
   },
   "file_extension": ".py",
   "mimetype": "text/x-python",
   "name": "python",
   "nbconvert_exporter": "python",
   "pygments_lexer": "ipython3",
   "version": "3.6.7"
  }
 },
 "nbformat": 4,
 "nbformat_minor": 2
}
