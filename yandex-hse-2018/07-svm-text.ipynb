{
 "cells": [
  {
   "cell_type": "code",
   "execution_count": 114,
   "metadata": {},
   "outputs": [
    {
     "name": "stdout",
     "output_type": "stream",
     "text": [
      "          1\n",
      "0   atheism\n",
      "1  atheists\n",
      "2     bible\n",
      "3       god\n",
      "4     keith\n",
      "5      moon\n",
      "6  religion\n",
      "7       sci\n",
      "8       sky\n",
      "9     space\n"
     ]
    }
   ],
   "source": [
    "import pandas\n",
    "import numpy as np\n",
    "from sklearn import datasets\n",
    "from sklearn.svm import SVC\n",
    "from sklearn.feature_extraction.text import TfidfVectorizer\n",
    "from sklearn.model_selection import GridSearchCV\n",
    "from sklearn.model_selection import KFold\n",
    "\n",
    "news = datasets.fetch_20newsgroups(subset='all', categories=['alt.atheism', 'sci.space'])\n",
    "data = news.data\n",
    "target = news.target\n",
    "\n",
    "tfidf = TfidfVectorizer()\n",
    "data_transformed = tfidf.fit_transform(data)\n",
    "\n",
    "grid = {'C': np.power(10.0, np.arange(-5, 6))}\n",
    "kf = KFold(n_splits = 5, shuffle = True, random_state = 241)\n",
    "svm = SVC(kernel = 'linear', random_state=241)\n",
    "gs = GridSearchCV(svm, grid, scoring = 'accuracy', cv = kf)\n",
    "gs.fit(data_transformed, target)\n",
    "\n",
    "C = gs.best_params_.get('C')\n",
    "svm = SVC(kernel = 'linear', random_state=241, C=C)\n",
    "svm.fit(data_transformed, target)\n",
    "\n",
    "coef = svm.coef_\n",
    "features = tfidf.get_feature_names()\n",
    "words = pandas.concat([abs(pandas.DataFrame(coef.toarray()).transpose()), pandas.DataFrame(features)], axis = 1, ignore_index = True)\n",
    "words = words.sort_values(by = [0], ascending = False)\n",
    "top = words[[1]][:10]\n",
    "print(top.sort_values(by=[1]).reset_index(drop=True))"
   ]
  },
  {
   "cell_type": "code",
   "execution_count": null,
   "metadata": {},
   "outputs": [],
   "source": []
  }
 ],
 "metadata": {
  "kernelspec": {
   "display_name": "Python 3",
   "language": "python",
   "name": "python3"
  },
  "language_info": {
   "codemirror_mode": {
    "name": "ipython",
    "version": 3
   },
   "file_extension": ".py",
   "mimetype": "text/x-python",
   "name": "python",
   "nbconvert_exporter": "python",
   "pygments_lexer": "ipython3",
   "version": "3.6.7"
  }
 },
 "nbformat": 4,
 "nbformat_minor": 2
}
